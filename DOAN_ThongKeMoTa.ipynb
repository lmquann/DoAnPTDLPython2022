{
  "nbformat": 4,
  "nbformat_minor": 0,
  "metadata": {
    "colab": {
      "name": "DOAN_ThongKeMoTa.ipynb",
      "provenance": [],
      "authorship_tag": "ABX9TyOlJDeURU6MlGhkdslK08nz",
      "include_colab_link": true
    },
    "kernelspec": {
      "name": "python3",
      "display_name": "Python 3"
    },
    "language_info": {
      "name": "python"
    }
  },
  "cells": [
    {
      "cell_type": "markdown",
      "metadata": {
        "id": "view-in-github",
        "colab_type": "text"
      },
      "source": [
        "<a href=\"https://colab.research.google.com/github/lmquann/DoAnPTDLPython2022/blob/main/DOAN_ThongKeMoTa.ipynb\" target=\"_parent\"><img src=\"https://colab.research.google.com/assets/colab-badge.svg\" alt=\"Open In Colab\"/></a>"
      ]
    },
    {
      "cell_type": "code",
      "execution_count": 1,
      "metadata": {
        "id": "2KtnfSRqUaLe"
      },
      "outputs": [],
      "source": [
        "import numpy as np \n",
        "import pandas as pd\n",
        "import seaborn as sns\n",
        "import matplotlib.pyplot as plt"
      ]
    },
    {
      "cell_type": "markdown",
      "source": [
        "Đọc dữ liệu:"
      ],
      "metadata": {
        "id": "8nTKwFXdVDkH"
      }
    },
    {
      "cell_type": "code",
      "source": [
        "df = pd.read_csv(\"/content/Inc_Exp_Data.csv\")\n",
        "df"
      ],
      "metadata": {
        "colab": {
          "base_uri": "https://localhost:8080/",
          "height": 1000
        },
        "id": "Dn2E_3DWVAXn",
        "outputId": "47e35f37-2be7-4977-bd90-2e71cb7c17be"
      },
      "execution_count": 2,
      "outputs": [
        {
          "output_type": "execute_result",
          "data": {
            "text/plain": [
              "    Mthly_HH_Income  Mthly_HH_Expense  No_of_Fly_Members  Emi_or_Rent_Amt  \\\n",
              "0              5000              8000                  3             2000   \n",
              "1              6000              7000                  2             3000   \n",
              "2             10000              4500                  2                0   \n",
              "3             10000              2000                  1                0   \n",
              "4             12500             12000                  2             3000   \n",
              "5             14000              8000                  2                0   \n",
              "6             15000             16000                  3            35000   \n",
              "7             18000             20000                  5             8000   \n",
              "8             19000              9000                  2                0   \n",
              "9             20000              9000                  4                0   \n",
              "10            20000             18000                  4             8000   \n",
              "11            22000             25000                  6            12000   \n",
              "12            23400              5000                  3                0   \n",
              "13            24000             10500                  6                0   \n",
              "14            24000             10000                  4                0   \n",
              "15            25000             12300                  3                0   \n",
              "16            25000             20000                  3             3500   \n",
              "17            25000             10000                  6                0   \n",
              "18            29000              6600                  2             2000   \n",
              "19            30000             13000                  4                0   \n",
              "20            30500             25000                  5             5000   \n",
              "21            32000             15000                  4                0   \n",
              "22            34000             19000                  6                0   \n",
              "23            34000             25000                  3             4000   \n",
              "24            35000             12000                  3                0   \n",
              "25            35000             25000                  4                0   \n",
              "26            39000              8000                  4                0   \n",
              "27            40000             10000                  4                0   \n",
              "28            42000             15000                  4                0   \n",
              "29            43000             12000                  4                0   \n",
              "30            45000             25000                  6                0   \n",
              "31            45000             40000                  6             3500   \n",
              "32            45000             10000                  2             1000   \n",
              "33            45000             22000                  4             2500   \n",
              "34            46000             25000                  5             3500   \n",
              "35            47000             15000                  7                0   \n",
              "36            50000             20000                  4                0   \n",
              "37            50500             20000                  3                0   \n",
              "38            55000             45000                  6            12000   \n",
              "39            60000             10000                  3                0   \n",
              "40            60000             50000                  6            10000   \n",
              "41            65000             20000                  4             5000   \n",
              "42            70000              9000                  2                0   \n",
              "43            80000             20000                  4                0   \n",
              "44            85000             25000                  5                0   \n",
              "45            90000             48000                  7                0   \n",
              "46            98000             25000                  5                0   \n",
              "47           100000             30000                  6                0   \n",
              "48           100000             50000                  4            20000   \n",
              "49           100000             40000                  6            10000   \n",
              "\n",
              "    Annual_HH_Income Highest_Qualified_Member  No_of_Earning_Members  \n",
              "0              64200           Under-Graduate                      1  \n",
              "1              79920               Illiterate                      1  \n",
              "2             112800           Under-Graduate                      1  \n",
              "3              97200               Illiterate                      1  \n",
              "4             147000                 Graduate                      1  \n",
              "5             196560                 Graduate                      1  \n",
              "6             167400            Post-Graduate                      1  \n",
              "7             216000                 Graduate                      1  \n",
              "8             218880           Under-Graduate                      1  \n",
              "9             220800           Under-Graduate                      2  \n",
              "10            278400           Under-Graduate                      2  \n",
              "11            279840               Illiterate                      1  \n",
              "12            292032               Illiterate                      1  \n",
              "13            316800                 Graduate                      2  \n",
              "14            244800                 Graduate                      2  \n",
              "15            246000                 Graduate                      1  \n",
              "16            261000                 Graduate                      1  \n",
              "17            258000           Under-Graduate                      3  \n",
              "18            348000                 Graduate                      1  \n",
              "19            385200                 Graduate                      1  \n",
              "20            351360           Under-Graduate                      1  \n",
              "21            445440             Professional                      1  \n",
              "22            330480             Professional                      1  \n",
              "23            469200             Professional                      1  \n",
              "24            466200                 Graduate                      1  \n",
              "25            449400             Professional                      2  \n",
              "26            556920           Under-Graduate                      1  \n",
              "27            412800           Under-Graduate                      1  \n",
              "28            488880                 Graduate                      1  \n",
              "29            619200                 Graduate                      1  \n",
              "30            523800                 Graduate                      3  \n",
              "31            507600             Professional                      2  \n",
              "32            437400            Post-Graduate                      1  \n",
              "33            610200            Post-Graduate                      1  \n",
              "34            596160                 Graduate                      1  \n",
              "35            456840             Professional                      4  \n",
              "36            570000             Professional                      1  \n",
              "37            581760             Professional                      2  \n",
              "38            600600                 Graduate                      2  \n",
              "39            590400            Post-Graduate                      1  \n",
              "40            590400                 Graduate                      1  \n",
              "41            647400               Illiterate                      2  \n",
              "42            756000                 Graduate                      1  \n",
              "43           1075200                 Graduate                      1  \n",
              "44           1142400           Under-Graduate                      2  \n",
              "45            885600            Post-Graduate                      3  \n",
              "46           1152480             Professional                      2  \n",
              "47           1404000                 Graduate                      3  \n",
              "48           1032000             Professional                      2  \n",
              "49           1320000            Post-Graduate                      1  "
            ],
            "text/html": [
              "\n",
              "  <div id=\"df-c4c1a27e-6854-452d-8387-e22a32b71b74\">\n",
              "    <div class=\"colab-df-container\">\n",
              "      <div>\n",
              "<style scoped>\n",
              "    .dataframe tbody tr th:only-of-type {\n",
              "        vertical-align: middle;\n",
              "    }\n",
              "\n",
              "    .dataframe tbody tr th {\n",
              "        vertical-align: top;\n",
              "    }\n",
              "\n",
              "    .dataframe thead th {\n",
              "        text-align: right;\n",
              "    }\n",
              "</style>\n",
              "<table border=\"1\" class=\"dataframe\">\n",
              "  <thead>\n",
              "    <tr style=\"text-align: right;\">\n",
              "      <th></th>\n",
              "      <th>Mthly_HH_Income</th>\n",
              "      <th>Mthly_HH_Expense</th>\n",
              "      <th>No_of_Fly_Members</th>\n",
              "      <th>Emi_or_Rent_Amt</th>\n",
              "      <th>Annual_HH_Income</th>\n",
              "      <th>Highest_Qualified_Member</th>\n",
              "      <th>No_of_Earning_Members</th>\n",
              "    </tr>\n",
              "  </thead>\n",
              "  <tbody>\n",
              "    <tr>\n",
              "      <th>0</th>\n",
              "      <td>5000</td>\n",
              "      <td>8000</td>\n",
              "      <td>3</td>\n",
              "      <td>2000</td>\n",
              "      <td>64200</td>\n",
              "      <td>Under-Graduate</td>\n",
              "      <td>1</td>\n",
              "    </tr>\n",
              "    <tr>\n",
              "      <th>1</th>\n",
              "      <td>6000</td>\n",
              "      <td>7000</td>\n",
              "      <td>2</td>\n",
              "      <td>3000</td>\n",
              "      <td>79920</td>\n",
              "      <td>Illiterate</td>\n",
              "      <td>1</td>\n",
              "    </tr>\n",
              "    <tr>\n",
              "      <th>2</th>\n",
              "      <td>10000</td>\n",
              "      <td>4500</td>\n",
              "      <td>2</td>\n",
              "      <td>0</td>\n",
              "      <td>112800</td>\n",
              "      <td>Under-Graduate</td>\n",
              "      <td>1</td>\n",
              "    </tr>\n",
              "    <tr>\n",
              "      <th>3</th>\n",
              "      <td>10000</td>\n",
              "      <td>2000</td>\n",
              "      <td>1</td>\n",
              "      <td>0</td>\n",
              "      <td>97200</td>\n",
              "      <td>Illiterate</td>\n",
              "      <td>1</td>\n",
              "    </tr>\n",
              "    <tr>\n",
              "      <th>4</th>\n",
              "      <td>12500</td>\n",
              "      <td>12000</td>\n",
              "      <td>2</td>\n",
              "      <td>3000</td>\n",
              "      <td>147000</td>\n",
              "      <td>Graduate</td>\n",
              "      <td>1</td>\n",
              "    </tr>\n",
              "    <tr>\n",
              "      <th>5</th>\n",
              "      <td>14000</td>\n",
              "      <td>8000</td>\n",
              "      <td>2</td>\n",
              "      <td>0</td>\n",
              "      <td>196560</td>\n",
              "      <td>Graduate</td>\n",
              "      <td>1</td>\n",
              "    </tr>\n",
              "    <tr>\n",
              "      <th>6</th>\n",
              "      <td>15000</td>\n",
              "      <td>16000</td>\n",
              "      <td>3</td>\n",
              "      <td>35000</td>\n",
              "      <td>167400</td>\n",
              "      <td>Post-Graduate</td>\n",
              "      <td>1</td>\n",
              "    </tr>\n",
              "    <tr>\n",
              "      <th>7</th>\n",
              "      <td>18000</td>\n",
              "      <td>20000</td>\n",
              "      <td>5</td>\n",
              "      <td>8000</td>\n",
              "      <td>216000</td>\n",
              "      <td>Graduate</td>\n",
              "      <td>1</td>\n",
              "    </tr>\n",
              "    <tr>\n",
              "      <th>8</th>\n",
              "      <td>19000</td>\n",
              "      <td>9000</td>\n",
              "      <td>2</td>\n",
              "      <td>0</td>\n",
              "      <td>218880</td>\n",
              "      <td>Under-Graduate</td>\n",
              "      <td>1</td>\n",
              "    </tr>\n",
              "    <tr>\n",
              "      <th>9</th>\n",
              "      <td>20000</td>\n",
              "      <td>9000</td>\n",
              "      <td>4</td>\n",
              "      <td>0</td>\n",
              "      <td>220800</td>\n",
              "      <td>Under-Graduate</td>\n",
              "      <td>2</td>\n",
              "    </tr>\n",
              "    <tr>\n",
              "      <th>10</th>\n",
              "      <td>20000</td>\n",
              "      <td>18000</td>\n",
              "      <td>4</td>\n",
              "      <td>8000</td>\n",
              "      <td>278400</td>\n",
              "      <td>Under-Graduate</td>\n",
              "      <td>2</td>\n",
              "    </tr>\n",
              "    <tr>\n",
              "      <th>11</th>\n",
              "      <td>22000</td>\n",
              "      <td>25000</td>\n",
              "      <td>6</td>\n",
              "      <td>12000</td>\n",
              "      <td>279840</td>\n",
              "      <td>Illiterate</td>\n",
              "      <td>1</td>\n",
              "    </tr>\n",
              "    <tr>\n",
              "      <th>12</th>\n",
              "      <td>23400</td>\n",
              "      <td>5000</td>\n",
              "      <td>3</td>\n",
              "      <td>0</td>\n",
              "      <td>292032</td>\n",
              "      <td>Illiterate</td>\n",
              "      <td>1</td>\n",
              "    </tr>\n",
              "    <tr>\n",
              "      <th>13</th>\n",
              "      <td>24000</td>\n",
              "      <td>10500</td>\n",
              "      <td>6</td>\n",
              "      <td>0</td>\n",
              "      <td>316800</td>\n",
              "      <td>Graduate</td>\n",
              "      <td>2</td>\n",
              "    </tr>\n",
              "    <tr>\n",
              "      <th>14</th>\n",
              "      <td>24000</td>\n",
              "      <td>10000</td>\n",
              "      <td>4</td>\n",
              "      <td>0</td>\n",
              "      <td>244800</td>\n",
              "      <td>Graduate</td>\n",
              "      <td>2</td>\n",
              "    </tr>\n",
              "    <tr>\n",
              "      <th>15</th>\n",
              "      <td>25000</td>\n",
              "      <td>12300</td>\n",
              "      <td>3</td>\n",
              "      <td>0</td>\n",
              "      <td>246000</td>\n",
              "      <td>Graduate</td>\n",
              "      <td>1</td>\n",
              "    </tr>\n",
              "    <tr>\n",
              "      <th>16</th>\n",
              "      <td>25000</td>\n",
              "      <td>20000</td>\n",
              "      <td>3</td>\n",
              "      <td>3500</td>\n",
              "      <td>261000</td>\n",
              "      <td>Graduate</td>\n",
              "      <td>1</td>\n",
              "    </tr>\n",
              "    <tr>\n",
              "      <th>17</th>\n",
              "      <td>25000</td>\n",
              "      <td>10000</td>\n",
              "      <td>6</td>\n",
              "      <td>0</td>\n",
              "      <td>258000</td>\n",
              "      <td>Under-Graduate</td>\n",
              "      <td>3</td>\n",
              "    </tr>\n",
              "    <tr>\n",
              "      <th>18</th>\n",
              "      <td>29000</td>\n",
              "      <td>6600</td>\n",
              "      <td>2</td>\n",
              "      <td>2000</td>\n",
              "      <td>348000</td>\n",
              "      <td>Graduate</td>\n",
              "      <td>1</td>\n",
              "    </tr>\n",
              "    <tr>\n",
              "      <th>19</th>\n",
              "      <td>30000</td>\n",
              "      <td>13000</td>\n",
              "      <td>4</td>\n",
              "      <td>0</td>\n",
              "      <td>385200</td>\n",
              "      <td>Graduate</td>\n",
              "      <td>1</td>\n",
              "    </tr>\n",
              "    <tr>\n",
              "      <th>20</th>\n",
              "      <td>30500</td>\n",
              "      <td>25000</td>\n",
              "      <td>5</td>\n",
              "      <td>5000</td>\n",
              "      <td>351360</td>\n",
              "      <td>Under-Graduate</td>\n",
              "      <td>1</td>\n",
              "    </tr>\n",
              "    <tr>\n",
              "      <th>21</th>\n",
              "      <td>32000</td>\n",
              "      <td>15000</td>\n",
              "      <td>4</td>\n",
              "      <td>0</td>\n",
              "      <td>445440</td>\n",
              "      <td>Professional</td>\n",
              "      <td>1</td>\n",
              "    </tr>\n",
              "    <tr>\n",
              "      <th>22</th>\n",
              "      <td>34000</td>\n",
              "      <td>19000</td>\n",
              "      <td>6</td>\n",
              "      <td>0</td>\n",
              "      <td>330480</td>\n",
              "      <td>Professional</td>\n",
              "      <td>1</td>\n",
              "    </tr>\n",
              "    <tr>\n",
              "      <th>23</th>\n",
              "      <td>34000</td>\n",
              "      <td>25000</td>\n",
              "      <td>3</td>\n",
              "      <td>4000</td>\n",
              "      <td>469200</td>\n",
              "      <td>Professional</td>\n",
              "      <td>1</td>\n",
              "    </tr>\n",
              "    <tr>\n",
              "      <th>24</th>\n",
              "      <td>35000</td>\n",
              "      <td>12000</td>\n",
              "      <td>3</td>\n",
              "      <td>0</td>\n",
              "      <td>466200</td>\n",
              "      <td>Graduate</td>\n",
              "      <td>1</td>\n",
              "    </tr>\n",
              "    <tr>\n",
              "      <th>25</th>\n",
              "      <td>35000</td>\n",
              "      <td>25000</td>\n",
              "      <td>4</td>\n",
              "      <td>0</td>\n",
              "      <td>449400</td>\n",
              "      <td>Professional</td>\n",
              "      <td>2</td>\n",
              "    </tr>\n",
              "    <tr>\n",
              "      <th>26</th>\n",
              "      <td>39000</td>\n",
              "      <td>8000</td>\n",
              "      <td>4</td>\n",
              "      <td>0</td>\n",
              "      <td>556920</td>\n",
              "      <td>Under-Graduate</td>\n",
              "      <td>1</td>\n",
              "    </tr>\n",
              "    <tr>\n",
              "      <th>27</th>\n",
              "      <td>40000</td>\n",
              "      <td>10000</td>\n",
              "      <td>4</td>\n",
              "      <td>0</td>\n",
              "      <td>412800</td>\n",
              "      <td>Under-Graduate</td>\n",
              "      <td>1</td>\n",
              "    </tr>\n",
              "    <tr>\n",
              "      <th>28</th>\n",
              "      <td>42000</td>\n",
              "      <td>15000</td>\n",
              "      <td>4</td>\n",
              "      <td>0</td>\n",
              "      <td>488880</td>\n",
              "      <td>Graduate</td>\n",
              "      <td>1</td>\n",
              "    </tr>\n",
              "    <tr>\n",
              "      <th>29</th>\n",
              "      <td>43000</td>\n",
              "      <td>12000</td>\n",
              "      <td>4</td>\n",
              "      <td>0</td>\n",
              "      <td>619200</td>\n",
              "      <td>Graduate</td>\n",
              "      <td>1</td>\n",
              "    </tr>\n",
              "    <tr>\n",
              "      <th>30</th>\n",
              "      <td>45000</td>\n",
              "      <td>25000</td>\n",
              "      <td>6</td>\n",
              "      <td>0</td>\n",
              "      <td>523800</td>\n",
              "      <td>Graduate</td>\n",
              "      <td>3</td>\n",
              "    </tr>\n",
              "    <tr>\n",
              "      <th>31</th>\n",
              "      <td>45000</td>\n",
              "      <td>40000</td>\n",
              "      <td>6</td>\n",
              "      <td>3500</td>\n",
              "      <td>507600</td>\n",
              "      <td>Professional</td>\n",
              "      <td>2</td>\n",
              "    </tr>\n",
              "    <tr>\n",
              "      <th>32</th>\n",
              "      <td>45000</td>\n",
              "      <td>10000</td>\n",
              "      <td>2</td>\n",
              "      <td>1000</td>\n",
              "      <td>437400</td>\n",
              "      <td>Post-Graduate</td>\n",
              "      <td>1</td>\n",
              "    </tr>\n",
              "    <tr>\n",
              "      <th>33</th>\n",
              "      <td>45000</td>\n",
              "      <td>22000</td>\n",
              "      <td>4</td>\n",
              "      <td>2500</td>\n",
              "      <td>610200</td>\n",
              "      <td>Post-Graduate</td>\n",
              "      <td>1</td>\n",
              "    </tr>\n",
              "    <tr>\n",
              "      <th>34</th>\n",
              "      <td>46000</td>\n",
              "      <td>25000</td>\n",
              "      <td>5</td>\n",
              "      <td>3500</td>\n",
              "      <td>596160</td>\n",
              "      <td>Graduate</td>\n",
              "      <td>1</td>\n",
              "    </tr>\n",
              "    <tr>\n",
              "      <th>35</th>\n",
              "      <td>47000</td>\n",
              "      <td>15000</td>\n",
              "      <td>7</td>\n",
              "      <td>0</td>\n",
              "      <td>456840</td>\n",
              "      <td>Professional</td>\n",
              "      <td>4</td>\n",
              "    </tr>\n",
              "    <tr>\n",
              "      <th>36</th>\n",
              "      <td>50000</td>\n",
              "      <td>20000</td>\n",
              "      <td>4</td>\n",
              "      <td>0</td>\n",
              "      <td>570000</td>\n",
              "      <td>Professional</td>\n",
              "      <td>1</td>\n",
              "    </tr>\n",
              "    <tr>\n",
              "      <th>37</th>\n",
              "      <td>50500</td>\n",
              "      <td>20000</td>\n",
              "      <td>3</td>\n",
              "      <td>0</td>\n",
              "      <td>581760</td>\n",
              "      <td>Professional</td>\n",
              "      <td>2</td>\n",
              "    </tr>\n",
              "    <tr>\n",
              "      <th>38</th>\n",
              "      <td>55000</td>\n",
              "      <td>45000</td>\n",
              "      <td>6</td>\n",
              "      <td>12000</td>\n",
              "      <td>600600</td>\n",
              "      <td>Graduate</td>\n",
              "      <td>2</td>\n",
              "    </tr>\n",
              "    <tr>\n",
              "      <th>39</th>\n",
              "      <td>60000</td>\n",
              "      <td>10000</td>\n",
              "      <td>3</td>\n",
              "      <td>0</td>\n",
              "      <td>590400</td>\n",
              "      <td>Post-Graduate</td>\n",
              "      <td>1</td>\n",
              "    </tr>\n",
              "    <tr>\n",
              "      <th>40</th>\n",
              "      <td>60000</td>\n",
              "      <td>50000</td>\n",
              "      <td>6</td>\n",
              "      <td>10000</td>\n",
              "      <td>590400</td>\n",
              "      <td>Graduate</td>\n",
              "      <td>1</td>\n",
              "    </tr>\n",
              "    <tr>\n",
              "      <th>41</th>\n",
              "      <td>65000</td>\n",
              "      <td>20000</td>\n",
              "      <td>4</td>\n",
              "      <td>5000</td>\n",
              "      <td>647400</td>\n",
              "      <td>Illiterate</td>\n",
              "      <td>2</td>\n",
              "    </tr>\n",
              "    <tr>\n",
              "      <th>42</th>\n",
              "      <td>70000</td>\n",
              "      <td>9000</td>\n",
              "      <td>2</td>\n",
              "      <td>0</td>\n",
              "      <td>756000</td>\n",
              "      <td>Graduate</td>\n",
              "      <td>1</td>\n",
              "    </tr>\n",
              "    <tr>\n",
              "      <th>43</th>\n",
              "      <td>80000</td>\n",
              "      <td>20000</td>\n",
              "      <td>4</td>\n",
              "      <td>0</td>\n",
              "      <td>1075200</td>\n",
              "      <td>Graduate</td>\n",
              "      <td>1</td>\n",
              "    </tr>\n",
              "    <tr>\n",
              "      <th>44</th>\n",
              "      <td>85000</td>\n",
              "      <td>25000</td>\n",
              "      <td>5</td>\n",
              "      <td>0</td>\n",
              "      <td>1142400</td>\n",
              "      <td>Under-Graduate</td>\n",
              "      <td>2</td>\n",
              "    </tr>\n",
              "    <tr>\n",
              "      <th>45</th>\n",
              "      <td>90000</td>\n",
              "      <td>48000</td>\n",
              "      <td>7</td>\n",
              "      <td>0</td>\n",
              "      <td>885600</td>\n",
              "      <td>Post-Graduate</td>\n",
              "      <td>3</td>\n",
              "    </tr>\n",
              "    <tr>\n",
              "      <th>46</th>\n",
              "      <td>98000</td>\n",
              "      <td>25000</td>\n",
              "      <td>5</td>\n",
              "      <td>0</td>\n",
              "      <td>1152480</td>\n",
              "      <td>Professional</td>\n",
              "      <td>2</td>\n",
              "    </tr>\n",
              "    <tr>\n",
              "      <th>47</th>\n",
              "      <td>100000</td>\n",
              "      <td>30000</td>\n",
              "      <td>6</td>\n",
              "      <td>0</td>\n",
              "      <td>1404000</td>\n",
              "      <td>Graduate</td>\n",
              "      <td>3</td>\n",
              "    </tr>\n",
              "    <tr>\n",
              "      <th>48</th>\n",
              "      <td>100000</td>\n",
              "      <td>50000</td>\n",
              "      <td>4</td>\n",
              "      <td>20000</td>\n",
              "      <td>1032000</td>\n",
              "      <td>Professional</td>\n",
              "      <td>2</td>\n",
              "    </tr>\n",
              "    <tr>\n",
              "      <th>49</th>\n",
              "      <td>100000</td>\n",
              "      <td>40000</td>\n",
              "      <td>6</td>\n",
              "      <td>10000</td>\n",
              "      <td>1320000</td>\n",
              "      <td>Post-Graduate</td>\n",
              "      <td>1</td>\n",
              "    </tr>\n",
              "  </tbody>\n",
              "</table>\n",
              "</div>\n",
              "      <button class=\"colab-df-convert\" onclick=\"convertToInteractive('df-c4c1a27e-6854-452d-8387-e22a32b71b74')\"\n",
              "              title=\"Convert this dataframe to an interactive table.\"\n",
              "              style=\"display:none;\">\n",
              "        \n",
              "  <svg xmlns=\"http://www.w3.org/2000/svg\" height=\"24px\"viewBox=\"0 0 24 24\"\n",
              "       width=\"24px\">\n",
              "    <path d=\"M0 0h24v24H0V0z\" fill=\"none\"/>\n",
              "    <path d=\"M18.56 5.44l.94 2.06.94-2.06 2.06-.94-2.06-.94-.94-2.06-.94 2.06-2.06.94zm-11 1L8.5 8.5l.94-2.06 2.06-.94-2.06-.94L8.5 2.5l-.94 2.06-2.06.94zm10 10l.94 2.06.94-2.06 2.06-.94-2.06-.94-.94-2.06-.94 2.06-2.06.94z\"/><path d=\"M17.41 7.96l-1.37-1.37c-.4-.4-.92-.59-1.43-.59-.52 0-1.04.2-1.43.59L10.3 9.45l-7.72 7.72c-.78.78-.78 2.05 0 2.83L4 21.41c.39.39.9.59 1.41.59.51 0 1.02-.2 1.41-.59l7.78-7.78 2.81-2.81c.8-.78.8-2.07 0-2.86zM5.41 20L4 18.59l7.72-7.72 1.47 1.35L5.41 20z\"/>\n",
              "  </svg>\n",
              "      </button>\n",
              "      \n",
              "  <style>\n",
              "    .colab-df-container {\n",
              "      display:flex;\n",
              "      flex-wrap:wrap;\n",
              "      gap: 12px;\n",
              "    }\n",
              "\n",
              "    .colab-df-convert {\n",
              "      background-color: #E8F0FE;\n",
              "      border: none;\n",
              "      border-radius: 50%;\n",
              "      cursor: pointer;\n",
              "      display: none;\n",
              "      fill: #1967D2;\n",
              "      height: 32px;\n",
              "      padding: 0 0 0 0;\n",
              "      width: 32px;\n",
              "    }\n",
              "\n",
              "    .colab-df-convert:hover {\n",
              "      background-color: #E2EBFA;\n",
              "      box-shadow: 0px 1px 2px rgba(60, 64, 67, 0.3), 0px 1px 3px 1px rgba(60, 64, 67, 0.15);\n",
              "      fill: #174EA6;\n",
              "    }\n",
              "\n",
              "    [theme=dark] .colab-df-convert {\n",
              "      background-color: #3B4455;\n",
              "      fill: #D2E3FC;\n",
              "    }\n",
              "\n",
              "    [theme=dark] .colab-df-convert:hover {\n",
              "      background-color: #434B5C;\n",
              "      box-shadow: 0px 1px 3px 1px rgba(0, 0, 0, 0.15);\n",
              "      filter: drop-shadow(0px 1px 2px rgba(0, 0, 0, 0.3));\n",
              "      fill: #FFFFFF;\n",
              "    }\n",
              "  </style>\n",
              "\n",
              "      <script>\n",
              "        const buttonEl =\n",
              "          document.querySelector('#df-c4c1a27e-6854-452d-8387-e22a32b71b74 button.colab-df-convert');\n",
              "        buttonEl.style.display =\n",
              "          google.colab.kernel.accessAllowed ? 'block' : 'none';\n",
              "\n",
              "        async function convertToInteractive(key) {\n",
              "          const element = document.querySelector('#df-c4c1a27e-6854-452d-8387-e22a32b71b74');\n",
              "          const dataTable =\n",
              "            await google.colab.kernel.invokeFunction('convertToInteractive',\n",
              "                                                     [key], {});\n",
              "          if (!dataTable) return;\n",
              "\n",
              "          const docLinkHtml = 'Like what you see? Visit the ' +\n",
              "            '<a target=\"_blank\" href=https://colab.research.google.com/notebooks/data_table.ipynb>data table notebook</a>'\n",
              "            + ' to learn more about interactive tables.';\n",
              "          element.innerHTML = '';\n",
              "          dataTable['output_type'] = 'display_data';\n",
              "          await google.colab.output.renderOutput(dataTable, element);\n",
              "          const docLink = document.createElement('div');\n",
              "          docLink.innerHTML = docLinkHtml;\n",
              "          element.appendChild(docLink);\n",
              "        }\n",
              "      </script>\n",
              "    </div>\n",
              "  </div>\n",
              "  "
            ]
          },
          "metadata": {},
          "execution_count": 2
        }
      ]
    },
    {
      "cell_type": "markdown",
      "source": [
        "**Tiến hành phân tích thông kê mô tả tập dữ liệu Inc_Exp_Data**"
      ],
      "metadata": {
        "id": "9XytfZX-czgV"
      }
    },
    {
      "cell_type": "markdown",
      "source": [
        "Giải thích các cụm từ: \n",
        "\n",
        "+ Mthly_HH_Income: Thu nhập của hộ gia đình hàng tháng\n",
        "\n",
        "+ Mthly_HH_Expense: Chi tiêu của hộ gia đình hàng tháng\n",
        "\n",
        "+ No_of_Fly_Members: Số thành viên trong gia đình\n",
        "\n",
        "+ Emi_or_Rent_Amt: Khoản trả hàng tháng/Tiền thuê nhà hàng tháng\n",
        "\n",
        "+ Annual_HH_Income: Thu nhập của hộ gia đình hàng năm\n",
        "\n",
        "+ No_of_Earning_Members: Số thành viên có thu nhập \n",
        "\n",
        "+ Highest_Qualified_Member: Trình độ học vấn của thành viên có trình độ cao nhất trong gia đình"
      ],
      "metadata": {
        "id": "Y5VYwlpsjlfL"
      }
    },
    {
      "cell_type": "code",
      "source": [
        "df.describe()"
      ],
      "metadata": {
        "colab": {
          "base_uri": "https://localhost:8080/",
          "height": 300
        },
        "id": "Wg3diagEVWI-",
        "outputId": "eaa25310-2d3b-4fe0-d26c-74cc860b2932"
      },
      "execution_count": 3,
      "outputs": [
        {
          "output_type": "execute_result",
          "data": {
            "text/plain": [
              "       Mthly_HH_Income  Mthly_HH_Expense  No_of_Fly_Members  Emi_or_Rent_Amt  \\\n",
              "count        50.000000         50.000000          50.000000        50.000000   \n",
              "mean      41558.000000      18818.000000           4.060000      3060.000000   \n",
              "std       26097.908979      12090.216824           1.517382      6241.434948   \n",
              "min        5000.000000       2000.000000           1.000000         0.000000   \n",
              "25%       23550.000000      10000.000000           3.000000         0.000000   \n",
              "50%       35000.000000      15500.000000           4.000000         0.000000   \n",
              "75%       50375.000000      25000.000000           5.000000      3500.000000   \n",
              "max      100000.000000      50000.000000           7.000000     35000.000000   \n",
              "\n",
              "       Annual_HH_Income  No_of_Earning_Members  \n",
              "count      5.000000e+01              50.000000  \n",
              "mean       4.900190e+05               1.460000  \n",
              "std        3.201358e+05               0.734291  \n",
              "min        6.420000e+04               1.000000  \n",
              "25%        2.587500e+05               1.000000  \n",
              "50%        4.474200e+05               1.000000  \n",
              "75%        5.947200e+05               2.000000  \n",
              "max        1.404000e+06               4.000000  "
            ],
            "text/html": [
              "\n",
              "  <div id=\"df-e03844cc-373c-4466-a50f-e1d9f630bb30\">\n",
              "    <div class=\"colab-df-container\">\n",
              "      <div>\n",
              "<style scoped>\n",
              "    .dataframe tbody tr th:only-of-type {\n",
              "        vertical-align: middle;\n",
              "    }\n",
              "\n",
              "    .dataframe tbody tr th {\n",
              "        vertical-align: top;\n",
              "    }\n",
              "\n",
              "    .dataframe thead th {\n",
              "        text-align: right;\n",
              "    }\n",
              "</style>\n",
              "<table border=\"1\" class=\"dataframe\">\n",
              "  <thead>\n",
              "    <tr style=\"text-align: right;\">\n",
              "      <th></th>\n",
              "      <th>Mthly_HH_Income</th>\n",
              "      <th>Mthly_HH_Expense</th>\n",
              "      <th>No_of_Fly_Members</th>\n",
              "      <th>Emi_or_Rent_Amt</th>\n",
              "      <th>Annual_HH_Income</th>\n",
              "      <th>No_of_Earning_Members</th>\n",
              "    </tr>\n",
              "  </thead>\n",
              "  <tbody>\n",
              "    <tr>\n",
              "      <th>count</th>\n",
              "      <td>50.000000</td>\n",
              "      <td>50.000000</td>\n",
              "      <td>50.000000</td>\n",
              "      <td>50.000000</td>\n",
              "      <td>5.000000e+01</td>\n",
              "      <td>50.000000</td>\n",
              "    </tr>\n",
              "    <tr>\n",
              "      <th>mean</th>\n",
              "      <td>41558.000000</td>\n",
              "      <td>18818.000000</td>\n",
              "      <td>4.060000</td>\n",
              "      <td>3060.000000</td>\n",
              "      <td>4.900190e+05</td>\n",
              "      <td>1.460000</td>\n",
              "    </tr>\n",
              "    <tr>\n",
              "      <th>std</th>\n",
              "      <td>26097.908979</td>\n",
              "      <td>12090.216824</td>\n",
              "      <td>1.517382</td>\n",
              "      <td>6241.434948</td>\n",
              "      <td>3.201358e+05</td>\n",
              "      <td>0.734291</td>\n",
              "    </tr>\n",
              "    <tr>\n",
              "      <th>min</th>\n",
              "      <td>5000.000000</td>\n",
              "      <td>2000.000000</td>\n",
              "      <td>1.000000</td>\n",
              "      <td>0.000000</td>\n",
              "      <td>6.420000e+04</td>\n",
              "      <td>1.000000</td>\n",
              "    </tr>\n",
              "    <tr>\n",
              "      <th>25%</th>\n",
              "      <td>23550.000000</td>\n",
              "      <td>10000.000000</td>\n",
              "      <td>3.000000</td>\n",
              "      <td>0.000000</td>\n",
              "      <td>2.587500e+05</td>\n",
              "      <td>1.000000</td>\n",
              "    </tr>\n",
              "    <tr>\n",
              "      <th>50%</th>\n",
              "      <td>35000.000000</td>\n",
              "      <td>15500.000000</td>\n",
              "      <td>4.000000</td>\n",
              "      <td>0.000000</td>\n",
              "      <td>4.474200e+05</td>\n",
              "      <td>1.000000</td>\n",
              "    </tr>\n",
              "    <tr>\n",
              "      <th>75%</th>\n",
              "      <td>50375.000000</td>\n",
              "      <td>25000.000000</td>\n",
              "      <td>5.000000</td>\n",
              "      <td>3500.000000</td>\n",
              "      <td>5.947200e+05</td>\n",
              "      <td>2.000000</td>\n",
              "    </tr>\n",
              "    <tr>\n",
              "      <th>max</th>\n",
              "      <td>100000.000000</td>\n",
              "      <td>50000.000000</td>\n",
              "      <td>7.000000</td>\n",
              "      <td>35000.000000</td>\n",
              "      <td>1.404000e+06</td>\n",
              "      <td>4.000000</td>\n",
              "    </tr>\n",
              "  </tbody>\n",
              "</table>\n",
              "</div>\n",
              "      <button class=\"colab-df-convert\" onclick=\"convertToInteractive('df-e03844cc-373c-4466-a50f-e1d9f630bb30')\"\n",
              "              title=\"Convert this dataframe to an interactive table.\"\n",
              "              style=\"display:none;\">\n",
              "        \n",
              "  <svg xmlns=\"http://www.w3.org/2000/svg\" height=\"24px\"viewBox=\"0 0 24 24\"\n",
              "       width=\"24px\">\n",
              "    <path d=\"M0 0h24v24H0V0z\" fill=\"none\"/>\n",
              "    <path d=\"M18.56 5.44l.94 2.06.94-2.06 2.06-.94-2.06-.94-.94-2.06-.94 2.06-2.06.94zm-11 1L8.5 8.5l.94-2.06 2.06-.94-2.06-.94L8.5 2.5l-.94 2.06-2.06.94zm10 10l.94 2.06.94-2.06 2.06-.94-2.06-.94-.94-2.06-.94 2.06-2.06.94z\"/><path d=\"M17.41 7.96l-1.37-1.37c-.4-.4-.92-.59-1.43-.59-.52 0-1.04.2-1.43.59L10.3 9.45l-7.72 7.72c-.78.78-.78 2.05 0 2.83L4 21.41c.39.39.9.59 1.41.59.51 0 1.02-.2 1.41-.59l7.78-7.78 2.81-2.81c.8-.78.8-2.07 0-2.86zM5.41 20L4 18.59l7.72-7.72 1.47 1.35L5.41 20z\"/>\n",
              "  </svg>\n",
              "      </button>\n",
              "      \n",
              "  <style>\n",
              "    .colab-df-container {\n",
              "      display:flex;\n",
              "      flex-wrap:wrap;\n",
              "      gap: 12px;\n",
              "    }\n",
              "\n",
              "    .colab-df-convert {\n",
              "      background-color: #E8F0FE;\n",
              "      border: none;\n",
              "      border-radius: 50%;\n",
              "      cursor: pointer;\n",
              "      display: none;\n",
              "      fill: #1967D2;\n",
              "      height: 32px;\n",
              "      padding: 0 0 0 0;\n",
              "      width: 32px;\n",
              "    }\n",
              "\n",
              "    .colab-df-convert:hover {\n",
              "      background-color: #E2EBFA;\n",
              "      box-shadow: 0px 1px 2px rgba(60, 64, 67, 0.3), 0px 1px 3px 1px rgba(60, 64, 67, 0.15);\n",
              "      fill: #174EA6;\n",
              "    }\n",
              "\n",
              "    [theme=dark] .colab-df-convert {\n",
              "      background-color: #3B4455;\n",
              "      fill: #D2E3FC;\n",
              "    }\n",
              "\n",
              "    [theme=dark] .colab-df-convert:hover {\n",
              "      background-color: #434B5C;\n",
              "      box-shadow: 0px 1px 3px 1px rgba(0, 0, 0, 0.15);\n",
              "      filter: drop-shadow(0px 1px 2px rgba(0, 0, 0, 0.3));\n",
              "      fill: #FFFFFF;\n",
              "    }\n",
              "  </style>\n",
              "\n",
              "      <script>\n",
              "        const buttonEl =\n",
              "          document.querySelector('#df-e03844cc-373c-4466-a50f-e1d9f630bb30 button.colab-df-convert');\n",
              "        buttonEl.style.display =\n",
              "          google.colab.kernel.accessAllowed ? 'block' : 'none';\n",
              "\n",
              "        async function convertToInteractive(key) {\n",
              "          const element = document.querySelector('#df-e03844cc-373c-4466-a50f-e1d9f630bb30');\n",
              "          const dataTable =\n",
              "            await google.colab.kernel.invokeFunction('convertToInteractive',\n",
              "                                                     [key], {});\n",
              "          if (!dataTable) return;\n",
              "\n",
              "          const docLinkHtml = 'Like what you see? Visit the ' +\n",
              "            '<a target=\"_blank\" href=https://colab.research.google.com/notebooks/data_table.ipynb>data table notebook</a>'\n",
              "            + ' to learn more about interactive tables.';\n",
              "          element.innerHTML = '';\n",
              "          dataTable['output_type'] = 'display_data';\n",
              "          await google.colab.output.renderOutput(dataTable, element);\n",
              "          const docLink = document.createElement('div');\n",
              "          docLink.innerHTML = docLinkHtml;\n",
              "          element.appendChild(docLink);\n",
              "        }\n",
              "      </script>\n",
              "    </div>\n",
              "  </div>\n",
              "  "
            ]
          },
          "metadata": {},
          "execution_count": 3
        }
      ]
    },
    {
      "cell_type": "markdown",
      "source": [
        "Các hàm tính số liệu thống kê:\n",
        "\n",
        "+ Tính giá trị trung bình - mean\n",
        "\n",
        "+ Tính số yếu vị - mode\n",
        "\n",
        "+ Tính số trung vị - median\n",
        "\n",
        "+ Tính độ lệch chuẩn - std\n",
        "\n",
        "+ Tính giá trị lớn nhất - max\n",
        "\n",
        "+ Tính giá trị nhỏ nhất - min\n",
        "\n",
        "+ Tính số phân vị - quantile"
      ],
      "metadata": {
        "id": "HYUHY_77XIBI"
      }
    },
    {
      "cell_type": "markdown",
      "source": [
        "+ Tính giá trị trung bình"
      ],
      "metadata": {
        "id": "M7JjiwUvfisC"
      }
    },
    {
      "cell_type": "code",
      "source": [
        "def mean(data):       \n",
        "  return data.mean()"
      ],
      "metadata": {
        "id": "40zpcmAjW_co"
      },
      "execution_count": 11,
      "outputs": []
    },
    {
      "cell_type": "markdown",
      "source": [
        "+ Tính số yếu vị"
      ],
      "metadata": {
        "id": "CY013XfEd1x2"
      }
    },
    {
      "cell_type": "code",
      "source": [
        "def mode(data):       \n",
        "  return data.mode()"
      ],
      "metadata": {
        "id": "QSTScyY6dycd"
      },
      "execution_count": 5,
      "outputs": []
    },
    {
      "cell_type": "markdown",
      "source": [
        "+ Tính số trung vị "
      ],
      "metadata": {
        "id": "Z9v4yfSpd5Ea"
      }
    },
    {
      "cell_type": "code",
      "source": [
        "def median(data):     \n",
        "  return data.median()"
      ],
      "metadata": {
        "id": "EY618l16d7fD"
      },
      "execution_count": 6,
      "outputs": []
    },
    {
      "cell_type": "markdown",
      "source": [
        "+ Tính độ lệch chuẩn "
      ],
      "metadata": {
        "id": "s2LmVI5beAzW"
      }
    },
    {
      "cell_type": "code",
      "source": [
        "def std(data):        \n",
        "  return data.std()"
      ],
      "metadata": {
        "id": "Tz84yEZzeEfk"
      },
      "execution_count": 7,
      "outputs": []
    },
    {
      "cell_type": "markdown",
      "source": [
        "+ Tính giá trị lớn nhất"
      ],
      "metadata": {
        "id": "klcPLZ6EeJQu"
      }
    },
    {
      "cell_type": "code",
      "source": [
        "def max(data):        \n",
        "  return data.max()"
      ],
      "metadata": {
        "id": "CsJLNGrJeMHB"
      },
      "execution_count": 8,
      "outputs": []
    },
    {
      "cell_type": "markdown",
      "source": [
        "+ Tính giá trị nhỏ nhất"
      ],
      "metadata": {
        "id": "x96g5GE1e7JH"
      }
    },
    {
      "cell_type": "code",
      "source": [
        "def min(data):        \n",
        "  return data.min()"
      ],
      "metadata": {
        "id": "eB1n74Mfe-P-"
      },
      "execution_count": 9,
      "outputs": []
    },
    {
      "cell_type": "markdown",
      "source": [
        "+ Tính số phân vị"
      ],
      "metadata": {
        "id": "PSApmuzOfnIK"
      }
    },
    {
      "cell_type": "code",
      "source": [
        "def quantile(data):   \n",
        "  return data.quantile()"
      ],
      "metadata": {
        "id": "zCqF9eAvfo38"
      },
      "execution_count": 10,
      "outputs": []
    },
    {
      "cell_type": "markdown",
      "source": [
        "# Tính một số giá trị cho tập dữ liệu trên:"
      ],
      "metadata": {
        "id": "nzyLvtG7XVfF"
      }
    },
    {
      "cell_type": "markdown",
      "source": [
        "+ Thu nhập trung bình hàng tháng của một hộ gia đình là:"
      ],
      "metadata": {
        "id": "8M1izHHLlU51"
      }
    },
    {
      "cell_type": "code",
      "source": [
        "print(\"Thu nhập trung bình hàng tháng của một hộ gia đình là: \"+ str(mean(df[\"Mthly_HH_Income\"])) + \" đồng\")"
      ],
      "metadata": {
        "id": "5_fxcdRhcAj0",
        "colab": {
          "base_uri": "https://localhost:8080/"
        },
        "outputId": "624f5297-ffe0-4d5a-caa0-7d63496c5640"
      },
      "execution_count": 31,
      "outputs": [
        {
          "output_type": "stream",
          "name": "stdout",
          "text": [
            "Thu nhập trung bình hàng tháng của một hộ gia đình là: 41558.0 đồng\n"
          ]
        }
      ]
    },
    {
      "cell_type": "markdown",
      "source": [
        "+ Hộ gia đình có thu nhập hàng tháng cao nhất là: "
      ],
      "metadata": {
        "id": "r28aA9KRlr2-"
      }
    },
    {
      "cell_type": "code",
      "source": [
        "print(\"Hộ gia đình có thu nhập hàng tháng cao nhất là: \"+ str(max(df[\"Mthly_HH_Income\"])) + \" đồng\")"
      ],
      "metadata": {
        "colab": {
          "base_uri": "https://localhost:8080/"
        },
        "id": "ThIyQgbWk4mP",
        "outputId": "b7634796-31e6-4da2-e556-8786dbcabd87"
      },
      "execution_count": 30,
      "outputs": [
        {
          "output_type": "stream",
          "name": "stdout",
          "text": [
            "Hộ gia đình có thu nhập hàng tháng cao nhất là: 100000 đồng\n"
          ]
        }
      ]
    },
    {
      "cell_type": "markdown",
      "source": [
        "+ Hộ gia đình có thu nhập hàng tháng thấp nhất là: "
      ],
      "metadata": {
        "id": "v049ZujymDtb"
      }
    },
    {
      "cell_type": "code",
      "source": [
        "print(\"Hộ gia đình có thu nhập hàng tháng thấp nhất là: \"+ str(min(df[\"Mthly_HH_Income\"])) + \" đồng\")"
      ],
      "metadata": {
        "colab": {
          "base_uri": "https://localhost:8080/"
        },
        "id": "vbvyi-bak7w6",
        "outputId": "9dc6bffd-a114-4c0a-d1df-294fcc3d746a"
      },
      "execution_count": 32,
      "outputs": [
        {
          "output_type": "stream",
          "name": "stdout",
          "text": [
            "Hộ gia đình có thu nhập hàng tháng thấp nhất là: 5000 đồng\n"
          ]
        }
      ]
    },
    {
      "cell_type": "markdown",
      "source": [
        "+ Chi tiêu trung bình hàng tháng của một hộ gia đình là: "
      ],
      "metadata": {
        "id": "PgAAGarkm-2K"
      }
    },
    {
      "cell_type": "code",
      "source": [
        "print(\"Chi tiêu trung bình hàng tháng của một hộ gia đình là: \"+ str(mean(df[\"Mthly_HH_Expense\"])) + \" đồng\")"
      ],
      "metadata": {
        "colab": {
          "base_uri": "https://localhost:8080/"
        },
        "id": "rdIpmulKnJEU",
        "outputId": "69592611-99e6-4be4-c8a3-b14d42f3292e"
      },
      "execution_count": 33,
      "outputs": [
        {
          "output_type": "stream",
          "name": "stdout",
          "text": [
            "Chi tiêu trung bình hàng tháng của một hộ gia đình là: 18818.0 đồng\n"
          ]
        }
      ]
    },
    {
      "cell_type": "markdown",
      "source": [
        "+ Hộ gia đình có chi tiêu hàng tháng cao nhất là: "
      ],
      "metadata": {
        "id": "koDL2l81nTP-"
      }
    },
    {
      "cell_type": "code",
      "source": [
        "print(\"Hộ gia đình có chi tiêu hàng tháng cao nhất là: \"+ str(max(df[\"Mthly_HH_Expense\"])) + \" đồng\")"
      ],
      "metadata": {
        "colab": {
          "base_uri": "https://localhost:8080/"
        },
        "id": "Ye1Ob7X1oOWH",
        "outputId": "b9aae7b8-c546-4ca8-fef1-358800cc6aaf"
      },
      "execution_count": 35,
      "outputs": [
        {
          "output_type": "stream",
          "name": "stdout",
          "text": [
            "Hộ gia đình có chi tiêu hàng tháng cao nhất là: 50000 đồng\n"
          ]
        }
      ]
    },
    {
      "cell_type": "markdown",
      "source": [
        "+ Hộ gia đình có chi tiêu hàng tháng thấp nhât là: "
      ],
      "metadata": {
        "id": "9nGmprmBoXUy"
      }
    },
    {
      "cell_type": "code",
      "source": [
        "print(\"Hộ gia đình có chi tiêu hàng tháng thấp nhất là: \"+ str(min(df[\"Mthly_HH_Expense\"])) + \" đồng\")"
      ],
      "metadata": {
        "colab": {
          "base_uri": "https://localhost:8080/"
        },
        "id": "00XxandmobwF",
        "outputId": "3bf02df3-aa7c-48ad-85ab-55bb756d446e"
      },
      "execution_count": 36,
      "outputs": [
        {
          "output_type": "stream",
          "name": "stdout",
          "text": [
            "Hộ gia đình có chi tiêu hàng tháng thấp nhất là: 2000 đồng\n"
          ]
        }
      ]
    },
    {
      "cell_type": "markdown",
      "source": [
        "# **Vẽ các biểu đồ:** "
      ],
      "metadata": {
        "id": "xXOzub2tlqgJ"
      }
    },
    {
      "cell_type": "markdown",
      "source": [
        "+ Xây dựng các hàm vẽ biểu đồ \n",
        "\n",
        "\n"
      ],
      "metadata": {
        "id": "khlYe0MOg6Cr"
      }
    },
    {
      "cell_type": "code",
      "source": [
        "def box_plot(data, title):\n",
        "  fig, ax = plt.subplots(figsize=(6,6))\n",
        "  plt.title(title)\n",
        "  sns.boxplot(data=df[[data]],color=\"lime\",width=0.2, fliersize=20, flierprops = dict(marker='.',markerfacecolor='pink'))"
      ],
      "metadata": {
        "id": "xT4By8U9qarC"
      },
      "execution_count": 87,
      "outputs": []
    },
    {
      "cell_type": "code",
      "source": [
        "def his(data, title):\n",
        "    fig = plt.figure(figsize=(5,3))\n",
        "    ax = fig.add_axes([1, 1, 1.5, 1.5])\n",
        "    left, width = .25, .5\n",
        "    bottom, height = .25, .5\n",
        "    right = left + width\n",
        "    top = bottom + height\n",
        "    sns.histplot(data=df[data],color='b', cumulative= True,edgecolor='none',element='poly', kde=True)\n",
        "    sns.despine()\n",
        "    plt.title(title)"
      ],
      "metadata": {
        "id": "_jMXgpXm2_GN"
      },
      "execution_count": 107,
      "outputs": []
    },
    {
      "cell_type": "markdown",
      "source": [
        "+ Vẽ biểu đồ: "
      ],
      "metadata": {
        "id": "rNyR8--a1ij6"
      }
    },
    {
      "cell_type": "code",
      "source": [
        "box_plot(\"Mthly_HH_Income\", \"Biểu đồ thu nhập của các hộ gia đình hàng tháng\")"
      ],
      "metadata": {
        "colab": {
          "base_uri": "https://localhost:8080/",
          "height": 392
        },
        "id": "hLX3I0GFq27b",
        "outputId": "45f0b3e2-097d-4cdd-bf7c-b534c116ff0e"
      },
      "execution_count": 117,
      "outputs": [
        {
          "output_type": "display_data",
          "data": {
            "text/plain": [
              "<Figure size 432x432 with 1 Axes>"
            ],
            "image/png": "[encoded data removed]"
          },
          "metadata": {
            "needs_background": "light"
          }
        }
      ]
    },
    {
      "cell_type": "code",
      "source": [
        "box_plot(\"Mthly_HH_Expense\", \"Biểu đồ chi tiêu của các hộ gia đình hàng tháng\")"
      ],
      "metadata": {
        "colab": {
          "base_uri": "https://localhost:8080/",
          "height": 392
        },
        "id": "mm4THzB41qrU",
        "outputId": "e8c58d8a-5f24-45b4-de61-8a233a8d4af0"
      },
      "execution_count": 116,
      "outputs": [
        {
          "output_type": "display_data",
          "data": {
            "text/plain": [
              "<Figure size 432x432 with 1 Axes>"
            ],
            "image/png": "[encoded data removed]"
          },
          "metadata": {
            "needs_background": "light"
          }
        }
      ]
    },
    {
      "cell_type": "code",
      "source": [
        "box_plot(\"Annual_HH_Income\", \"Biểu độ thu nhập của các hộ gia đình hàng năm\")"
      ],
      "metadata": {
        "colab": {
          "base_uri": "https://localhost:8080/",
          "height": 392
        },
        "id": "4fVvrxAb2b5M",
        "outputId": "c90a350a-ab39-4980-f495-c86ac44b7f54"
      },
      "execution_count": 115,
      "outputs": [
        {
          "output_type": "display_data",
          "data": {
            "text/plain": [
              "<Figure size 432x432 with 1 Axes>"
            ],
            "image/png": "[encoded data removed]"
          },
          "metadata": {
            "needs_background": "light"
          }
        }
      ]
    },
    {
      "cell_type": "code",
      "source": [
        "his(\"Mthly_HH_Income\", \"Biểu đồ thu nhập của các hộ gia đình hàng tháng\")"
      ],
      "metadata": {
        "colab": {
          "base_uri": "https://localhost:8080/",
          "height": 404
        },
        "id": "3qSpGKrE4AOt",
        "outputId": "cacab2d9-95ae-499d-c3f4-37e4e8eb3c01"
      },
      "execution_count": 114,
      "outputs": [
        {
          "output_type": "display_data",
          "data": {
            "text/plain": [
              "<Figure size 360x216 with 1 Axes>"
            ],
            "image/png": "[encoded data removed]"
          },
          "metadata": {
            "needs_background": "light"
          }
        }
      ]
    },
    {
      "cell_type": "code",
      "source": [
        "his(\"Mthly_HH_Expense\", \"Biểu đồ chi tiêu của các hộ gia đình hàng tháng\")"
      ],
      "metadata": {
        "colab": {
          "base_uri": "https://localhost:8080/",
          "height": 404
        },
        "id": "tJg0uATK5H6M",
        "outputId": "4d2255c3-d3d1-448e-a50a-ead46374a597"
      },
      "execution_count": 113,
      "outputs": [
        {
          "output_type": "display_data",
          "data": {
            "text/plain": [
              "<Figure size 360x216 with 1 Axes>"
            ],
            "image/png": "[encoded data removed]"
          },
          "metadata": {
            "needs_background": "light"
          }
        }
      ]
    },
    {
      "cell_type": "code",
      "source": [
        "his(\"Annual_HH_Income\", \"Biểu độ thu nhập của các hộ gia đình hàng năm\")"
      ],
      "metadata": {
        "colab": {
          "base_uri": "https://localhost:8080/",
          "height": 404
        },
        "id": "DPMXkMBn5jY0",
        "outputId": "215f96b4-e22d-4bc0-d713-ddfe02de465a"
      },
      "execution_count": 112,
      "outputs": [
        {
          "output_type": "display_data",
          "data": {
            "text/plain": [
              "<Figure size 360x216 with 1 Axes>"
            ],
            "image/png": "[encoded data removed]"
          },
          "metadata": {
            "needs_background": "light"
          }
        }
      ]
    }
  ]
}