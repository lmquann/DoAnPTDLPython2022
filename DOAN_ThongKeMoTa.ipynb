{
  "nbformat": 4,
  "nbformat_minor": 0,
  "metadata": {
    "colab": {
      "name": "DOAN_ThongKeMoTa.ipynb",
      "provenance": [],
      "authorship_tag": "ABX9TyNgoB4H1MKYF/PmuVC4OhUt",
      "include_colab_link": true
    },
    "kernelspec": {
      "name": "python3",
      "display_name": "Python 3"
    },
    "language_info": {
      "name": "python"
    }
  },
  "cells": [
    {
      "cell_type": "markdown",
      "metadata": {
        "id": "view-in-github",
        "colab_type": "text"
      },
      "source": [
        "<a href=\"https://colab.research.google.com/github/lmquann/DoAnPTDLPython2022/blob/main/DOAN_ThongKeMoTa.ipynb\" target=\"_parent\"><img src=\"https://colab.research.google.com/assets/colab-badge.svg\" alt=\"Open In Colab\"/></a>"
      ]
    },
    {
      "cell_type": "code",
      "execution_count": 1,
      "metadata": {
        "id": "2KtnfSRqUaLe"
      },
      "outputs": [],
      "source": [
        "import numpy as np \n",
        "import pandas as pd\n",
        "import seaborn as sns\n",
        "import matplotlib.pyplot as plt"
      ]
    },
    {
      "cell_type": "markdown",
      "source": [
        "Đọc dữ liệu:"
      ],
      "metadata": {
        "id": "8nTKwFXdVDkH"
      }
    },
    {
      "cell_type": "code",
      "source": [
        "df = pd.read_csv(\"/content/Inc_Exp_Data.csv\")\n",
        "df.sample(10)"
      ],
      "metadata": {
        "colab": {
          "base_uri": "https://localhost:8080/",
          "height": 363
        },
        "id": "Dn2E_3DWVAXn",
        "outputId": "f30ba6ac-f2a7-45b4-9616-f80633628a2d"
      },
      "execution_count": 18,
      "outputs": [
        {
          "output_type": "execute_result",
          "data": {
            "text/plain": [
              "    Mthly_HH_Income  Mthly_HH_Expense  No_of_Fly_Members  Emi_or_Rent_Amt  \\\n",
              "46            98000             25000                  5                0   \n",
              "25            35000             25000                  4                0   \n",
              "34            46000             25000                  5             3500   \n",
              "44            85000             25000                  5                0   \n",
              "13            24000             10500                  6                0   \n",
              "32            45000             10000                  2             1000   \n",
              "36            50000             20000                  4                0   \n",
              "11            22000             25000                  6            12000   \n",
              "18            29000              6600                  2             2000   \n",
              "21            32000             15000                  4                0   \n",
              "\n",
              "    Annual_HH_Income Highest_Qualified_Member  No_of_Earning_Members  \n",
              "46           1152480             Professional                      2  \n",
              "25            449400             Professional                      2  \n",
              "34            596160                 Graduate                      1  \n",
              "44           1142400           Under-Graduate                      2  \n",
              "13            316800                 Graduate                      2  \n",
              "32            437400            Post-Graduate                      1  \n",
              "36            570000             Professional                      1  \n",
              "11            279840               Illiterate                      1  \n",
              "18            348000                 Graduate                      1  \n",
              "21            445440             Professional                      1  "
            ],
            "text/html": [
              "\n",
              "  <div id=\"df-7e2ef4d2-d5fb-4f30-a566-09fc24f2ccd9\">\n",
              "    <div class=\"colab-df-container\">\n",
              "      <div>\n",
              "<style scoped>\n",
              "    .dataframe tbody tr th:only-of-type {\n",
              "        vertical-align: middle;\n",
              "    }\n",
              "\n",
              "    .dataframe tbody tr th {\n",
              "        vertical-align: top;\n",
              "    }\n",
              "\n",
              "    .dataframe thead th {\n",
              "        text-align: right;\n",
              "    }\n",
              "</style>\n",
              "<table border=\"1\" class=\"dataframe\">\n",
              "  <thead>\n",
              "    <tr style=\"text-align: right;\">\n",
              "      <th></th>\n",
              "      <th>Mthly_HH_Income</th>\n",
              "      <th>Mthly_HH_Expense</th>\n",
              "      <th>No_of_Fly_Members</th>\n",
              "      <th>Emi_or_Rent_Amt</th>\n",
              "      <th>Annual_HH_Income</th>\n",
              "      <th>Highest_Qualified_Member</th>\n",
              "      <th>No_of_Earning_Members</th>\n",
              "    </tr>\n",
              "  </thead>\n",
              "  <tbody>\n",
              "    <tr>\n",
              "      <th>46</th>\n",
              "      <td>98000</td>\n",
              "      <td>25000</td>\n",
              "      <td>5</td>\n",
              "      <td>0</td>\n",
              "      <td>1152480</td>\n",
              "      <td>Professional</td>\n",
              "      <td>2</td>\n",
              "    </tr>\n",
              "    <tr>\n",
              "      <th>25</th>\n",
              "      <td>35000</td>\n",
              "      <td>25000</td>\n",
              "      <td>4</td>\n",
              "      <td>0</td>\n",
              "      <td>449400</td>\n",
              "      <td>Professional</td>\n",
              "      <td>2</td>\n",
              "    </tr>\n",
              "    <tr>\n",
              "      <th>34</th>\n",
              "      <td>46000</td>\n",
              "      <td>25000</td>\n",
              "      <td>5</td>\n",
              "      <td>3500</td>\n",
              "      <td>596160</td>\n",
              "      <td>Graduate</td>\n",
              "      <td>1</td>\n",
              "    </tr>\n",
              "    <tr>\n",
              "      <th>44</th>\n",
              "      <td>85000</td>\n",
              "      <td>25000</td>\n",
              "      <td>5</td>\n",
              "      <td>0</td>\n",
              "      <td>1142400</td>\n",
              "      <td>Under-Graduate</td>\n",
              "      <td>2</td>\n",
              "    </tr>\n",
              "    <tr>\n",
              "      <th>13</th>\n",
              "      <td>24000</td>\n",
              "      <td>10500</td>\n",
              "      <td>6</td>\n",
              "      <td>0</td>\n",
              "      <td>316800</td>\n",
              "      <td>Graduate</td>\n",
              "      <td>2</td>\n",
              "    </tr>\n",
              "    <tr>\n",
              "      <th>32</th>\n",
              "      <td>45000</td>\n",
              "      <td>10000</td>\n",
              "      <td>2</td>\n",
              "      <td>1000</td>\n",
              "      <td>437400</td>\n",
              "      <td>Post-Graduate</td>\n",
              "      <td>1</td>\n",
              "    </tr>\n",
              "    <tr>\n",
              "      <th>36</th>\n",
              "      <td>50000</td>\n",
              "      <td>20000</td>\n",
              "      <td>4</td>\n",
              "      <td>0</td>\n",
              "      <td>570000</td>\n",
              "      <td>Professional</td>\n",
              "      <td>1</td>\n",
              "    </tr>\n",
              "    <tr>\n",
              "      <th>11</th>\n",
              "      <td>22000</td>\n",
              "      <td>25000</td>\n",
              "      <td>6</td>\n",
              "      <td>12000</td>\n",
              "      <td>279840</td>\n",
              "      <td>Illiterate</td>\n",
              "      <td>1</td>\n",
              "    </tr>\n",
              "    <tr>\n",
              "      <th>18</th>\n",
              "      <td>29000</td>\n",
              "      <td>6600</td>\n",
              "      <td>2</td>\n",
              "      <td>2000</td>\n",
              "      <td>348000</td>\n",
              "      <td>Graduate</td>\n",
              "      <td>1</td>\n",
              "    </tr>\n",
              "    <tr>\n",
              "      <th>21</th>\n",
              "      <td>32000</td>\n",
              "      <td>15000</td>\n",
              "      <td>4</td>\n",
              "      <td>0</td>\n",
              "      <td>445440</td>\n",
              "      <td>Professional</td>\n",
              "      <td>1</td>\n",
              "    </tr>\n",
              "  </tbody>\n",
              "</table>\n",
              "</div>\n",
              "      <button class=\"colab-df-convert\" onclick=\"convertToInteractive('df-7e2ef4d2-d5fb-4f30-a566-09fc24f2ccd9')\"\n",
              "              title=\"Convert this dataframe to an interactive table.\"\n",
              "              style=\"display:none;\">\n",
              "        \n",
              "  <svg xmlns=\"http://www.w3.org/2000/svg\" height=\"24px\"viewBox=\"0 0 24 24\"\n",
              "       width=\"24px\">\n",
              "    <path d=\"M0 0h24v24H0V0z\" fill=\"none\"/>\n",
              "    <path d=\"M18.56 5.44l.94 2.06.94-2.06 2.06-.94-2.06-.94-.94-2.06-.94 2.06-2.06.94zm-11 1L8.5 8.5l.94-2.06 2.06-.94-2.06-.94L8.5 2.5l-.94 2.06-2.06.94zm10 10l.94 2.06.94-2.06 2.06-.94-2.06-.94-.94-2.06-.94 2.06-2.06.94z\"/><path d=\"M17.41 7.96l-1.37-1.37c-.4-.4-.92-.59-1.43-.59-.52 0-1.04.2-1.43.59L10.3 9.45l-7.72 7.72c-.78.78-.78 2.05 0 2.83L4 21.41c.39.39.9.59 1.41.59.51 0 1.02-.2 1.41-.59l7.78-7.78 2.81-2.81c.8-.78.8-2.07 0-2.86zM5.41 20L4 18.59l7.72-7.72 1.47 1.35L5.41 20z\"/>\n",
              "  </svg>\n",
              "      </button>\n",
              "      \n",
              "  <style>\n",
              "    .colab-df-container {\n",
              "      display:flex;\n",
              "      flex-wrap:wrap;\n",
              "      gap: 12px;\n",
              "    }\n",
              "\n",
              "    .colab-df-convert {\n",
              "      background-color: #E8F0FE;\n",
              "      border: none;\n",
              "      border-radius: 50%;\n",
              "      cursor: pointer;\n",
              "      display: none;\n",
              "      fill: #1967D2;\n",
              "      height: 32px;\n",
              "      padding: 0 0 0 0;\n",
              "      width: 32px;\n",
              "    }\n",
              "\n",
              "    .colab-df-convert:hover {\n",
              "      background-color: #E2EBFA;\n",
              "      box-shadow: 0px 1px 2px rgba(60, 64, 67, 0.3), 0px 1px 3px 1px rgba(60, 64, 67, 0.15);\n",
              "      fill: #174EA6;\n",
              "    }\n",
              "\n",
              "    [theme=dark] .colab-df-convert {\n",
              "      background-color: #3B4455;\n",
              "      fill: #D2E3FC;\n",
              "    }\n",
              "\n",
              "    [theme=dark] .colab-df-convert:hover {\n",
              "      background-color: #434B5C;\n",
              "      box-shadow: 0px 1px 3px 1px rgba(0, 0, 0, 0.15);\n",
              "      filter: drop-shadow(0px 1px 2px rgba(0, 0, 0, 0.3));\n",
              "      fill: #FFFFFF;\n",
              "    }\n",
              "  </style>\n",
              "\n",
              "      <script>\n",
              "        const buttonEl =\n",
              "          document.querySelector('#df-7e2ef4d2-d5fb-4f30-a566-09fc24f2ccd9 button.colab-df-convert');\n",
              "        buttonEl.style.display =\n",
              "          google.colab.kernel.accessAllowed ? 'block' : 'none';\n",
              "\n",
              "        async function convertToInteractive(key) {\n",
              "          const element = document.querySelector('#df-7e2ef4d2-d5fb-4f30-a566-09fc24f2ccd9');\n",
              "          const dataTable =\n",
              "            await google.colab.kernel.invokeFunction('convertToInteractive',\n",
              "                                                     [key], {});\n",
              "          if (!dataTable) return;\n",
              "\n",
              "          const docLinkHtml = 'Like what you see? Visit the ' +\n",
              "            '<a target=\"_blank\" href=https://colab.research.google.com/notebooks/data_table.ipynb>data table notebook</a>'\n",
              "            + ' to learn more about interactive tables.';\n",
              "          element.innerHTML = '';\n",
              "          dataTable['output_type'] = 'display_data';\n",
              "          await google.colab.output.renderOutput(dataTable, element);\n",
              "          const docLink = document.createElement('div');\n",
              "          docLink.innerHTML = docLinkHtml;\n",
              "          element.appendChild(docLink);\n",
              "        }\n",
              "      </script>\n",
              "    </div>\n",
              "  </div>\n",
              "  "
            ]
          },
          "metadata": {},
          "execution_count": 18
        }
      ]
    },
    {
      "cell_type": "markdown",
      "source": [
        "# **Tiến hành phân tích thông kê mô tả tập dữ liệu Inc_Exp_Data**"
      ],
      "metadata": {
        "id": "9XytfZX-czgV"
      }
    },
    {
      "cell_type": "markdown",
      "source": [
        "Giải thích các cụm từ: \n",
        "\n",
        "+ Mthly_HH_Income: Thu nhập của hộ gia đình hàng tháng\n",
        "\n",
        "+ Mthly_HH_Expense: Chi tiêu của hộ gia đình hàng tháng\n",
        "\n",
        "+ No_of_Fly_Members: Số thành viên trong gia đình\n",
        "\n",
        "+ Emi_or_Rent_Amt: Khoản trả hàng tháng/Tiền thuê nhà hàng tháng\n",
        "\n",
        "+ Annual_HH_Income: Thu nhập của hộ gia đình hàng năm\n",
        "\n",
        "+ No_of_Earning_Members: Số thành viên có thu nhập \n",
        "\n",
        "+ Highest_Qualified_Member: Trình độ học vấn của thành viên có trình độ cao nhất trong gia đình"
      ],
      "metadata": {
        "id": "Y5VYwlpsjlfL"
      }
    },
    {
      "cell_type": "code",
      "source": [
        "df.describe()"
      ],
      "metadata": {
        "colab": {
          "base_uri": "https://localhost:8080/",
          "height": 300
        },
        "id": "Wg3diagEVWI-",
        "outputId": "5279718c-6246-4f53-c05a-aeabc99b28a1"
      },
      "execution_count": 3,
      "outputs": [
        {
          "output_type": "execute_result",
          "data": {
            "text/plain": [
              "       Mthly_HH_Income  Mthly_HH_Expense  No_of_Fly_Members  Emi_or_Rent_Amt  \\\n",
              "count        50.000000         50.000000          50.000000        50.000000   \n",
              "mean      41558.000000      18818.000000           4.060000      3060.000000   \n",
              "std       26097.908979      12090.216824           1.517382      6241.434948   \n",
              "min        5000.000000       2000.000000           1.000000         0.000000   \n",
              "25%       23550.000000      10000.000000           3.000000         0.000000   \n",
              "50%       35000.000000      15500.000000           4.000000         0.000000   \n",
              "75%       50375.000000      25000.000000           5.000000      3500.000000   \n",
              "max      100000.000000      50000.000000           7.000000     35000.000000   \n",
              "\n",
              "       Annual_HH_Income  No_of_Earning_Members  \n",
              "count      5.000000e+01              50.000000  \n",
              "mean       4.900190e+05               1.460000  \n",
              "std        3.201358e+05               0.734291  \n",
              "min        6.420000e+04               1.000000  \n",
              "25%        2.587500e+05               1.000000  \n",
              "50%        4.474200e+05               1.000000  \n",
              "75%        5.947200e+05               2.000000  \n",
              "max        1.404000e+06               4.000000  "
            ],
            "text/html": [
              "\n",
              "  <div id=\"df-775f2330-792a-47f3-9e02-461e2c3e0fc7\">\n",
              "    <div class=\"colab-df-container\">\n",
              "      <div>\n",
              "<style scoped>\n",
              "    .dataframe tbody tr th:only-of-type {\n",
              "        vertical-align: middle;\n",
              "    }\n",
              "\n",
              "    .dataframe tbody tr th {\n",
              "        vertical-align: top;\n",
              "    }\n",
              "\n",
              "    .dataframe thead th {\n",
              "        text-align: right;\n",
              "    }\n",
              "</style>\n",
              "<table border=\"1\" class=\"dataframe\">\n",
              "  <thead>\n",
              "    <tr style=\"text-align: right;\">\n",
              "      <th></th>\n",
              "      <th>Mthly_HH_Income</th>\n",
              "      <th>Mthly_HH_Expense</th>\n",
              "      <th>No_of_Fly_Members</th>\n",
              "      <th>Emi_or_Rent_Amt</th>\n",
              "      <th>Annual_HH_Income</th>\n",
              "      <th>No_of_Earning_Members</th>\n",
              "    </tr>\n",
              "  </thead>\n",
              "  <tbody>\n",
              "    <tr>\n",
              "      <th>count</th>\n",
              "      <td>50.000000</td>\n",
              "      <td>50.000000</td>\n",
              "      <td>50.000000</td>\n",
              "      <td>50.000000</td>\n",
              "      <td>5.000000e+01</td>\n",
              "      <td>50.000000</td>\n",
              "    </tr>\n",
              "    <tr>\n",
              "      <th>mean</th>\n",
              "      <td>41558.000000</td>\n",
              "      <td>18818.000000</td>\n",
              "      <td>4.060000</td>\n",
              "      <td>3060.000000</td>\n",
              "      <td>4.900190e+05</td>\n",
              "      <td>1.460000</td>\n",
              "    </tr>\n",
              "    <tr>\n",
              "      <th>std</th>\n",
              "      <td>26097.908979</td>\n",
              "      <td>12090.216824</td>\n",
              "      <td>1.517382</td>\n",
              "      <td>6241.434948</td>\n",
              "      <td>3.201358e+05</td>\n",
              "      <td>0.734291</td>\n",
              "    </tr>\n",
              "    <tr>\n",
              "      <th>min</th>\n",
              "      <td>5000.000000</td>\n",
              "      <td>2000.000000</td>\n",
              "      <td>1.000000</td>\n",
              "      <td>0.000000</td>\n",
              "      <td>6.420000e+04</td>\n",
              "      <td>1.000000</td>\n",
              "    </tr>\n",
              "    <tr>\n",
              "      <th>25%</th>\n",
              "      <td>23550.000000</td>\n",
              "      <td>10000.000000</td>\n",
              "      <td>3.000000</td>\n",
              "      <td>0.000000</td>\n",
              "      <td>2.587500e+05</td>\n",
              "      <td>1.000000</td>\n",
              "    </tr>\n",
              "    <tr>\n",
              "      <th>50%</th>\n",
              "      <td>35000.000000</td>\n",
              "      <td>15500.000000</td>\n",
              "      <td>4.000000</td>\n",
              "      <td>0.000000</td>\n",
              "      <td>4.474200e+05</td>\n",
              "      <td>1.000000</td>\n",
              "    </tr>\n",
              "    <tr>\n",
              "      <th>75%</th>\n",
              "      <td>50375.000000</td>\n",
              "      <td>25000.000000</td>\n",
              "      <td>5.000000</td>\n",
              "      <td>3500.000000</td>\n",
              "      <td>5.947200e+05</td>\n",
              "      <td>2.000000</td>\n",
              "    </tr>\n",
              "    <tr>\n",
              "      <th>max</th>\n",
              "      <td>100000.000000</td>\n",
              "      <td>50000.000000</td>\n",
              "      <td>7.000000</td>\n",
              "      <td>35000.000000</td>\n",
              "      <td>1.404000e+06</td>\n",
              "      <td>4.000000</td>\n",
              "    </tr>\n",
              "  </tbody>\n",
              "</table>\n",
              "</div>\n",
              "      <button class=\"colab-df-convert\" onclick=\"convertToInteractive('df-775f2330-792a-47f3-9e02-461e2c3e0fc7')\"\n",
              "              title=\"Convert this dataframe to an interactive table.\"\n",
              "              style=\"display:none;\">\n",
              "        \n",
              "  <svg xmlns=\"http://www.w3.org/2000/svg\" height=\"24px\"viewBox=\"0 0 24 24\"\n",
              "       width=\"24px\">\n",
              "    <path d=\"M0 0h24v24H0V0z\" fill=\"none\"/>\n",
              "    <path d=\"M18.56 5.44l.94 2.06.94-2.06 2.06-.94-2.06-.94-.94-2.06-.94 2.06-2.06.94zm-11 1L8.5 8.5l.94-2.06 2.06-.94-2.06-.94L8.5 2.5l-.94 2.06-2.06.94zm10 10l.94 2.06.94-2.06 2.06-.94-2.06-.94-.94-2.06-.94 2.06-2.06.94z\"/><path d=\"M17.41 7.96l-1.37-1.37c-.4-.4-.92-.59-1.43-.59-.52 0-1.04.2-1.43.59L10.3 9.45l-7.72 7.72c-.78.78-.78 2.05 0 2.83L4 21.41c.39.39.9.59 1.41.59.51 0 1.02-.2 1.41-.59l7.78-7.78 2.81-2.81c.8-.78.8-2.07 0-2.86zM5.41 20L4 18.59l7.72-7.72 1.47 1.35L5.41 20z\"/>\n",
              "  </svg>\n",
              "      </button>\n",
              "      \n",
              "  <style>\n",
              "    .colab-df-container {\n",
              "      display:flex;\n",
              "      flex-wrap:wrap;\n",
              "      gap: 12px;\n",
              "    }\n",
              "\n",
              "    .colab-df-convert {\n",
              "      background-color: #E8F0FE;\n",
              "      border: none;\n",
              "      border-radius: 50%;\n",
              "      cursor: pointer;\n",
              "      display: none;\n",
              "      fill: #1967D2;\n",
              "      height: 32px;\n",
              "      padding: 0 0 0 0;\n",
              "      width: 32px;\n",
              "    }\n",
              "\n",
              "    .colab-df-convert:hover {\n",
              "      background-color: #E2EBFA;\n",
              "      box-shadow: 0px 1px 2px rgba(60, 64, 67, 0.3), 0px 1px 3px 1px rgba(60, 64, 67, 0.15);\n",
              "      fill: #174EA6;\n",
              "    }\n",
              "\n",
              "    [theme=dark] .colab-df-convert {\n",
              "      background-color: #3B4455;\n",
              "      fill: #D2E3FC;\n",
              "    }\n",
              "\n",
              "    [theme=dark] .colab-df-convert:hover {\n",
              "      background-color: #434B5C;\n",
              "      box-shadow: 0px 1px 3px 1px rgba(0, 0, 0, 0.15);\n",
              "      filter: drop-shadow(0px 1px 2px rgba(0, 0, 0, 0.3));\n",
              "      fill: #FFFFFF;\n",
              "    }\n",
              "  </style>\n",
              "\n",
              "      <script>\n",
              "        const buttonEl =\n",
              "          document.querySelector('#df-775f2330-792a-47f3-9e02-461e2c3e0fc7 button.colab-df-convert');\n",
              "        buttonEl.style.display =\n",
              "          google.colab.kernel.accessAllowed ? 'block' : 'none';\n",
              "\n",
              "        async function convertToInteractive(key) {\n",
              "          const element = document.querySelector('#df-775f2330-792a-47f3-9e02-461e2c3e0fc7');\n",
              "          const dataTable =\n",
              "            await google.colab.kernel.invokeFunction('convertToInteractive',\n",
              "                                                     [key], {});\n",
              "          if (!dataTable) return;\n",
              "\n",
              "          const docLinkHtml = 'Like what you see? Visit the ' +\n",
              "            '<a target=\"_blank\" href=https://colab.research.google.com/notebooks/data_table.ipynb>data table notebook</a>'\n",
              "            + ' to learn more about interactive tables.';\n",
              "          element.innerHTML = '';\n",
              "          dataTable['output_type'] = 'display_data';\n",
              "          await google.colab.output.renderOutput(dataTable, element);\n",
              "          const docLink = document.createElement('div');\n",
              "          docLink.innerHTML = docLinkHtml;\n",
              "          element.appendChild(docLink);\n",
              "        }\n",
              "      </script>\n",
              "    </div>\n",
              "  </div>\n",
              "  "
            ]
          },
          "metadata": {},
          "execution_count": 3
        }
      ]
    },
    {
      "cell_type": "markdown",
      "source": [
        "Các hàm tính số liệu thống kê:\n",
        "\n",
        "+ Tính giá trị trung bình - mean\n",
        "\n",
        "+ Tính số yếu vị - mode\n",
        "\n",
        "+ Tính số trung vị - median\n",
        "\n",
        "+ Tính độ lệch chuẩn - std\n",
        "\n",
        "+ Tính giá trị lớn nhất - max\n",
        "\n",
        "+ Tính giá trị nhỏ nhất - min\n",
        "\n",
        "+ Tính số phân vị - quantile"
      ],
      "metadata": {
        "id": "HYUHY_77XIBI"
      }
    },
    {
      "cell_type": "markdown",
      "source": [
        "+ Tính giá trị trung bình"
      ],
      "metadata": {
        "id": "M7JjiwUvfisC"
      }
    },
    {
      "cell_type": "code",
      "source": [
        "def mean(data):       \n",
        "  return data.mean()"
      ],
      "metadata": {
        "id": "40zpcmAjW_co"
      },
      "execution_count": 4,
      "outputs": []
    },
    {
      "cell_type": "markdown",
      "source": [
        "+ Tính số yếu vị"
      ],
      "metadata": {
        "id": "CY013XfEd1x2"
      }
    },
    {
      "cell_type": "code",
      "source": [
        "def mode(data):       \n",
        "  return data.mode()"
      ],
      "metadata": {
        "id": "QSTScyY6dycd"
      },
      "execution_count": 5,
      "outputs": []
    },
    {
      "cell_type": "markdown",
      "source": [
        "+ Tính số trung vị "
      ],
      "metadata": {
        "id": "Z9v4yfSpd5Ea"
      }
    },
    {
      "cell_type": "code",
      "source": [
        "def median(data):     \n",
        "  return data.median()"
      ],
      "metadata": {
        "id": "EY618l16d7fD"
      },
      "execution_count": 6,
      "outputs": []
    },
    {
      "cell_type": "markdown",
      "source": [
        "+ Tính độ lệch chuẩn "
      ],
      "metadata": {
        "id": "s2LmVI5beAzW"
      }
    },
    {
      "cell_type": "code",
      "source": [
        "def std(data):        \n",
        "  return data.std()"
      ],
      "metadata": {
        "id": "Tz84yEZzeEfk"
      },
      "execution_count": 7,
      "outputs": []
    },
    {
      "cell_type": "markdown",
      "source": [
        "+ Tính giá trị lớn nhất"
      ],
      "metadata": {
        "id": "klcPLZ6EeJQu"
      }
    },
    {
      "cell_type": "code",
      "source": [
        "def max(data):        \n",
        "  return data.max()"
      ],
      "metadata": {
        "id": "CsJLNGrJeMHB"
      },
      "execution_count": 8,
      "outputs": []
    },
    {
      "cell_type": "markdown",
      "source": [
        "+ Tính giá trị nhỏ nhất"
      ],
      "metadata": {
        "id": "x96g5GE1e7JH"
      }
    },
    {
      "cell_type": "code",
      "source": [
        "def min(data):        \n",
        "  return data.min()"
      ],
      "metadata": {
        "id": "eB1n74Mfe-P-"
      },
      "execution_count": 9,
      "outputs": []
    },
    {
      "cell_type": "markdown",
      "source": [
        "+ Tính số phân vị"
      ],
      "metadata": {
        "id": "PSApmuzOfnIK"
      }
    },
    {
      "cell_type": "code",
      "source": [
        "def quantile(data):   \n",
        "  return data.quantile()"
      ],
      "metadata": {
        "id": "zCqF9eAvfo38"
      },
      "execution_count": 10,
      "outputs": []
    },
    {
      "cell_type": "markdown",
      "source": [
        "Xây dựng các hàm vẽ biểu đồ \n",
        "\n",
        "\n"
      ],
      "metadata": {
        "id": "khlYe0MOg6Cr"
      }
    },
    {
      "cell_type": "code",
      "source": [
        "#Vẽ boxplot cho dữ liệu định lượng:\n",
        "def box_plot(data, title):\n",
        "  fig, ax = plt.subplots(figsize=(6,6))\n",
        "  plt.title(title)\n",
        "  sns.boxplot(data=df[[data]],color=\"lime\",width=0.2, fliersize=20, flierprops = dict(marker='.',markerfacecolor='pink'))"
      ],
      "metadata": {
        "id": "xT4By8U9qarC"
      },
      "execution_count": 47,
      "outputs": []
    },
    {
      "cell_type": "code",
      "source": [
        "#Vẽ barplot cho dữ liệu định tính: \n",
        "def barplot(data, title):\n",
        "  a = dict(df[data].value_counts()).keys()\n",
        "  b = dict(df[data].value_counts()).values()\n",
        "  plt.barh(list(a), list(b), color = \"rgb\")\n",
        "  plt.title(title)\n",
        "  plt.show()"
      ],
      "metadata": {
        "id": "msbqsjsE2ULU"
      },
      "execution_count": 48,
      "outputs": []
    },
    {
      "cell_type": "markdown",
      "source": [
        "# **Tiến hành phân tích**"
      ],
      "metadata": {
        "id": "nzyLvtG7XVfF"
      }
    },
    {
      "cell_type": "markdown",
      "source": [
        "+ Thu nhập của hộ gia đình hằng tháng: "
      ],
      "metadata": {
        "id": "r7gmXOzJuFjD"
      }
    },
    {
      "cell_type": "code",
      "source": [
        "print(\"Các phép tính thống kê mô tả:\")\n",
        "print(\"Trung bình: \", str(mean(df[\"Mthly_HH_Income\"])))\n",
        "print(\"Yếu vị: \", str(mode(df[\"Mthly_HH_Income\"])))\n",
        "print(\"Trung vị: \", str(median(df[\"Mthly_HH_Income\"])))\n",
        "print(\"Độ lệch chuẩn: \", str(std(df[\"Mthly_HH_Income\"])))\n",
        "print(\"Gía trị lớn nhất: \", str(max(df[\"Mthly_HH_Income\"])))\n",
        "print(\"Gía trị nhỏ nhất: \", str(min(df[\"Mthly_HH_Income\"])))\n",
        "print(\"Phân vị \", str(quantile(df[\"Mthly_HH_Income\"])))"
      ],
      "metadata": {
        "colab": {
          "base_uri": "https://localhost:8080/"
        },
        "id": "1yv29sM4uXPC",
        "outputId": "969c6a1a-c358-4044-9465-b642c793de66"
      },
      "execution_count": 53,
      "outputs": [
        {
          "output_type": "stream",
          "name": "stdout",
          "text": [
            "Các phép tính thống kê mô tả:\n",
            "Trung bình:  41558.0\n",
            "Yếu vị:  0    45000\n",
            "dtype: int64\n",
            "Trung vị:  35000.0\n",
            "Độ lệch chuẩn:  26097.908978713687\n",
            "Gía trị lớn nhất:  100000\n",
            "Gía trị nhỏ nhất:  5000\n",
            "Phân vị  35000.0\n"
          ]
        }
      ]
    },
    {
      "cell_type": "markdown",
      "source": [
        "+ Biểu đồ thu nhập của các hộ gia đình hàng tháng "
      ],
      "metadata": {
        "id": "2ab5y4BOwA5Y"
      }
    },
    {
      "cell_type": "code",
      "source": [
        "box_plot(\"Mthly_HH_Income\", \"Biểu đồ thu nhập của các hộ gia đình hàng tháng\")"
      ],
      "metadata": {
        "colab": {
          "base_uri": "https://localhost:8080/",
          "height": 392
        },
        "id": "hLX3I0GFq27b",
        "outputId": "060072fe-5c3b-474e-9d52-fab11a5f2425"
      },
      "execution_count": 15,
      "outputs": [
        {
          "output_type": "display_data",
          "data": {
            "text/plain": [
              "<Figure size 432x432 with 1 Axes>"
            ],
            "image/png": "[encoded data removed]"
          },
          "metadata": {
            "needs_background": "light"
          }
        }
      ]
    },
    {
      "cell_type": "markdown",
      "source": [
        "+ Chi tiêu của hộ gia đình hàng tháng"
      ],
      "metadata": {
        "id": "fO-SHqhUwLb8"
      }
    },
    {
      "cell_type": "code",
      "source": [
        "print(\"Các phép tính thống kê mô tả:\")\n",
        "print(\"Trung bình: \", str(mean(df[\"Mthly_HH_Expense\"])))\n",
        "print(\"Yếu vị: \", str(mode(df[\"Mthly_HH_Expense\"])))\n",
        "print(\"Trung vị: \", str(median(df[\"Mthly_HH_Expense\"])))\n",
        "print(\"Độ lệch chuẩn: \", str(std(df[\"Mthly_HH_Expense\"])))\n",
        "print(\"Gía trị lớn nhất: \", str(max(df[\"Mthly_HH_Expense\"])))\n",
        "print(\"Gía trị nhỏ nhất: \", str(min(df[\"Mthly_HH_Expense\"])))\n",
        "print(\"Phân vị \", str(quantile(df[\"Mthly_HH_Expense\"])))"
      ],
      "metadata": {
        "colab": {
          "base_uri": "https://localhost:8080/"
        },
        "id": "Lhy0mXucwRcA",
        "outputId": "0d27ee95-582e-484e-9e18-b331508a39c3"
      },
      "execution_count": 54,
      "outputs": [
        {
          "output_type": "stream",
          "name": "stdout",
          "text": [
            "Các phép tính thống kê mô tả:\n",
            "Trung bình:  18818.0\n",
            "Yếu vị:  0    25000\n",
            "dtype: int64\n",
            "Trung vị:  15500.0\n",
            "Độ lệch chuẩn:  12090.216824240286\n",
            "Gía trị lớn nhất:  50000\n",
            "Gía trị nhỏ nhất:  2000\n",
            "Phân vị  15500.0\n"
          ]
        }
      ]
    },
    {
      "cell_type": "markdown",
      "source": [
        "+ Biểu đồ chi tiêu của các hộ gia đình hàng tháng"
      ],
      "metadata": {
        "id": "yxi2vNHXwe8V"
      }
    },
    {
      "cell_type": "code",
      "source": [
        "box_plot(\"Mthly_HH_Expense\", \"Biểu đồ chi tiêu của các hộ gia đình hàng tháng\")"
      ],
      "metadata": {
        "colab": {
          "base_uri": "https://localhost:8080/",
          "height": 392
        },
        "id": "mm4THzB41qrU",
        "outputId": "aed25ba5-ecee-4554-e50b-82a7843f6d70"
      },
      "execution_count": 17,
      "outputs": [
        {
          "output_type": "display_data",
          "data": {
            "text/plain": [
              "<Figure size 432x432 with 1 Axes>"
            ],
            "image/png": "[encoded data removed]"
          },
          "metadata": {
            "needs_background": "light"
          }
        }
      ]
    },
    {
      "cell_type": "markdown",
      "source": [
        "+ Thu nhập của hộ gia đình hàng năm "
      ],
      "metadata": {
        "id": "mYv5kWsCw3rS"
      }
    },
    {
      "cell_type": "code",
      "source": [
        "print(\"Các phép tính thống kê mô tả:\")\n",
        "print(\"Trung bình: \", str(mean(df[\"Annual_HH_Income\"])))\n",
        "print(\"Yếu vị: \", str(mode(df[\"Annual_HH_Income\"])))\n",
        "print(\"Trung vị: \", str(median(df[\"Annual_HH_Income\"])))\n",
        "print(\"Độ lệch chuẩn: \", str(std(df[\"Annual_HH_Income\"])))\n",
        "print(\"Gía trị lớn nhất: \", str(max(df[\"Annual_HH_Income\"])))\n",
        "print(\"Gía trị nhỏ nhất: \", str(min(df[\"Annual_HH_Income\"])))\n",
        "print(\"Phân vị \", str(quantile(df[\"Annual_HH_Income\"])))"
      ],
      "metadata": {
        "colab": {
          "base_uri": "https://localhost:8080/"
        },
        "id": "FJ6IG1sIw-Jg",
        "outputId": "5d12a77c-e9df-4e49-b791-f7a884f08319"
      },
      "execution_count": 55,
      "outputs": [
        {
          "output_type": "stream",
          "name": "stdout",
          "text": [
            "Các phép tính thống kê mô tả:\n",
            "Trung bình:  490019.04\n",
            "Yếu vị:  0    590400\n",
            "dtype: int64\n",
            "Trung vị:  447420.0\n",
            "Độ lệch chuẩn:  320135.79212252516\n",
            "Gía trị lớn nhất:  1404000\n",
            "Gía trị nhỏ nhất:  64200\n",
            "Phân vị  447420.0\n"
          ]
        }
      ]
    },
    {
      "cell_type": "markdown",
      "source": [
        "+ Biểu độ thu nhập của các hộ gia đình hàng năm"
      ],
      "metadata": {
        "id": "0mPt5WVO6eVn"
      }
    },
    {
      "cell_type": "code",
      "source": [
        "box_plot(\"Annual_HH_Income\", \"Biểu độ thu nhập của các hộ gia đình hàng năm\")"
      ],
      "metadata": {
        "colab": {
          "base_uri": "https://localhost:8080/",
          "height": 392
        },
        "id": "4fVvrxAb2b5M",
        "outputId": "53ec6e67-b97f-4ac6-e432-4f78b2cc7df4"
      },
      "execution_count": 20,
      "outputs": [
        {
          "output_type": "display_data",
          "data": {
            "text/plain": [
              "<Figure size 432x432 with 1 Axes>"
            ],
            "image/png": "[encoded data removed]"
          },
          "metadata": {
            "needs_background": "light"
          }
        }
      ]
    },
    {
      "cell_type": "markdown",
      "source": [
        "+ Biểu đồ trình độ học vấn của thành viên có trình độ cao nhất trong gia đình"
      ],
      "metadata": {
        "id": "eYtprjEg44JI"
      }
    },
    {
      "cell_type": "code",
      "source": [
        "barplot('Highest_Qualified_Member', \"Biểu đồ trình độ học vấn của thành viên có trình độ cao nhất trong gia đình\")"
      ],
      "metadata": {
        "colab": {
          "base_uri": "https://localhost:8080/",
          "height": 337
        },
        "id": "Cfz8xsK_2n7Q",
        "outputId": "fb919561-266e-47ab-bd30-024250086b0b"
      },
      "execution_count": 49,
      "outputs": [
        {
          "output_type": "stream",
          "name": "stderr",
          "text": [
            "/usr/local/lib/python3.7/dist-packages/ipykernel_launcher.py:5: MatplotlibDeprecationWarning: Using a string of single character colors as a color sequence is deprecated. Use an explicit list instead.\n",
            "  \"\"\"\n"
          ]
        },
        {
          "output_type": "display_data",
          "data": {
            "text/plain": [
              "<Figure size 432x288 with 1 Axes>"
            ],
            "image/png": "[encoded data removed]"
          },
          "metadata": {
            "needs_background": "light"
          }
        }
      ]
    },
    {
      "cell_type": "markdown",
      "source": [
        "+ Biểu đồ số thành viên có thu nhập"
      ],
      "metadata": {
        "id": "9e0lkTVr4-Rn"
      }
    },
    {
      "cell_type": "code",
      "source": [
        "barplot(\"No_of_Earning_Members\", \"Biểu đồ số thành viên có thu nhập\")"
      ],
      "metadata": {
        "colab": {
          "base_uri": "https://localhost:8080/",
          "height": 337
        },
        "id": "pp31NJPu5Hxx",
        "outputId": "cc1d6c51-056a-423e-c251-9985c55c9c5b"
      },
      "execution_count": 51,
      "outputs": [
        {
          "output_type": "stream",
          "name": "stderr",
          "text": [
            "/usr/local/lib/python3.7/dist-packages/ipykernel_launcher.py:5: MatplotlibDeprecationWarning: Using a string of single character colors as a color sequence is deprecated. Use an explicit list instead.\n",
            "  \"\"\"\n"
          ]
        },
        {
          "output_type": "display_data",
          "data": {
            "text/plain": [
              "<Figure size 432x288 with 1 Axes>"
            ],
            "image/png": "[encoded data removed]"
          },
          "metadata": {
            "needs_background": "light"
          }
        }
      ]
    },
    {
      "cell_type": "markdown",
      "source": [
        "+ Biểu đồ số thành viên trong gia đình"
      ],
      "metadata": {
        "id": "h_2zZhmC5ZBA"
      }
    },
    {
      "cell_type": "code",
      "source": [
        "barplot(\"No_of_Fly_Members\", \"Biểu đồ số thành viên trong gia đình\")"
      ],
      "metadata": {
        "colab": {
          "base_uri": "https://localhost:8080/",
          "height": 337
        },
        "id": "cDhjIzUc5kl_",
        "outputId": "c33e2395-06b5-481d-c062-0d4d3ce94314"
      },
      "execution_count": 52,
      "outputs": [
        {
          "output_type": "stream",
          "name": "stderr",
          "text": [
            "/usr/local/lib/python3.7/dist-packages/ipykernel_launcher.py:5: MatplotlibDeprecationWarning: Using a string of single character colors as a color sequence is deprecated. Use an explicit list instead.\n",
            "  \"\"\"\n"
          ]
        },
        {
          "output_type": "display_data",
          "data": {
            "text/plain": [
              "<Figure size 432x288 with 1 Axes>"
            ],
            "image/png": "[encoded data removed]"
          },
          "metadata": {
            "needs_background": "light"
          }
        }
      ]
    },
    {
      "cell_type": "markdown",
      "source": [
        "**Nhận xét:** \n",
        "+ Phần lớn các hộ gia đình đều có thành viên có trình độ tốt nghiệp có bằng cấp(graduate) nhưng vẫn có một số ít hộ gia đình có thành viên thất học (illiterate).\n",
        "+ Hầu hết các hộ gia đình đều chỉ có 1 người có thu nhập, còn lại số hộ gia đình có nhiều hơn 1 người có thu nhập chiếm khá ít. \n",
        "+ Số hộ gia đình có lớn hơn 2 thành viên chiếm hầu hết, trong đó nhiều nhất là các hộ gia đình có 4 thành viên. "
      ],
      "metadata": {
        "id": "hpn4SfeH6q9G"
      }
    }
  ]
}