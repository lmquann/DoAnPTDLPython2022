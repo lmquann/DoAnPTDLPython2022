{
  "nbformat": 4,
  "nbformat_minor": 0,
  "metadata": {
    "colab": {
      "name": "DOAN_ThongKeSuyDien.ipynb",
      "provenance": [],
      "authorship_tag": "ABX9TyMYAnBi4AO/F2eEi1ns7YP9",
      "include_colab_link": true
    },
    "kernelspec": {
      "name": "python3",
      "display_name": "Python 3"
    },
    "language_info": {
      "name": "python"
    }
  },
  "cells": [
    {
      "cell_type": "markdown",
      "metadata": {
        "id": "view-in-github",
        "colab_type": "text"
      },
      "source": [
        "<a href=\"https://colab.research.google.com/github/lmquann/DoAnPTDLPython2022/blob/main/DOAN_ThongKeSuyDien.ipynb\" target=\"_parent\"><img src=\"https://colab.research.google.com/assets/colab-badge.svg\" alt=\"Open In Colab\"/></a>"
      ]
    },
    {
      "cell_type": "code",
      "execution_count": 85,
      "metadata": {
        "id": "ffR0Bx1qdf4P"
      },
      "outputs": [],
      "source": [
        "import numpy as np\n",
        "import pandas as pd\n",
        "import scipy.stats as st"
      ]
    },
    {
      "cell_type": "code",
      "source": [
        "df = pd.read_csv(\"/content/Diet_R.csv\")\n",
        "df.sample(10)"
      ],
      "metadata": {
        "colab": {
          "base_uri": "https://localhost:8080/",
          "height": 363
        },
        "id": "gFGAMQ6-gTGm",
        "outputId": "d9e1c74b-d005-4530-a369-17c6d2b9aec2"
      },
      "execution_count": 69,
      "outputs": [
        {
          "output_type": "execute_result",
          "data": {
            "text/plain": [
              "    Person gender  Age  Height  pre.weight  Diet  weight6weeks\n",
              "44      66      0   41     157          76     3          71.0\n",
              "35      57      0   20     169          67     3          61.6\n",
              "20      31      0   20     169          62     2          55.0\n",
              "7        6      0   50     201          66     1          64.0\n",
              "27      38      0   37     167          68     2          63.3\n",
              "45      15      1   39     168          71     1          71.6\n",
              "74      75      1   49     177          84     3          79.9\n",
              "48      18      1   50     160          78     1          73.9\n",
              "14      13      0   41     163          72     1          68.4\n",
              "30      52      0   51     165          60     3          53.0"
            ],
            "text/html": [
              "\n",
              "  <div id=\"df-08cef049-4e4c-49a8-b151-fe86005e3847\">\n",
              "    <div class=\"colab-df-container\">\n",
              "      <div>\n",
              "<style scoped>\n",
              "    .dataframe tbody tr th:only-of-type {\n",
              "        vertical-align: middle;\n",
              "    }\n",
              "\n",
              "    .dataframe tbody tr th {\n",
              "        vertical-align: top;\n",
              "    }\n",
              "\n",
              "    .dataframe thead th {\n",
              "        text-align: right;\n",
              "    }\n",
              "</style>\n",
              "<table border=\"1\" class=\"dataframe\">\n",
              "  <thead>\n",
              "    <tr style=\"text-align: right;\">\n",
              "      <th></th>\n",
              "      <th>Person</th>\n",
              "      <th>gender</th>\n",
              "      <th>Age</th>\n",
              "      <th>Height</th>\n",
              "      <th>pre.weight</th>\n",
              "      <th>Diet</th>\n",
              "      <th>weight6weeks</th>\n",
              "    </tr>\n",
              "  </thead>\n",
              "  <tbody>\n",
              "    <tr>\n",
              "      <th>44</th>\n",
              "      <td>66</td>\n",
              "      <td>0</td>\n",
              "      <td>41</td>\n",
              "      <td>157</td>\n",
              "      <td>76</td>\n",
              "      <td>3</td>\n",
              "      <td>71.0</td>\n",
              "    </tr>\n",
              "    <tr>\n",
              "      <th>35</th>\n",
              "      <td>57</td>\n",
              "      <td>0</td>\n",
              "      <td>20</td>\n",
              "      <td>169</td>\n",
              "      <td>67</td>\n",
              "      <td>3</td>\n",
              "      <td>61.6</td>\n",
              "    </tr>\n",
              "    <tr>\n",
              "      <th>20</th>\n",
              "      <td>31</td>\n",
              "      <td>0</td>\n",
              "      <td>20</td>\n",
              "      <td>169</td>\n",
              "      <td>62</td>\n",
              "      <td>2</td>\n",
              "      <td>55.0</td>\n",
              "    </tr>\n",
              "    <tr>\n",
              "      <th>7</th>\n",
              "      <td>6</td>\n",
              "      <td>0</td>\n",
              "      <td>50</td>\n",
              "      <td>201</td>\n",
              "      <td>66</td>\n",
              "      <td>1</td>\n",
              "      <td>64.0</td>\n",
              "    </tr>\n",
              "    <tr>\n",
              "      <th>27</th>\n",
              "      <td>38</td>\n",
              "      <td>0</td>\n",
              "      <td>37</td>\n",
              "      <td>167</td>\n",
              "      <td>68</td>\n",
              "      <td>2</td>\n",
              "      <td>63.3</td>\n",
              "    </tr>\n",
              "    <tr>\n",
              "      <th>45</th>\n",
              "      <td>15</td>\n",
              "      <td>1</td>\n",
              "      <td>39</td>\n",
              "      <td>168</td>\n",
              "      <td>71</td>\n",
              "      <td>1</td>\n",
              "      <td>71.6</td>\n",
              "    </tr>\n",
              "    <tr>\n",
              "      <th>74</th>\n",
              "      <td>75</td>\n",
              "      <td>1</td>\n",
              "      <td>49</td>\n",
              "      <td>177</td>\n",
              "      <td>84</td>\n",
              "      <td>3</td>\n",
              "      <td>79.9</td>\n",
              "    </tr>\n",
              "    <tr>\n",
              "      <th>48</th>\n",
              "      <td>18</td>\n",
              "      <td>1</td>\n",
              "      <td>50</td>\n",
              "      <td>160</td>\n",
              "      <td>78</td>\n",
              "      <td>1</td>\n",
              "      <td>73.9</td>\n",
              "    </tr>\n",
              "    <tr>\n",
              "      <th>14</th>\n",
              "      <td>13</td>\n",
              "      <td>0</td>\n",
              "      <td>41</td>\n",
              "      <td>163</td>\n",
              "      <td>72</td>\n",
              "      <td>1</td>\n",
              "      <td>68.4</td>\n",
              "    </tr>\n",
              "    <tr>\n",
              "      <th>30</th>\n",
              "      <td>52</td>\n",
              "      <td>0</td>\n",
              "      <td>51</td>\n",
              "      <td>165</td>\n",
              "      <td>60</td>\n",
              "      <td>3</td>\n",
              "      <td>53.0</td>\n",
              "    </tr>\n",
              "  </tbody>\n",
              "</table>\n",
              "</div>\n",
              "      <button class=\"colab-df-convert\" onclick=\"convertToInteractive('df-08cef049-4e4c-49a8-b151-fe86005e3847')\"\n",
              "              title=\"Convert this dataframe to an interactive table.\"\n",
              "              style=\"display:none;\">\n",
              "        \n",
              "  <svg xmlns=\"http://www.w3.org/2000/svg\" height=\"24px\"viewBox=\"0 0 24 24\"\n",
              "       width=\"24px\">\n",
              "    <path d=\"M0 0h24v24H0V0z\" fill=\"none\"/>\n",
              "    <path d=\"M18.56 5.44l.94 2.06.94-2.06 2.06-.94-2.06-.94-.94-2.06-.94 2.06-2.06.94zm-11 1L8.5 8.5l.94-2.06 2.06-.94-2.06-.94L8.5 2.5l-.94 2.06-2.06.94zm10 10l.94 2.06.94-2.06 2.06-.94-2.06-.94-.94-2.06-.94 2.06-2.06.94z\"/><path d=\"M17.41 7.96l-1.37-1.37c-.4-.4-.92-.59-1.43-.59-.52 0-1.04.2-1.43.59L10.3 9.45l-7.72 7.72c-.78.78-.78 2.05 0 2.83L4 21.41c.39.39.9.59 1.41.59.51 0 1.02-.2 1.41-.59l7.78-7.78 2.81-2.81c.8-.78.8-2.07 0-2.86zM5.41 20L4 18.59l7.72-7.72 1.47 1.35L5.41 20z\"/>\n",
              "  </svg>\n",
              "      </button>\n",
              "      \n",
              "  <style>\n",
              "    .colab-df-container {\n",
              "      display:flex;\n",
              "      flex-wrap:wrap;\n",
              "      gap: 12px;\n",
              "    }\n",
              "\n",
              "    .colab-df-convert {\n",
              "      background-color: #E8F0FE;\n",
              "      border: none;\n",
              "      border-radius: 50%;\n",
              "      cursor: pointer;\n",
              "      display: none;\n",
              "      fill: #1967D2;\n",
              "      height: 32px;\n",
              "      padding: 0 0 0 0;\n",
              "      width: 32px;\n",
              "    }\n",
              "\n",
              "    .colab-df-convert:hover {\n",
              "      background-color: #E2EBFA;\n",
              "      box-shadow: 0px 1px 2px rgba(60, 64, 67, 0.3), 0px 1px 3px 1px rgba(60, 64, 67, 0.15);\n",
              "      fill: #174EA6;\n",
              "    }\n",
              "\n",
              "    [theme=dark] .colab-df-convert {\n",
              "      background-color: #3B4455;\n",
              "      fill: #D2E3FC;\n",
              "    }\n",
              "\n",
              "    [theme=dark] .colab-df-convert:hover {\n",
              "      background-color: #434B5C;\n",
              "      box-shadow: 0px 1px 3px 1px rgba(0, 0, 0, 0.15);\n",
              "      filter: drop-shadow(0px 1px 2px rgba(0, 0, 0, 0.3));\n",
              "      fill: #FFFFFF;\n",
              "    }\n",
              "  </style>\n",
              "\n",
              "      <script>\n",
              "        const buttonEl =\n",
              "          document.querySelector('#df-08cef049-4e4c-49a8-b151-fe86005e3847 button.colab-df-convert');\n",
              "        buttonEl.style.display =\n",
              "          google.colab.kernel.accessAllowed ? 'block' : 'none';\n",
              "\n",
              "        async function convertToInteractive(key) {\n",
              "          const element = document.querySelector('#df-08cef049-4e4c-49a8-b151-fe86005e3847');\n",
              "          const dataTable =\n",
              "            await google.colab.kernel.invokeFunction('convertToInteractive',\n",
              "                                                     [key], {});\n",
              "          if (!dataTable) return;\n",
              "\n",
              "          const docLinkHtml = 'Like what you see? Visit the ' +\n",
              "            '<a target=\"_blank\" href=https://colab.research.google.com/notebooks/data_table.ipynb>data table notebook</a>'\n",
              "            + ' to learn more about interactive tables.';\n",
              "          element.innerHTML = '';\n",
              "          dataTable['output_type'] = 'display_data';\n",
              "          await google.colab.output.renderOutput(dataTable, element);\n",
              "          const docLink = document.createElement('div');\n",
              "          docLink.innerHTML = docLinkHtml;\n",
              "          element.appendChild(docLink);\n",
              "        }\n",
              "      </script>\n",
              "    </div>\n",
              "  </div>\n",
              "  "
            ]
          },
          "metadata": {},
          "execution_count": 69
        }
      ]
    },
    {
      "cell_type": "markdown",
      "source": [
        "Xóa các dữ liệu trống:"
      ],
      "metadata": {
        "id": "5F5xrTfihL0e"
      }
    },
    {
      "cell_type": "code",
      "source": [
        "#Chuyển đổi các ô trống sang NaN\n",
        "df.replace(\" \", np.nan, inplace=True) \n",
        "#Xóa các hàng có giá trị NaN\n",
        "df.dropna(inplace=True) \n",
        "df.sample(10)"
      ],
      "metadata": {
        "colab": {
          "base_uri": "https://localhost:8080/",
          "height": 363
        },
        "id": "vA7LJeQzhK7t",
        "outputId": "1e899916-555e-4d33-f09c-6b3e346d7273"
      },
      "execution_count": 70,
      "outputs": [
        {
          "output_type": "execute_result",
          "data": {
            "text/plain": [
              "    Person gender  Age  Height  pre.weight  Diet  weight6weeks\n",
              "3        2      0   46     192          60     1          54.0\n",
              "49      19      1   43     162          80     1          71.0\n",
              "16      27      0   44     174          58     2          60.1\n",
              "55      41      1   51     191          71     2          66.8\n",
              "21      32      0   51     174          63     2          62.4\n",
              "34      56      0   36     160          66     3          58.2\n",
              "74      75      1   49     177          84     3          79.9\n",
              "46      16      1   31     158          72     1          70.9\n",
              "31      53      0   35     169          62     3          56.4\n",
              "19      30      0   43     171          61     2          56.7"
            ],
            "text/html": [
              "\n",
              "  <div id=\"df-eb5e1a88-644f-4e1b-aae4-db8fa99e4649\">\n",
              "    <div class=\"colab-df-container\">\n",
              "      <div>\n",
              "<style scoped>\n",
              "    .dataframe tbody tr th:only-of-type {\n",
              "        vertical-align: middle;\n",
              "    }\n",
              "\n",
              "    .dataframe tbody tr th {\n",
              "        vertical-align: top;\n",
              "    }\n",
              "\n",
              "    .dataframe thead th {\n",
              "        text-align: right;\n",
              "    }\n",
              "</style>\n",
              "<table border=\"1\" class=\"dataframe\">\n",
              "  <thead>\n",
              "    <tr style=\"text-align: right;\">\n",
              "      <th></th>\n",
              "      <th>Person</th>\n",
              "      <th>gender</th>\n",
              "      <th>Age</th>\n",
              "      <th>Height</th>\n",
              "      <th>pre.weight</th>\n",
              "      <th>Diet</th>\n",
              "      <th>weight6weeks</th>\n",
              "    </tr>\n",
              "  </thead>\n",
              "  <tbody>\n",
              "    <tr>\n",
              "      <th>3</th>\n",
              "      <td>2</td>\n",
              "      <td>0</td>\n",
              "      <td>46</td>\n",
              "      <td>192</td>\n",
              "      <td>60</td>\n",
              "      <td>1</td>\n",
              "      <td>54.0</td>\n",
              "    </tr>\n",
              "    <tr>\n",
              "      <th>49</th>\n",
              "      <td>19</td>\n",
              "      <td>1</td>\n",
              "      <td>43</td>\n",
              "      <td>162</td>\n",
              "      <td>80</td>\n",
              "      <td>1</td>\n",
              "      <td>71.0</td>\n",
              "    </tr>\n",
              "    <tr>\n",
              "      <th>16</th>\n",
              "      <td>27</td>\n",
              "      <td>0</td>\n",
              "      <td>44</td>\n",
              "      <td>174</td>\n",
              "      <td>58</td>\n",
              "      <td>2</td>\n",
              "      <td>60.1</td>\n",
              "    </tr>\n",
              "    <tr>\n",
              "      <th>55</th>\n",
              "      <td>41</td>\n",
              "      <td>1</td>\n",
              "      <td>51</td>\n",
              "      <td>191</td>\n",
              "      <td>71</td>\n",
              "      <td>2</td>\n",
              "      <td>66.8</td>\n",
              "    </tr>\n",
              "    <tr>\n",
              "      <th>21</th>\n",
              "      <td>32</td>\n",
              "      <td>0</td>\n",
              "      <td>51</td>\n",
              "      <td>174</td>\n",
              "      <td>63</td>\n",
              "      <td>2</td>\n",
              "      <td>62.4</td>\n",
              "    </tr>\n",
              "    <tr>\n",
              "      <th>34</th>\n",
              "      <td>56</td>\n",
              "      <td>0</td>\n",
              "      <td>36</td>\n",
              "      <td>160</td>\n",
              "      <td>66</td>\n",
              "      <td>3</td>\n",
              "      <td>58.2</td>\n",
              "    </tr>\n",
              "    <tr>\n",
              "      <th>74</th>\n",
              "      <td>75</td>\n",
              "      <td>1</td>\n",
              "      <td>49</td>\n",
              "      <td>177</td>\n",
              "      <td>84</td>\n",
              "      <td>3</td>\n",
              "      <td>79.9</td>\n",
              "    </tr>\n",
              "    <tr>\n",
              "      <th>46</th>\n",
              "      <td>16</td>\n",
              "      <td>1</td>\n",
              "      <td>31</td>\n",
              "      <td>158</td>\n",
              "      <td>72</td>\n",
              "      <td>1</td>\n",
              "      <td>70.9</td>\n",
              "    </tr>\n",
              "    <tr>\n",
              "      <th>31</th>\n",
              "      <td>53</td>\n",
              "      <td>0</td>\n",
              "      <td>35</td>\n",
              "      <td>169</td>\n",
              "      <td>62</td>\n",
              "      <td>3</td>\n",
              "      <td>56.4</td>\n",
              "    </tr>\n",
              "    <tr>\n",
              "      <th>19</th>\n",
              "      <td>30</td>\n",
              "      <td>0</td>\n",
              "      <td>43</td>\n",
              "      <td>171</td>\n",
              "      <td>61</td>\n",
              "      <td>2</td>\n",
              "      <td>56.7</td>\n",
              "    </tr>\n",
              "  </tbody>\n",
              "</table>\n",
              "</div>\n",
              "      <button class=\"colab-df-convert\" onclick=\"convertToInteractive('df-eb5e1a88-644f-4e1b-aae4-db8fa99e4649')\"\n",
              "              title=\"Convert this dataframe to an interactive table.\"\n",
              "              style=\"display:none;\">\n",
              "        \n",
              "  <svg xmlns=\"http://www.w3.org/2000/svg\" height=\"24px\"viewBox=\"0 0 24 24\"\n",
              "       width=\"24px\">\n",
              "    <path d=\"M0 0h24v24H0V0z\" fill=\"none\"/>\n",
              "    <path d=\"M18.56 5.44l.94 2.06.94-2.06 2.06-.94-2.06-.94-.94-2.06-.94 2.06-2.06.94zm-11 1L8.5 8.5l.94-2.06 2.06-.94-2.06-.94L8.5 2.5l-.94 2.06-2.06.94zm10 10l.94 2.06.94-2.06 2.06-.94-2.06-.94-.94-2.06-.94 2.06-2.06.94z\"/><path d=\"M17.41 7.96l-1.37-1.37c-.4-.4-.92-.59-1.43-.59-.52 0-1.04.2-1.43.59L10.3 9.45l-7.72 7.72c-.78.78-.78 2.05 0 2.83L4 21.41c.39.39.9.59 1.41.59.51 0 1.02-.2 1.41-.59l7.78-7.78 2.81-2.81c.8-.78.8-2.07 0-2.86zM5.41 20L4 18.59l7.72-7.72 1.47 1.35L5.41 20z\"/>\n",
              "  </svg>\n",
              "      </button>\n",
              "      \n",
              "  <style>\n",
              "    .colab-df-container {\n",
              "      display:flex;\n",
              "      flex-wrap:wrap;\n",
              "      gap: 12px;\n",
              "    }\n",
              "\n",
              "    .colab-df-convert {\n",
              "      background-color: #E8F0FE;\n",
              "      border: none;\n",
              "      border-radius: 50%;\n",
              "      cursor: pointer;\n",
              "      display: none;\n",
              "      fill: #1967D2;\n",
              "      height: 32px;\n",
              "      padding: 0 0 0 0;\n",
              "      width: 32px;\n",
              "    }\n",
              "\n",
              "    .colab-df-convert:hover {\n",
              "      background-color: #E2EBFA;\n",
              "      box-shadow: 0px 1px 2px rgba(60, 64, 67, 0.3), 0px 1px 3px 1px rgba(60, 64, 67, 0.15);\n",
              "      fill: #174EA6;\n",
              "    }\n",
              "\n",
              "    [theme=dark] .colab-df-convert {\n",
              "      background-color: #3B4455;\n",
              "      fill: #D2E3FC;\n",
              "    }\n",
              "\n",
              "    [theme=dark] .colab-df-convert:hover {\n",
              "      background-color: #434B5C;\n",
              "      box-shadow: 0px 1px 3px 1px rgba(0, 0, 0, 0.15);\n",
              "      filter: drop-shadow(0px 1px 2px rgba(0, 0, 0, 0.3));\n",
              "      fill: #FFFFFF;\n",
              "    }\n",
              "  </style>\n",
              "\n",
              "      <script>\n",
              "        const buttonEl =\n",
              "          document.querySelector('#df-eb5e1a88-644f-4e1b-aae4-db8fa99e4649 button.colab-df-convert');\n",
              "        buttonEl.style.display =\n",
              "          google.colab.kernel.accessAllowed ? 'block' : 'none';\n",
              "\n",
              "        async function convertToInteractive(key) {\n",
              "          const element = document.querySelector('#df-eb5e1a88-644f-4e1b-aae4-db8fa99e4649');\n",
              "          const dataTable =\n",
              "            await google.colab.kernel.invokeFunction('convertToInteractive',\n",
              "                                                     [key], {});\n",
              "          if (!dataTable) return;\n",
              "\n",
              "          const docLinkHtml = 'Like what you see? Visit the ' +\n",
              "            '<a target=\"_blank\" href=https://colab.research.google.com/notebooks/data_table.ipynb>data table notebook</a>'\n",
              "            + ' to learn more about interactive tables.';\n",
              "          element.innerHTML = '';\n",
              "          dataTable['output_type'] = 'display_data';\n",
              "          await google.colab.output.renderOutput(dataTable, element);\n",
              "          const docLink = document.createElement('div');\n",
              "          docLink.innerHTML = docLinkHtml;\n",
              "          element.appendChild(docLink);\n",
              "        }\n",
              "      </script>\n",
              "    </div>\n",
              "  </div>\n",
              "  "
            ]
          },
          "metadata": {},
          "execution_count": 70
        }
      ]
    },
    {
      "cell_type": "markdown",
      "source": [
        "# **Phát biểu câu hỏi nghiên cứu và tiến hành phân tích**"
      ],
      "metadata": {
        "id": "rxo0UUL2lWvs"
      }
    },
    {
      "cell_type": "markdown",
      "source": [
        "**Ignore diet and test to see if weight has been lost(Bỏ qua chế độ ăn kiêng và kiểm tra xem cân nặng có giảm hay không?)**"
      ],
      "metadata": {
        "id": "6PRR8JZ-lemM"
      }
    },
    {
      "cell_type": "markdown",
      "source": [
        "Phát biểu giả thiết:\n",
        "\n",
        "+ $H_0$ : Cân nặng trước và sau khi kiểm tra bằng nhau.\n",
        "\n",
        "+ $H_a$ : Cân nặng trước và sau khi kiểm tra có sự khác nhau. "
      ],
      "metadata": {
        "id": "gELJLiOhlyqv"
      }
    },
    {
      "cell_type": "code",
      "source": [
        "ttest_score, p = st.ttest_rel(df[\"pre.weight\"], df[\"weight6weeks\"])\n",
        "print(\"Stat =\", ttest_score, \"P_value =\", p)\n",
        "if p > 0.05:\n",
        "    print(\"không có bằng chứng để bác bỏ giả thiết H0\")\n",
        "else:\n",
        "    print(\"có bằng chứng để bác bỏ giả thiết H0, điều này ngụ ý chấp nhận giả thiết Ha\")"
      ],
      "metadata": {
        "colab": {
          "base_uri": "https://localhost:8080/"
        },
        "id": "h90xYqqQluhI",
        "outputId": "3548c030-a3ea-4cc2-a949-db997cd5aee4"
      },
      "execution_count": 71,
      "outputs": [
        {
          "output_type": "stream",
          "name": "stdout",
          "text": [
            "Stat = 13.728486740903172 P_value = 3.7220652146643845e-22\n",
            "có bằng chứng để bác bỏ giả thiết H0, điều này ngụ ý chấp nhận giả thiết Ha\n"
          ]
        }
      ]
    },
    {
      "cell_type": "markdown",
      "source": [
        "**=> Cân nặng trước và sau khi kiểm tra có sự khác nhau**"
      ],
      "metadata": {
        "id": "yo0xx1bBnkCM"
      }
    },
    {
      "cell_type": "markdown",
      "source": [
        "**Remove weight lost and get students to calculate it using before/after weights(Loại bỏ trọng lượng đã giảm và tính toán nó bằng cách sử dụng trọng lượng trước / sau)**"
      ],
      "metadata": {
        "id": "PptsWQmdoFLa"
      }
    },
    {
      "cell_type": "code",
      "source": [
        "df[\"Weightlost\"] = (df[\"pre.weight\"] - df[\"weight6weeks\"]).values\n",
        "df.sample(10)"
      ],
      "metadata": {
        "colab": {
          "base_uri": "https://localhost:8080/",
          "height": 363
        },
        "id": "_I-yqBb5lcMk",
        "outputId": "e88fb950-1346-4eb5-98e5-b588c24b995d"
      },
      "execution_count": 72,
      "outputs": [
        {
          "output_type": "execute_result",
          "data": {
            "text/plain": [
              "    Person gender  Age  Height  pre.weight  Diet  weight6weeks  Weightlost\n",
              "69      70      1   37     173          78     3          77.5         0.5\n",
              "21      32      0   51     174          63     2          62.4         0.6\n",
              "2        1      0   22     159          58     1          54.2         3.8\n",
              "6        5      0   50     170          65     1          62.2         2.8\n",
              "45      15      1   39     168          71     1          71.6        -0.6\n",
              "61      47      1   44     163          79     2          73.6         5.4\n",
              "63      49      1   37     198          79     2          71.1         7.9\n",
              "28      39      0   30     161          76     2          72.7         3.3\n",
              "38      60      0   58     141          70     3          63.0         7.0\n",
              "14      13      0   41     163          72     1          68.4         3.6"
            ],
            "text/html": [
              "\n",
              "  <div id=\"df-d344c657-e776-482e-8162-894d820d61b3\">\n",
              "    <div class=\"colab-df-container\">\n",
              "      <div>\n",
              "<style scoped>\n",
              "    .dataframe tbody tr th:only-of-type {\n",
              "        vertical-align: middle;\n",
              "    }\n",
              "\n",
              "    .dataframe tbody tr th {\n",
              "        vertical-align: top;\n",
              "    }\n",
              "\n",
              "    .dataframe thead th {\n",
              "        text-align: right;\n",
              "    }\n",
              "</style>\n",
              "<table border=\"1\" class=\"dataframe\">\n",
              "  <thead>\n",
              "    <tr style=\"text-align: right;\">\n",
              "      <th></th>\n",
              "      <th>Person</th>\n",
              "      <th>gender</th>\n",
              "      <th>Age</th>\n",
              "      <th>Height</th>\n",
              "      <th>pre.weight</th>\n",
              "      <th>Diet</th>\n",
              "      <th>weight6weeks</th>\n",
              "      <th>Weightlost</th>\n",
              "    </tr>\n",
              "  </thead>\n",
              "  <tbody>\n",
              "    <tr>\n",
              "      <th>69</th>\n",
              "      <td>70</td>\n",
              "      <td>1</td>\n",
              "      <td>37</td>\n",
              "      <td>173</td>\n",
              "      <td>78</td>\n",
              "      <td>3</td>\n",
              "      <td>77.5</td>\n",
              "      <td>0.5</td>\n",
              "    </tr>\n",
              "    <tr>\n",
              "      <th>21</th>\n",
              "      <td>32</td>\n",
              "      <td>0</td>\n",
              "      <td>51</td>\n",
              "      <td>174</td>\n",
              "      <td>63</td>\n",
              "      <td>2</td>\n",
              "      <td>62.4</td>\n",
              "      <td>0.6</td>\n",
              "    </tr>\n",
              "    <tr>\n",
              "      <th>2</th>\n",
              "      <td>1</td>\n",
              "      <td>0</td>\n",
              "      <td>22</td>\n",
              "      <td>159</td>\n",
              "      <td>58</td>\n",
              "      <td>1</td>\n",
              "      <td>54.2</td>\n",
              "      <td>3.8</td>\n",
              "    </tr>\n",
              "    <tr>\n",
              "      <th>6</th>\n",
              "      <td>5</td>\n",
              "      <td>0</td>\n",
              "      <td>50</td>\n",
              "      <td>170</td>\n",
              "      <td>65</td>\n",
              "      <td>1</td>\n",
              "      <td>62.2</td>\n",
              "      <td>2.8</td>\n",
              "    </tr>\n",
              "    <tr>\n",
              "      <th>45</th>\n",
              "      <td>15</td>\n",
              "      <td>1</td>\n",
              "      <td>39</td>\n",
              "      <td>168</td>\n",
              "      <td>71</td>\n",
              "      <td>1</td>\n",
              "      <td>71.6</td>\n",
              "      <td>-0.6</td>\n",
              "    </tr>\n",
              "    <tr>\n",
              "      <th>61</th>\n",
              "      <td>47</td>\n",
              "      <td>1</td>\n",
              "      <td>44</td>\n",
              "      <td>163</td>\n",
              "      <td>79</td>\n",
              "      <td>2</td>\n",
              "      <td>73.6</td>\n",
              "      <td>5.4</td>\n",
              "    </tr>\n",
              "    <tr>\n",
              "      <th>63</th>\n",
              "      <td>49</td>\n",
              "      <td>1</td>\n",
              "      <td>37</td>\n",
              "      <td>198</td>\n",
              "      <td>79</td>\n",
              "      <td>2</td>\n",
              "      <td>71.1</td>\n",
              "      <td>7.9</td>\n",
              "    </tr>\n",
              "    <tr>\n",
              "      <th>28</th>\n",
              "      <td>39</td>\n",
              "      <td>0</td>\n",
              "      <td>30</td>\n",
              "      <td>161</td>\n",
              "      <td>76</td>\n",
              "      <td>2</td>\n",
              "      <td>72.7</td>\n",
              "      <td>3.3</td>\n",
              "    </tr>\n",
              "    <tr>\n",
              "      <th>38</th>\n",
              "      <td>60</td>\n",
              "      <td>0</td>\n",
              "      <td>58</td>\n",
              "      <td>141</td>\n",
              "      <td>70</td>\n",
              "      <td>3</td>\n",
              "      <td>63.0</td>\n",
              "      <td>7.0</td>\n",
              "    </tr>\n",
              "    <tr>\n",
              "      <th>14</th>\n",
              "      <td>13</td>\n",
              "      <td>0</td>\n",
              "      <td>41</td>\n",
              "      <td>163</td>\n",
              "      <td>72</td>\n",
              "      <td>1</td>\n",
              "      <td>68.4</td>\n",
              "      <td>3.6</td>\n",
              "    </tr>\n",
              "  </tbody>\n",
              "</table>\n",
              "</div>\n",
              "      <button class=\"colab-df-convert\" onclick=\"convertToInteractive('df-d344c657-e776-482e-8162-894d820d61b3')\"\n",
              "              title=\"Convert this dataframe to an interactive table.\"\n",
              "              style=\"display:none;\">\n",
              "        \n",
              "  <svg xmlns=\"http://www.w3.org/2000/svg\" height=\"24px\"viewBox=\"0 0 24 24\"\n",
              "       width=\"24px\">\n",
              "    <path d=\"M0 0h24v24H0V0z\" fill=\"none\"/>\n",
              "    <path d=\"M18.56 5.44l.94 2.06.94-2.06 2.06-.94-2.06-.94-.94-2.06-.94 2.06-2.06.94zm-11 1L8.5 8.5l.94-2.06 2.06-.94-2.06-.94L8.5 2.5l-.94 2.06-2.06.94zm10 10l.94 2.06.94-2.06 2.06-.94-2.06-.94-.94-2.06-.94 2.06-2.06.94z\"/><path d=\"M17.41 7.96l-1.37-1.37c-.4-.4-.92-.59-1.43-.59-.52 0-1.04.2-1.43.59L10.3 9.45l-7.72 7.72c-.78.78-.78 2.05 0 2.83L4 21.41c.39.39.9.59 1.41.59.51 0 1.02-.2 1.41-.59l7.78-7.78 2.81-2.81c.8-.78.8-2.07 0-2.86zM5.41 20L4 18.59l7.72-7.72 1.47 1.35L5.41 20z\"/>\n",
              "  </svg>\n",
              "      </button>\n",
              "      \n",
              "  <style>\n",
              "    .colab-df-container {\n",
              "      display:flex;\n",
              "      flex-wrap:wrap;\n",
              "      gap: 12px;\n",
              "    }\n",
              "\n",
              "    .colab-df-convert {\n",
              "      background-color: #E8F0FE;\n",
              "      border: none;\n",
              "      border-radius: 50%;\n",
              "      cursor: pointer;\n",
              "      display: none;\n",
              "      fill: #1967D2;\n",
              "      height: 32px;\n",
              "      padding: 0 0 0 0;\n",
              "      width: 32px;\n",
              "    }\n",
              "\n",
              "    .colab-df-convert:hover {\n",
              "      background-color: #E2EBFA;\n",
              "      box-shadow: 0px 1px 2px rgba(60, 64, 67, 0.3), 0px 1px 3px 1px rgba(60, 64, 67, 0.15);\n",
              "      fill: #174EA6;\n",
              "    }\n",
              "\n",
              "    [theme=dark] .colab-df-convert {\n",
              "      background-color: #3B4455;\n",
              "      fill: #D2E3FC;\n",
              "    }\n",
              "\n",
              "    [theme=dark] .colab-df-convert:hover {\n",
              "      background-color: #434B5C;\n",
              "      box-shadow: 0px 1px 3px 1px rgba(0, 0, 0, 0.15);\n",
              "      filter: drop-shadow(0px 1px 2px rgba(0, 0, 0, 0.3));\n",
              "      fill: #FFFFFF;\n",
              "    }\n",
              "  </style>\n",
              "\n",
              "      <script>\n",
              "        const buttonEl =\n",
              "          document.querySelector('#df-d344c657-e776-482e-8162-894d820d61b3 button.colab-df-convert');\n",
              "        buttonEl.style.display =\n",
              "          google.colab.kernel.accessAllowed ? 'block' : 'none';\n",
              "\n",
              "        async function convertToInteractive(key) {\n",
              "          const element = document.querySelector('#df-d344c657-e776-482e-8162-894d820d61b3');\n",
              "          const dataTable =\n",
              "            await google.colab.kernel.invokeFunction('convertToInteractive',\n",
              "                                                     [key], {});\n",
              "          if (!dataTable) return;\n",
              "\n",
              "          const docLinkHtml = 'Like what you see? Visit the ' +\n",
              "            '<a target=\"_blank\" href=https://colab.research.google.com/notebooks/data_table.ipynb>data table notebook</a>'\n",
              "            + ' to learn more about interactive tables.';\n",
              "          element.innerHTML = '';\n",
              "          dataTable['output_type'] = 'display_data';\n",
              "          await google.colab.output.renderOutput(dataTable, element);\n",
              "          const docLink = document.createElement('div');\n",
              "          docLink.innerHTML = docLinkHtml;\n",
              "          element.appendChild(docLink);\n",
              "        }\n",
              "      </script>\n",
              "    </div>\n",
              "  </div>\n",
              "  "
            ]
          },
          "metadata": {},
          "execution_count": 72
        }
      ]
    },
    {
      "cell_type": "markdown",
      "source": [
        "**Summary statistics by diet (phân nhóm giá trị weightlost theo diet)**"
      ],
      "metadata": {
        "id": "Et7DbihEkwbP"
      }
    },
    {
      "cell_type": "code",
      "source": [
        "w1 = df[(df[\"Diet\"] == 1)][\"Weightlost\"]\n",
        "w2 = df[(df[\"Diet\"] == 2)][\"Weightlost\"]\n",
        "w3 = df[(df[\"Diet\"] == 3)][\"Weightlost\"]"
      ],
      "metadata": {
        "id": "_iPiYT_Vk7k8"
      },
      "execution_count": 75,
      "outputs": []
    },
    {
      "cell_type": "markdown",
      "source": [
        "\n",
        "**Which diet was best for losing weight?(Chế độ ăn kiêng nào là tốt nhất để giảm cân?)**"
      ],
      "metadata": {
        "id": "oIjCOS_oeiTK"
      }
    },
    {
      "cell_type": "markdown",
      "source": [
        "Trước khi kiểm định ANOVA ta cần tiến hành kiểm tra tập dữ liệu thỏa mãn 3 tính chất sau: \n",
        "+ Tất cả các nhóm đều độc lập với nhau\n",
        "+ Dữ liệu của mỗi nhóm đều tuân theo phân phối chuẩn. .\n",
        "+ Phương sai (variance) của các nhóm bằng nhau. "
      ],
      "metadata": {
        "id": "dnVoY0pYfFHG"
      }
    },
    {
      "cell_type": "markdown",
      "source": [
        "**Kiểm tra phân phối chuẩn:**"
      ],
      "metadata": {
        "id": "HApEO1-j3lUN"
      }
    },
    {
      "cell_type": "markdown",
      "source": [
        "Phát biểu giả thiết:\n",
        "\n",
        "+ $H_0$ : Các mẫu tuân theo phân phối chuẩn.\n",
        "\n",
        "+ $H_a$ : Các mẫu không tuân theo phân phối chuẩn. "
      ],
      "metadata": {
        "id": "cgSTj-lm3oBq"
      }
    },
    {
      "cell_type": "code",
      "source": [
        "#Kiểm tra Diet1 với mức ý nghĩa 0.05: \n",
        "stat, p = st.shapiro(w1) \n",
        "print(\"Stat =\", stat, \"\\n\", \"p value =\", p)\n",
        "if p > 0.05:\n",
        "    print(\"không có bằng chứng để bác bỏ giả thiết H0\")\n",
        "else:\n",
        "    print(\"có bằng chứng để bác bỏ giả thiết H0, điều này ngụ ý chấp nhận giả thiết Ha\")"
      ],
      "metadata": {
        "colab": {
          "base_uri": "https://localhost:8080/"
        },
        "id": "BHpqon6LhUJD",
        "outputId": "f722da80-5148-4d3f-9755-5ff743869e64"
      },
      "execution_count": 76,
      "outputs": [
        {
          "output_type": "stream",
          "name": "stdout",
          "text": [
            "Stat = 0.9255314469337463 \n",
            " p value = 0.07748671621084213\n",
            "không có bằng chứng để bác bỏ giả thiết H0\n"
          ]
        }
      ]
    },
    {
      "cell_type": "code",
      "source": [
        "#Kiểm tra Diet2 với mức ý nghĩa 0.05: \n",
        "stat, p = st.shapiro(w2) \n",
        "print(\"Stat =\", stat, \"\\n\", \"p value =\", p)\n",
        "if p > 0.05:\n",
        "    print(\"không có bằng chứng để bác bỏ giả thiết H0\")\n",
        "else:\n",
        "    print(\"có bằng chứng để bác bỏ giả thiết H0, điều này ngụ ý chấp nhận giả thiết Ha\")"
      ],
      "metadata": {
        "colab": {
          "base_uri": "https://localhost:8080/"
        },
        "id": "WXpjzpseqEDC",
        "outputId": "2e3afeb1-39d9-421e-a9ce-d3bc6ed2be40"
      },
      "execution_count": 77,
      "outputs": [
        {
          "output_type": "stream",
          "name": "stdout",
          "text": [
            "Stat = 0.9793620705604553 \n",
            " p value = 0.8721737861633301\n",
            "không có bằng chứng để bác bỏ giả thiết H0\n"
          ]
        }
      ]
    },
    {
      "cell_type": "code",
      "source": [
        "#Kiểm tra Diet3 với mức ý nghĩa 0.05: \n",
        "stat, p = st.shapiro(w3) \n",
        "print(\"Stat =\", stat, \"\\n\", \"p value =\", p)\n",
        "if p > 0.05:\n",
        "    print(\"không có bằng chứng để bác bỏ giả thiết H0\")\n",
        "else:\n",
        "    print(\"có bằng chứng để bác bỏ giả thiết H0, điều này ngụ ý chấp nhận giả thiết Ha\")"
      ],
      "metadata": {
        "colab": {
          "base_uri": "https://localhost:8080/"
        },
        "id": "8PwPiBpkqHbJ",
        "outputId": "f7b417ad-a13d-4fee-ccc3-00f8ff1f3aa2"
      },
      "execution_count": 78,
      "outputs": [
        {
          "output_type": "stream",
          "name": "stdout",
          "text": [
            "Stat = 0.9601252675056458 \n",
            " p value = 0.37203603982925415\n",
            "không có bằng chứng để bác bỏ giả thiết H0\n"
          ]
        }
      ]
    },
    {
      "cell_type": "markdown",
      "source": [
        "=> Các mẫu đều tuân theo phân phối chuẩn"
      ],
      "metadata": {
        "id": "FtcY-4ROqXxK"
      }
    },
    {
      "cell_type": "markdown",
      "source": [
        "**Kiểm tra tính đồng nhất phương sai:**"
      ],
      "metadata": {
        "id": "4dtfmsPY30GL"
      }
    },
    {
      "cell_type": "markdown",
      "source": [
        "Phát biểu giả thuyết: \n",
        "\n",
        "+ $H_0$: Các mẫu có cùng phương sai. \n",
        "  \n",
        " \n",
        "+ $H_a$: Có sự khác biệt về phương sai của các mẫu. "
      ],
      "metadata": {
        "id": "daxYkvfR34Aj"
      }
    },
    {
      "cell_type": "code",
      "source": [
        "#Kiểm tra tính đồng nhất phương sai với mức ý nghĩa 0.05:\n",
        "stat, p = st.levene(w1, w2, w3) \n",
        "print(\"Statistic =\", stat, \"\\n\", \"p value =\", p)\n",
        "if p > 0.05:\n",
        "  print(\"không có bằng chứng để bác bỏ giả thiết H0\")\n",
        "else:\n",
        "  print(\"có bằng chứng để bác bỏ giả thiết H0, điều này ngụ ý chấp nhận giả thiết Ha\")"
      ],
      "metadata": {
        "colab": {
          "base_uri": "https://localhost:8080/"
        },
        "id": "h5FC-6HXr2dX",
        "outputId": "58185516-5bbd-4e1b-e66c-666dd804473d"
      },
      "execution_count": 79,
      "outputs": [
        {
          "output_type": "stream",
          "name": "stdout",
          "text": [
            "Statistic = 0.46290764582507116 \n",
            " p value = 0.6312856401117967\n",
            "không có bằng chứng để bác bỏ giả thiết H0\n"
          ]
        }
      ]
    },
    {
      "cell_type": "markdown",
      "source": [
        "=> Các mẫu có sự đồng nhất về phương sai"
      ],
      "metadata": {
        "id": "OkO-UIRjsJBJ"
      }
    },
    {
      "cell_type": "markdown",
      "source": [
        "Vì các mẫu độc lập, tuân theo phân phối chuẩn và có sự đồng nhất về phương sai giữa các mẫu nên ta có thể tiến hành kiểm định ANOVA"
      ],
      "metadata": {
        "id": "XXXvk2dXsOUf"
      }
    },
    {
      "cell_type": "markdown",
      "source": [
        "**Kiểm tra tính đồng nhất về giá trị trung bình:**"
      ],
      "metadata": {
        "id": "DlbTZScE3-X7"
      }
    },
    {
      "cell_type": "markdown",
      "source": [
        "Phát biểu giả thuyết:\n",
        "\n",
        "+ $H_0$: Các mẫu có giá trị trung bình bằng nhau. \n",
        "\n",
        "+ $H_a$: Có sự khác biệt về giá trị trung bình của các mẫu."
      ],
      "metadata": {
        "id": "R-uyEwt84DOe"
      }
    },
    {
      "cell_type": "code",
      "source": [
        "stat, p = st.f_oneway(w1, w2, w3) \n",
        "print(\"Statistic =\", stat, \"\\n\", \"p value =\", p)\n",
        "if p > 0.05:\n",
        "  print(\"không có bằng chứng để bác bỏ giả thiết H0\")\n",
        "else:\n",
        "  print(\"có bằng chứng để bác bỏ giả thiết H0, điều này ngụ ý chấp nhận giả thiết Ha\")"
      ],
      "metadata": {
        "colab": {
          "base_uri": "https://localhost:8080/"
        },
        "id": "LuTAqLwnkLPn",
        "outputId": "a3bda086-1ce6-479f-d918-c78c17d701bb"
      },
      "execution_count": 80,
      "outputs": [
        {
          "output_type": "stream",
          "name": "stdout",
          "text": [
            "Statistic = 5.383104474859926 \n",
            " p value = 0.006595853108669741\n",
            "có bằng chứng để bác bỏ giả thiết H0, điều này ngụ ý chấp nhận giả thiết Ha\n"
          ]
        }
      ]
    },
    {
      "cell_type": "markdown",
      "source": [
        "**=> Điều này chứng tỏ chế độ ăn kiêng có ảnh hưởng đến việc giảm cân.**"
      ],
      "metadata": {
        "id": "7s1fw5KRtIrv"
      }
    },
    {
      "cell_type": "code",
      "source": [
        "d = {}\n",
        "d[\"D1\"] = np.mean(w1)\n",
        "d[\"D2\"] = np.mean(w2)\n",
        "d[\"D3\"] = np.mean(w3)\n",
        "d0 = pd.DataFrame(d, index=[''])\n",
        "d0"
      ],
      "metadata": {
        "colab": {
          "base_uri": "https://localhost:8080/",
          "height": 81
        },
        "id": "IIaI01x0tgo_",
        "outputId": "81850f83-a539-4952-90fc-b8d6c2932106"
      },
      "execution_count": 82,
      "outputs": [
        {
          "output_type": "execute_result",
          "data": {
            "text/plain": [
              "   D1     D2        D3\n",
              "  3.3  3.268  5.148148"
            ],
            "text/html": [
              "\n",
              "  <div id=\"df-bc0bf6fd-ceae-4676-bf0d-5c60d49dc698\">\n",
              "    <div class=\"colab-df-container\">\n",
              "      <div>\n",
              "<style scoped>\n",
              "    .dataframe tbody tr th:only-of-type {\n",
              "        vertical-align: middle;\n",
              "    }\n",
              "\n",
              "    .dataframe tbody tr th {\n",
              "        vertical-align: top;\n",
              "    }\n",
              "\n",
              "    .dataframe thead th {\n",
              "        text-align: right;\n",
              "    }\n",
              "</style>\n",
              "<table border=\"1\" class=\"dataframe\">\n",
              "  <thead>\n",
              "    <tr style=\"text-align: right;\">\n",
              "      <th></th>\n",
              "      <th>D1</th>\n",
              "      <th>D2</th>\n",
              "      <th>D3</th>\n",
              "    </tr>\n",
              "  </thead>\n",
              "  <tbody>\n",
              "    <tr>\n",
              "      <th></th>\n",
              "      <td>3.3</td>\n",
              "      <td>3.268</td>\n",
              "      <td>5.148148</td>\n",
              "    </tr>\n",
              "  </tbody>\n",
              "</table>\n",
              "</div>\n",
              "      <button class=\"colab-df-convert\" onclick=\"convertToInteractive('df-bc0bf6fd-ceae-4676-bf0d-5c60d49dc698')\"\n",
              "              title=\"Convert this dataframe to an interactive table.\"\n",
              "              style=\"display:none;\">\n",
              "        \n",
              "  <svg xmlns=\"http://www.w3.org/2000/svg\" height=\"24px\"viewBox=\"0 0 24 24\"\n",
              "       width=\"24px\">\n",
              "    <path d=\"M0 0h24v24H0V0z\" fill=\"none\"/>\n",
              "    <path d=\"M18.56 5.44l.94 2.06.94-2.06 2.06-.94-2.06-.94-.94-2.06-.94 2.06-2.06.94zm-11 1L8.5 8.5l.94-2.06 2.06-.94-2.06-.94L8.5 2.5l-.94 2.06-2.06.94zm10 10l.94 2.06.94-2.06 2.06-.94-2.06-.94-.94-2.06-.94 2.06-2.06.94z\"/><path d=\"M17.41 7.96l-1.37-1.37c-.4-.4-.92-.59-1.43-.59-.52 0-1.04.2-1.43.59L10.3 9.45l-7.72 7.72c-.78.78-.78 2.05 0 2.83L4 21.41c.39.39.9.59 1.41.59.51 0 1.02-.2 1.41-.59l7.78-7.78 2.81-2.81c.8-.78.8-2.07 0-2.86zM5.41 20L4 18.59l7.72-7.72 1.47 1.35L5.41 20z\"/>\n",
              "  </svg>\n",
              "      </button>\n",
              "      \n",
              "  <style>\n",
              "    .colab-df-container {\n",
              "      display:flex;\n",
              "      flex-wrap:wrap;\n",
              "      gap: 12px;\n",
              "    }\n",
              "\n",
              "    .colab-df-convert {\n",
              "      background-color: #E8F0FE;\n",
              "      border: none;\n",
              "      border-radius: 50%;\n",
              "      cursor: pointer;\n",
              "      display: none;\n",
              "      fill: #1967D2;\n",
              "      height: 32px;\n",
              "      padding: 0 0 0 0;\n",
              "      width: 32px;\n",
              "    }\n",
              "\n",
              "    .colab-df-convert:hover {\n",
              "      background-color: #E2EBFA;\n",
              "      box-shadow: 0px 1px 2px rgba(60, 64, 67, 0.3), 0px 1px 3px 1px rgba(60, 64, 67, 0.15);\n",
              "      fill: #174EA6;\n",
              "    }\n",
              "\n",
              "    [theme=dark] .colab-df-convert {\n",
              "      background-color: #3B4455;\n",
              "      fill: #D2E3FC;\n",
              "    }\n",
              "\n",
              "    [theme=dark] .colab-df-convert:hover {\n",
              "      background-color: #434B5C;\n",
              "      box-shadow: 0px 1px 3px 1px rgba(0, 0, 0, 0.15);\n",
              "      filter: drop-shadow(0px 1px 2px rgba(0, 0, 0, 0.3));\n",
              "      fill: #FFFFFF;\n",
              "    }\n",
              "  </style>\n",
              "\n",
              "      <script>\n",
              "        const buttonEl =\n",
              "          document.querySelector('#df-bc0bf6fd-ceae-4676-bf0d-5c60d49dc698 button.colab-df-convert');\n",
              "        buttonEl.style.display =\n",
              "          google.colab.kernel.accessAllowed ? 'block' : 'none';\n",
              "\n",
              "        async function convertToInteractive(key) {\n",
              "          const element = document.querySelector('#df-bc0bf6fd-ceae-4676-bf0d-5c60d49dc698');\n",
              "          const dataTable =\n",
              "            await google.colab.kernel.invokeFunction('convertToInteractive',\n",
              "                                                     [key], {});\n",
              "          if (!dataTable) return;\n",
              "\n",
              "          const docLinkHtml = 'Like what you see? Visit the ' +\n",
              "            '<a target=\"_blank\" href=https://colab.research.google.com/notebooks/data_table.ipynb>data table notebook</a>'\n",
              "            + ' to learn more about interactive tables.';\n",
              "          element.innerHTML = '';\n",
              "          dataTable['output_type'] = 'display_data';\n",
              "          await google.colab.output.renderOutput(dataTable, element);\n",
              "          const docLink = document.createElement('div');\n",
              "          docLink.innerHTML = docLinkHtml;\n",
              "          element.appendChild(docLink);\n",
              "        }\n",
              "      </script>\n",
              "    </div>\n",
              "  </div>\n",
              "  "
            ]
          },
          "metadata": {},
          "execution_count": 82
        }
      ]
    },
    {
      "cell_type": "markdown",
      "source": [
        "**=> Chế độ ăn kiêng hiệu quả nhất là nhóm Diet 3**"
      ],
      "metadata": {
        "id": "7hxZDGQOqcAn"
      }
    },
    {
      "cell_type": "markdown",
      "source": [
        "**Are there gender differences for weight loss?(Có sự khác biệt về giới tính đối với việc giảm cân?)**"
      ],
      "metadata": {
        "id": "fQT3PIm5vofs"
      }
    },
    {
      "cell_type": "code",
      "source": [
        "#Phân nhóm giá trị Weightlost theo gender: \n",
        "g0 = df[(df[\"gender\"] == '0')][\"Weightlost\"]\n",
        "g1 = df[(df[\"gender\"] == '1')][\"Weightlost\"]"
      ],
      "metadata": {
        "id": "Tsi8zDtuvoKr"
      },
      "execution_count": 83,
      "outputs": []
    },
    {
      "cell_type": "markdown",
      "source": [
        "Phát biểu giả thiết:\n",
        "\n",
        "+ $H_0$ : Chỉ số cân nặng giảm được của nam và nữ bằng nhau.\n",
        "\n",
        "+ $H_a$ : Chỉ số cân nặng giảm được của nam và nữ khác nhau. "
      ],
      "metadata": {
        "id": "TezrxfkOwONt"
      }
    },
    {
      "cell_type": "code",
      "source": [
        "ttest_score, p = st.ttest_ind(g0, g1, equal_var=False)\n",
        "print(\"Stat =\", ttest_score, \"P_value =\", p)\n",
        "if p > 0.05:\n",
        "    print(\"không có bằng chứng để bác bỏ giả thiết H0\")\n",
        "else:\n",
        "    print(\"có bằng chứng để bác bỏ giả thiết H0, điều này ngụ ý chấp nhận giả thiết Ha\")"
      ],
      "metadata": {
        "colab": {
          "base_uri": "https://localhost:8080/"
        },
        "id": "YkYTuI-SwFWy",
        "outputId": "65adea69-aec3-4e84-ded9-c08045b982c7"
      },
      "execution_count": 84,
      "outputs": [
        {
          "output_type": "stream",
          "name": "stdout",
          "text": [
            "Stat = -0.20909666699582563 P_value = 0.8349905694773132\n",
            "không có bằng chứng để bác bỏ giả thiết H0\n"
          ]
        }
      ]
    },
    {
      "cell_type": "markdown",
      "source": [
        "**=> Giới tính không có ảnh hưởng đến việc giảm cân**"
      ],
      "metadata": {
        "id": "lxpe84Ajwtvf"
      }
    }
  ]
}