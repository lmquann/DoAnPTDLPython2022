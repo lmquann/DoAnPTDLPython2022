{
  "nbformat": 4,
  "nbformat_minor": 0,
  "metadata": {
    "colab": {
      "name": "DOAN_ThongKeSuyDien.ipynb",
      "provenance": [],
      "authorship_tag": "ABX9TyNG5VT0v/WT+rPG+TIVoIz6",
      "include_colab_link": true
    },
    "kernelspec": {
      "name": "python3",
      "display_name": "Python 3"
    },
    "language_info": {
      "name": "python"
    }
  },
  "cells": [
    {
      "cell_type": "markdown",
      "metadata": {
        "id": "view-in-github",
        "colab_type": "text"
      },
      "source": [
        "<a href=\"https://colab.research.google.com/github/lmquann/DoAnPTDLPython2022/blob/main/DOAN_ThongKeSuyDien.ipynb\" target=\"_parent\"><img src=\"https://colab.research.google.com/assets/colab-badge.svg\" alt=\"Open In Colab\"/></a>"
      ]
    },
    {
      "cell_type": "code",
      "execution_count": 1,
      "metadata": {
        "id": "ffR0Bx1qdf4P"
      },
      "outputs": [],
      "source": [
        "import numpy as np\n",
        "import pandas as pd\n",
        "import scipy.stats as st"
      ]
    },
    {
      "cell_type": "code",
      "source": [
        "df = pd.read_csv(\"https://raw.githubusercontent.com/lmquann/leminhquan/main/Diet_R.csv\")\n",
        "df.sample(10)"
      ],
      "metadata": {
        "colab": {
          "base_uri": "https://localhost:8080/",
          "height": 363
        },
        "id": "gFGAMQ6-gTGm",
        "outputId": "940674f8-fd2c-4e30-e2f1-2179f140a138"
      },
      "execution_count": 2,
      "outputs": [
        {
          "output_type": "execute_result",
          "data": {
            "text/plain": [
              "    Person gender  Age  Height  pre.weight  Diet  weight6weeks\n",
              "72      73      1   40     179          79     3          74.5\n",
              "41      63      0   35     171          72     3          64.4\n",
              "75      76      1   28     164          85     3          79.7\n",
              "33      55      0   22     169          65     3          58.2\n",
              "62      48      1   40     171          79     2          72.9\n",
              "31      53      0   35     169          62     3          56.4\n",
              "76      77      1   40     167          87     3          77.8\n",
              "74      75      1   49     177          84     3          79.9\n",
              "9        8      0   28     176          69     1          60.5\n",
              "46      16      1   31     158          72     1          70.9"
            ],
            "text/html": [
              "\n",
              "  <div id=\"df-ccddce12-207e-41d5-b167-961c361b68d0\">\n",
              "    <div class=\"colab-df-container\">\n",
              "      <div>\n",
              "<style scoped>\n",
              "    .dataframe tbody tr th:only-of-type {\n",
              "        vertical-align: middle;\n",
              "    }\n",
              "\n",
              "    .dataframe tbody tr th {\n",
              "        vertical-align: top;\n",
              "    }\n",
              "\n",
              "    .dataframe thead th {\n",
              "        text-align: right;\n",
              "    }\n",
              "</style>\n",
              "<table border=\"1\" class=\"dataframe\">\n",
              "  <thead>\n",
              "    <tr style=\"text-align: right;\">\n",
              "      <th></th>\n",
              "      <th>Person</th>\n",
              "      <th>gender</th>\n",
              "      <th>Age</th>\n",
              "      <th>Height</th>\n",
              "      <th>pre.weight</th>\n",
              "      <th>Diet</th>\n",
              "      <th>weight6weeks</th>\n",
              "    </tr>\n",
              "  </thead>\n",
              "  <tbody>\n",
              "    <tr>\n",
              "      <th>72</th>\n",
              "      <td>73</td>\n",
              "      <td>1</td>\n",
              "      <td>40</td>\n",
              "      <td>179</td>\n",
              "      <td>79</td>\n",
              "      <td>3</td>\n",
              "      <td>74.5</td>\n",
              "    </tr>\n",
              "    <tr>\n",
              "      <th>41</th>\n",
              "      <td>63</td>\n",
              "      <td>0</td>\n",
              "      <td>35</td>\n",
              "      <td>171</td>\n",
              "      <td>72</td>\n",
              "      <td>3</td>\n",
              "      <td>64.4</td>\n",
              "    </tr>\n",
              "    <tr>\n",
              "      <th>75</th>\n",
              "      <td>76</td>\n",
              "      <td>1</td>\n",
              "      <td>28</td>\n",
              "      <td>164</td>\n",
              "      <td>85</td>\n",
              "      <td>3</td>\n",
              "      <td>79.7</td>\n",
              "    </tr>\n",
              "    <tr>\n",
              "      <th>33</th>\n",
              "      <td>55</td>\n",
              "      <td>0</td>\n",
              "      <td>22</td>\n",
              "      <td>169</td>\n",
              "      <td>65</td>\n",
              "      <td>3</td>\n",
              "      <td>58.2</td>\n",
              "    </tr>\n",
              "    <tr>\n",
              "      <th>62</th>\n",
              "      <td>48</td>\n",
              "      <td>1</td>\n",
              "      <td>40</td>\n",
              "      <td>171</td>\n",
              "      <td>79</td>\n",
              "      <td>2</td>\n",
              "      <td>72.9</td>\n",
              "    </tr>\n",
              "    <tr>\n",
              "      <th>31</th>\n",
              "      <td>53</td>\n",
              "      <td>0</td>\n",
              "      <td>35</td>\n",
              "      <td>169</td>\n",
              "      <td>62</td>\n",
              "      <td>3</td>\n",
              "      <td>56.4</td>\n",
              "    </tr>\n",
              "    <tr>\n",
              "      <th>76</th>\n",
              "      <td>77</td>\n",
              "      <td>1</td>\n",
              "      <td>40</td>\n",
              "      <td>167</td>\n",
              "      <td>87</td>\n",
              "      <td>3</td>\n",
              "      <td>77.8</td>\n",
              "    </tr>\n",
              "    <tr>\n",
              "      <th>74</th>\n",
              "      <td>75</td>\n",
              "      <td>1</td>\n",
              "      <td>49</td>\n",
              "      <td>177</td>\n",
              "      <td>84</td>\n",
              "      <td>3</td>\n",
              "      <td>79.9</td>\n",
              "    </tr>\n",
              "    <tr>\n",
              "      <th>9</th>\n",
              "      <td>8</td>\n",
              "      <td>0</td>\n",
              "      <td>28</td>\n",
              "      <td>176</td>\n",
              "      <td>69</td>\n",
              "      <td>1</td>\n",
              "      <td>60.5</td>\n",
              "    </tr>\n",
              "    <tr>\n",
              "      <th>46</th>\n",
              "      <td>16</td>\n",
              "      <td>1</td>\n",
              "      <td>31</td>\n",
              "      <td>158</td>\n",
              "      <td>72</td>\n",
              "      <td>1</td>\n",
              "      <td>70.9</td>\n",
              "    </tr>\n",
              "  </tbody>\n",
              "</table>\n",
              "</div>\n",
              "      <button class=\"colab-df-convert\" onclick=\"convertToInteractive('df-ccddce12-207e-41d5-b167-961c361b68d0')\"\n",
              "              title=\"Convert this dataframe to an interactive table.\"\n",
              "              style=\"display:none;\">\n",
              "        \n",
              "  <svg xmlns=\"http://www.w3.org/2000/svg\" height=\"24px\"viewBox=\"0 0 24 24\"\n",
              "       width=\"24px\">\n",
              "    <path d=\"M0 0h24v24H0V0z\" fill=\"none\"/>\n",
              "    <path d=\"M18.56 5.44l.94 2.06.94-2.06 2.06-.94-2.06-.94-.94-2.06-.94 2.06-2.06.94zm-11 1L8.5 8.5l.94-2.06 2.06-.94-2.06-.94L8.5 2.5l-.94 2.06-2.06.94zm10 10l.94 2.06.94-2.06 2.06-.94-2.06-.94-.94-2.06-.94 2.06-2.06.94z\"/><path d=\"M17.41 7.96l-1.37-1.37c-.4-.4-.92-.59-1.43-.59-.52 0-1.04.2-1.43.59L10.3 9.45l-7.72 7.72c-.78.78-.78 2.05 0 2.83L4 21.41c.39.39.9.59 1.41.59.51 0 1.02-.2 1.41-.59l7.78-7.78 2.81-2.81c.8-.78.8-2.07 0-2.86zM5.41 20L4 18.59l7.72-7.72 1.47 1.35L5.41 20z\"/>\n",
              "  </svg>\n",
              "      </button>\n",
              "      \n",
              "  <style>\n",
              "    .colab-df-container {\n",
              "      display:flex;\n",
              "      flex-wrap:wrap;\n",
              "      gap: 12px;\n",
              "    }\n",
              "\n",
              "    .colab-df-convert {\n",
              "      background-color: #E8F0FE;\n",
              "      border: none;\n",
              "      border-radius: 50%;\n",
              "      cursor: pointer;\n",
              "      display: none;\n",
              "      fill: #1967D2;\n",
              "      height: 32px;\n",
              "      padding: 0 0 0 0;\n",
              "      width: 32px;\n",
              "    }\n",
              "\n",
              "    .colab-df-convert:hover {\n",
              "      background-color: #E2EBFA;\n",
              "      box-shadow: 0px 1px 2px rgba(60, 64, 67, 0.3), 0px 1px 3px 1px rgba(60, 64, 67, 0.15);\n",
              "      fill: #174EA6;\n",
              "    }\n",
              "\n",
              "    [theme=dark] .colab-df-convert {\n",
              "      background-color: #3B4455;\n",
              "      fill: #D2E3FC;\n",
              "    }\n",
              "\n",
              "    [theme=dark] .colab-df-convert:hover {\n",
              "      background-color: #434B5C;\n",
              "      box-shadow: 0px 1px 3px 1px rgba(0, 0, 0, 0.15);\n",
              "      filter: drop-shadow(0px 1px 2px rgba(0, 0, 0, 0.3));\n",
              "      fill: #FFFFFF;\n",
              "    }\n",
              "  </style>\n",
              "\n",
              "      <script>\n",
              "        const buttonEl =\n",
              "          document.querySelector('#df-ccddce12-207e-41d5-b167-961c361b68d0 button.colab-df-convert');\n",
              "        buttonEl.style.display =\n",
              "          google.colab.kernel.accessAllowed ? 'block' : 'none';\n",
              "\n",
              "        async function convertToInteractive(key) {\n",
              "          const element = document.querySelector('#df-ccddce12-207e-41d5-b167-961c361b68d0');\n",
              "          const dataTable =\n",
              "            await google.colab.kernel.invokeFunction('convertToInteractive',\n",
              "                                                     [key], {});\n",
              "          if (!dataTable) return;\n",
              "\n",
              "          const docLinkHtml = 'Like what you see? Visit the ' +\n",
              "            '<a target=\"_blank\" href=https://colab.research.google.com/notebooks/data_table.ipynb>data table notebook</a>'\n",
              "            + ' to learn more about interactive tables.';\n",
              "          element.innerHTML = '';\n",
              "          dataTable['output_type'] = 'display_data';\n",
              "          await google.colab.output.renderOutput(dataTable, element);\n",
              "          const docLink = document.createElement('div');\n",
              "          docLink.innerHTML = docLinkHtml;\n",
              "          element.appendChild(docLink);\n",
              "        }\n",
              "      </script>\n",
              "    </div>\n",
              "  </div>\n",
              "  "
            ]
          },
          "metadata": {},
          "execution_count": 2
        }
      ]
    },
    {
      "cell_type": "markdown",
      "source": [
        "Xóa các dữ liệu trống:"
      ],
      "metadata": {
        "id": "5F5xrTfihL0e"
      }
    },
    {
      "cell_type": "code",
      "source": [
        "#Chuyển đổi các ô trống sang NaN\n",
        "df.replace(\" \", np.nan, inplace=True) \n",
        "#Xóa các hàng có giá trị NaN\n",
        "df.dropna(inplace=True) \n",
        "df.sample(10)"
      ],
      "metadata": {
        "colab": {
          "base_uri": "https://localhost:8080/",
          "height": 363
        },
        "id": "vA7LJeQzhK7t",
        "outputId": "e639f4a5-92fa-4534-cdc8-5db91d9b9129"
      },
      "execution_count": 3,
      "outputs": [
        {
          "output_type": "execute_result",
          "data": {
            "text/plain": [
              "    Person gender  Age  Height  pre.weight  Diet  weight6weeks\n",
              "38      60      0   58     141          70     3          63.0\n",
              "23      34      0   54     173          63     2          59.4\n",
              "49      19      1   43     162          80     1          71.0\n",
              "71      72      1   26     179          78     3          69.4\n",
              "48      18      1   50     160          78     1          73.9\n",
              "65      51      1   31     182          80     2          75.7\n",
              "57      43      1   54     196          75     2          69.2\n",
              "60      46      1   37     194          78     2          76.3\n",
              "17      28      0   37     172          58     2          56.0\n",
              "44      66      0   41     157          76     3          71.0"
            ],
            "text/html": [
              "\n",
              "  <div id=\"df-44497243-eb03-409f-8ac6-8c732e73af92\">\n",
              "    <div class=\"colab-df-container\">\n",
              "      <div>\n",
              "<style scoped>\n",
              "    .dataframe tbody tr th:only-of-type {\n",
              "        vertical-align: middle;\n",
              "    }\n",
              "\n",
              "    .dataframe tbody tr th {\n",
              "        vertical-align: top;\n",
              "    }\n",
              "\n",
              "    .dataframe thead th {\n",
              "        text-align: right;\n",
              "    }\n",
              "</style>\n",
              "<table border=\"1\" class=\"dataframe\">\n",
              "  <thead>\n",
              "    <tr style=\"text-align: right;\">\n",
              "      <th></th>\n",
              "      <th>Person</th>\n",
              "      <th>gender</th>\n",
              "      <th>Age</th>\n",
              "      <th>Height</th>\n",
              "      <th>pre.weight</th>\n",
              "      <th>Diet</th>\n",
              "      <th>weight6weeks</th>\n",
              "    </tr>\n",
              "  </thead>\n",
              "  <tbody>\n",
              "    <tr>\n",
              "      <th>38</th>\n",
              "      <td>60</td>\n",
              "      <td>0</td>\n",
              "      <td>58</td>\n",
              "      <td>141</td>\n",
              "      <td>70</td>\n",
              "      <td>3</td>\n",
              "      <td>63.0</td>\n",
              "    </tr>\n",
              "    <tr>\n",
              "      <th>23</th>\n",
              "      <td>34</td>\n",
              "      <td>0</td>\n",
              "      <td>54</td>\n",
              "      <td>173</td>\n",
              "      <td>63</td>\n",
              "      <td>2</td>\n",
              "      <td>59.4</td>\n",
              "    </tr>\n",
              "    <tr>\n",
              "      <th>49</th>\n",
              "      <td>19</td>\n",
              "      <td>1</td>\n",
              "      <td>43</td>\n",
              "      <td>162</td>\n",
              "      <td>80</td>\n",
              "      <td>1</td>\n",
              "      <td>71.0</td>\n",
              "    </tr>\n",
              "    <tr>\n",
              "      <th>71</th>\n",
              "      <td>72</td>\n",
              "      <td>1</td>\n",
              "      <td>26</td>\n",
              "      <td>179</td>\n",
              "      <td>78</td>\n",
              "      <td>3</td>\n",
              "      <td>69.4</td>\n",
              "    </tr>\n",
              "    <tr>\n",
              "      <th>48</th>\n",
              "      <td>18</td>\n",
              "      <td>1</td>\n",
              "      <td>50</td>\n",
              "      <td>160</td>\n",
              "      <td>78</td>\n",
              "      <td>1</td>\n",
              "      <td>73.9</td>\n",
              "    </tr>\n",
              "    <tr>\n",
              "      <th>65</th>\n",
              "      <td>51</td>\n",
              "      <td>1</td>\n",
              "      <td>31</td>\n",
              "      <td>182</td>\n",
              "      <td>80</td>\n",
              "      <td>2</td>\n",
              "      <td>75.7</td>\n",
              "    </tr>\n",
              "    <tr>\n",
              "      <th>57</th>\n",
              "      <td>43</td>\n",
              "      <td>1</td>\n",
              "      <td>54</td>\n",
              "      <td>196</td>\n",
              "      <td>75</td>\n",
              "      <td>2</td>\n",
              "      <td>69.2</td>\n",
              "    </tr>\n",
              "    <tr>\n",
              "      <th>60</th>\n",
              "      <td>46</td>\n",
              "      <td>1</td>\n",
              "      <td>37</td>\n",
              "      <td>194</td>\n",
              "      <td>78</td>\n",
              "      <td>2</td>\n",
              "      <td>76.3</td>\n",
              "    </tr>\n",
              "    <tr>\n",
              "      <th>17</th>\n",
              "      <td>28</td>\n",
              "      <td>0</td>\n",
              "      <td>37</td>\n",
              "      <td>172</td>\n",
              "      <td>58</td>\n",
              "      <td>2</td>\n",
              "      <td>56.0</td>\n",
              "    </tr>\n",
              "    <tr>\n",
              "      <th>44</th>\n",
              "      <td>66</td>\n",
              "      <td>0</td>\n",
              "      <td>41</td>\n",
              "      <td>157</td>\n",
              "      <td>76</td>\n",
              "      <td>3</td>\n",
              "      <td>71.0</td>\n",
              "    </tr>\n",
              "  </tbody>\n",
              "</table>\n",
              "</div>\n",
              "      <button class=\"colab-df-convert\" onclick=\"convertToInteractive('df-44497243-eb03-409f-8ac6-8c732e73af92')\"\n",
              "              title=\"Convert this dataframe to an interactive table.\"\n",
              "              style=\"display:none;\">\n",
              "        \n",
              "  <svg xmlns=\"http://www.w3.org/2000/svg\" height=\"24px\"viewBox=\"0 0 24 24\"\n",
              "       width=\"24px\">\n",
              "    <path d=\"M0 0h24v24H0V0z\" fill=\"none\"/>\n",
              "    <path d=\"M18.56 5.44l.94 2.06.94-2.06 2.06-.94-2.06-.94-.94-2.06-.94 2.06-2.06.94zm-11 1L8.5 8.5l.94-2.06 2.06-.94-2.06-.94L8.5 2.5l-.94 2.06-2.06.94zm10 10l.94 2.06.94-2.06 2.06-.94-2.06-.94-.94-2.06-.94 2.06-2.06.94z\"/><path d=\"M17.41 7.96l-1.37-1.37c-.4-.4-.92-.59-1.43-.59-.52 0-1.04.2-1.43.59L10.3 9.45l-7.72 7.72c-.78.78-.78 2.05 0 2.83L4 21.41c.39.39.9.59 1.41.59.51 0 1.02-.2 1.41-.59l7.78-7.78 2.81-2.81c.8-.78.8-2.07 0-2.86zM5.41 20L4 18.59l7.72-7.72 1.47 1.35L5.41 20z\"/>\n",
              "  </svg>\n",
              "      </button>\n",
              "      \n",
              "  <style>\n",
              "    .colab-df-container {\n",
              "      display:flex;\n",
              "      flex-wrap:wrap;\n",
              "      gap: 12px;\n",
              "    }\n",
              "\n",
              "    .colab-df-convert {\n",
              "      background-color: #E8F0FE;\n",
              "      border: none;\n",
              "      border-radius: 50%;\n",
              "      cursor: pointer;\n",
              "      display: none;\n",
              "      fill: #1967D2;\n",
              "      height: 32px;\n",
              "      padding: 0 0 0 0;\n",
              "      width: 32px;\n",
              "    }\n",
              "\n",
              "    .colab-df-convert:hover {\n",
              "      background-color: #E2EBFA;\n",
              "      box-shadow: 0px 1px 2px rgba(60, 64, 67, 0.3), 0px 1px 3px 1px rgba(60, 64, 67, 0.15);\n",
              "      fill: #174EA6;\n",
              "    }\n",
              "\n",
              "    [theme=dark] .colab-df-convert {\n",
              "      background-color: #3B4455;\n",
              "      fill: #D2E3FC;\n",
              "    }\n",
              "\n",
              "    [theme=dark] .colab-df-convert:hover {\n",
              "      background-color: #434B5C;\n",
              "      box-shadow: 0px 1px 3px 1px rgba(0, 0, 0, 0.15);\n",
              "      filter: drop-shadow(0px 1px 2px rgba(0, 0, 0, 0.3));\n",
              "      fill: #FFFFFF;\n",
              "    }\n",
              "  </style>\n",
              "\n",
              "      <script>\n",
              "        const buttonEl =\n",
              "          document.querySelector('#df-44497243-eb03-409f-8ac6-8c732e73af92 button.colab-df-convert');\n",
              "        buttonEl.style.display =\n",
              "          google.colab.kernel.accessAllowed ? 'block' : 'none';\n",
              "\n",
              "        async function convertToInteractive(key) {\n",
              "          const element = document.querySelector('#df-44497243-eb03-409f-8ac6-8c732e73af92');\n",
              "          const dataTable =\n",
              "            await google.colab.kernel.invokeFunction('convertToInteractive',\n",
              "                                                     [key], {});\n",
              "          if (!dataTable) return;\n",
              "\n",
              "          const docLinkHtml = 'Like what you see? Visit the ' +\n",
              "            '<a target=\"_blank\" href=https://colab.research.google.com/notebooks/data_table.ipynb>data table notebook</a>'\n",
              "            + ' to learn more about interactive tables.';\n",
              "          element.innerHTML = '';\n",
              "          dataTable['output_type'] = 'display_data';\n",
              "          await google.colab.output.renderOutput(dataTable, element);\n",
              "          const docLink = document.createElement('div');\n",
              "          docLink.innerHTML = docLinkHtml;\n",
              "          element.appendChild(docLink);\n",
              "        }\n",
              "      </script>\n",
              "    </div>\n",
              "  </div>\n",
              "  "
            ]
          },
          "metadata": {},
          "execution_count": 3
        }
      ]
    },
    {
      "cell_type": "markdown",
      "source": [
        "# **Phát biểu câu hỏi nghiên cứu và tiến hành phân tích**"
      ],
      "metadata": {
        "id": "rxo0UUL2lWvs"
      }
    },
    {
      "cell_type": "markdown",
      "source": [
        "**Ignore diet and test to see if weight has been lost(Bỏ qua chế độ ăn kiêng và kiểm tra xem cân nặng có giảm hay không?)**"
      ],
      "metadata": {
        "id": "6PRR8JZ-lemM"
      }
    },
    {
      "cell_type": "markdown",
      "source": [
        "Phát biểu giả thiết:\n",
        "\n",
        "+ $H_0$ : Cân nặng trước và sau khi kiểm tra bằng nhau.\n",
        "\n",
        "+ $H_a$ : Cân nặng trước và sau khi kiểm tra có sự khác nhau. "
      ],
      "metadata": {
        "id": "gELJLiOhlyqv"
      }
    },
    {
      "cell_type": "code",
      "source": [
        "ttest_score, p = st.ttest_rel(df[\"pre.weight\"], df[\"weight6weeks\"])\n",
        "print(\"Stat =\", ttest_score, \"P_value =\", p)\n",
        "if p > 0.05:\n",
        "    print(\"không có bằng chứng để bác bỏ giả thiết H0\")\n",
        "else:\n",
        "    print(\"có bằng chứng để bác bỏ giả thiết H0, điều này ngụ ý chấp nhận giả thiết Ha\")"
      ],
      "metadata": {
        "colab": {
          "base_uri": "https://localhost:8080/"
        },
        "id": "h90xYqqQluhI",
        "outputId": "c50b13d9-d56f-4fc8-f44b-c7a065f6fc78"
      },
      "execution_count": 4,
      "outputs": [
        {
          "output_type": "stream",
          "name": "stdout",
          "text": [
            "Stat = 13.728486740903172 P_value = 3.7220652146643845e-22\n",
            "có bằng chứng để bác bỏ giả thiết H0, điều này ngụ ý chấp nhận giả thiết Ha\n"
          ]
        }
      ]
    },
    {
      "cell_type": "markdown",
      "source": [
        "**=> Cân nặng trước và sau khi kiểm tra có sự khác nhau**"
      ],
      "metadata": {
        "id": "yo0xx1bBnkCM"
      }
    },
    {
      "cell_type": "markdown",
      "source": [
        "**Remove weight lost and get students to calculate it using before/after weights(Loại bỏ trọng lượng đã giảm và tính toán nó bằng cách sử dụng trọng lượng trước / sau)**"
      ],
      "metadata": {
        "id": "PptsWQmdoFLa"
      }
    },
    {
      "cell_type": "code",
      "source": [
        "df[\"Weightlost\"] = (df[\"pre.weight\"] - df[\"weight6weeks\"]).values\n",
        "df.sample(10)"
      ],
      "metadata": {
        "colab": {
          "base_uri": "https://localhost:8080/",
          "height": 363
        },
        "id": "_I-yqBb5lcMk",
        "outputId": "eb146438-5f12-4138-df39-94fb05ea24e3"
      },
      "execution_count": 5,
      "outputs": [
        {
          "output_type": "execute_result",
          "data": {
            "text/plain": [
              "    Person gender  Age  Height  pre.weight  Diet  weight6weeks  Weightlost\n",
              "27      38      0   37     167          68     2          63.3         4.7\n",
              "14      13      0   41     163          72     1          68.4         3.6\n",
              "37      59      0   45     155          69     3          61.8         7.2\n",
              "26      37      0   16     165          68     2          63.8         4.2\n",
              "44      66      0   41     157          76     3          71.0         5.0\n",
              "5        4      0   33     171          64     1          61.1         2.9\n",
              "3        2      0   46     192          60     1          54.0         6.0\n",
              "76      77      1   40     167          87     3          77.8         9.2\n",
              "56      42      1   38     199          75     2          72.6         2.4\n",
              "10       9      0   28     165          70     1          68.1         1.9"
            ],
            "text/html": [
              "\n",
              "  <div id=\"df-78639a04-e980-4115-997e-cf8e47a30718\">\n",
              "    <div class=\"colab-df-container\">\n",
              "      <div>\n",
              "<style scoped>\n",
              "    .dataframe tbody tr th:only-of-type {\n",
              "        vertical-align: middle;\n",
              "    }\n",
              "\n",
              "    .dataframe tbody tr th {\n",
              "        vertical-align: top;\n",
              "    }\n",
              "\n",
              "    .dataframe thead th {\n",
              "        text-align: right;\n",
              "    }\n",
              "</style>\n",
              "<table border=\"1\" class=\"dataframe\">\n",
              "  <thead>\n",
              "    <tr style=\"text-align: right;\">\n",
              "      <th></th>\n",
              "      <th>Person</th>\n",
              "      <th>gender</th>\n",
              "      <th>Age</th>\n",
              "      <th>Height</th>\n",
              "      <th>pre.weight</th>\n",
              "      <th>Diet</th>\n",
              "      <th>weight6weeks</th>\n",
              "      <th>Weightlost</th>\n",
              "    </tr>\n",
              "  </thead>\n",
              "  <tbody>\n",
              "    <tr>\n",
              "      <th>27</th>\n",
              "      <td>38</td>\n",
              "      <td>0</td>\n",
              "      <td>37</td>\n",
              "      <td>167</td>\n",
              "      <td>68</td>\n",
              "      <td>2</td>\n",
              "      <td>63.3</td>\n",
              "      <td>4.7</td>\n",
              "    </tr>\n",
              "    <tr>\n",
              "      <th>14</th>\n",
              "      <td>13</td>\n",
              "      <td>0</td>\n",
              "      <td>41</td>\n",
              "      <td>163</td>\n",
              "      <td>72</td>\n",
              "      <td>1</td>\n",
              "      <td>68.4</td>\n",
              "      <td>3.6</td>\n",
              "    </tr>\n",
              "    <tr>\n",
              "      <th>37</th>\n",
              "      <td>59</td>\n",
              "      <td>0</td>\n",
              "      <td>45</td>\n",
              "      <td>155</td>\n",
              "      <td>69</td>\n",
              "      <td>3</td>\n",
              "      <td>61.8</td>\n",
              "      <td>7.2</td>\n",
              "    </tr>\n",
              "    <tr>\n",
              "      <th>26</th>\n",
              "      <td>37</td>\n",
              "      <td>0</td>\n",
              "      <td>16</td>\n",
              "      <td>165</td>\n",
              "      <td>68</td>\n",
              "      <td>2</td>\n",
              "      <td>63.8</td>\n",
              "      <td>4.2</td>\n",
              "    </tr>\n",
              "    <tr>\n",
              "      <th>44</th>\n",
              "      <td>66</td>\n",
              "      <td>0</td>\n",
              "      <td>41</td>\n",
              "      <td>157</td>\n",
              "      <td>76</td>\n",
              "      <td>3</td>\n",
              "      <td>71.0</td>\n",
              "      <td>5.0</td>\n",
              "    </tr>\n",
              "    <tr>\n",
              "      <th>5</th>\n",
              "      <td>4</td>\n",
              "      <td>0</td>\n",
              "      <td>33</td>\n",
              "      <td>171</td>\n",
              "      <td>64</td>\n",
              "      <td>1</td>\n",
              "      <td>61.1</td>\n",
              "      <td>2.9</td>\n",
              "    </tr>\n",
              "    <tr>\n",
              "      <th>3</th>\n",
              "      <td>2</td>\n",
              "      <td>0</td>\n",
              "      <td>46</td>\n",
              "      <td>192</td>\n",
              "      <td>60</td>\n",
              "      <td>1</td>\n",
              "      <td>54.0</td>\n",
              "      <td>6.0</td>\n",
              "    </tr>\n",
              "    <tr>\n",
              "      <th>76</th>\n",
              "      <td>77</td>\n",
              "      <td>1</td>\n",
              "      <td>40</td>\n",
              "      <td>167</td>\n",
              "      <td>87</td>\n",
              "      <td>3</td>\n",
              "      <td>77.8</td>\n",
              "      <td>9.2</td>\n",
              "    </tr>\n",
              "    <tr>\n",
              "      <th>56</th>\n",
              "      <td>42</td>\n",
              "      <td>1</td>\n",
              "      <td>38</td>\n",
              "      <td>199</td>\n",
              "      <td>75</td>\n",
              "      <td>2</td>\n",
              "      <td>72.6</td>\n",
              "      <td>2.4</td>\n",
              "    </tr>\n",
              "    <tr>\n",
              "      <th>10</th>\n",
              "      <td>9</td>\n",
              "      <td>0</td>\n",
              "      <td>28</td>\n",
              "      <td>165</td>\n",
              "      <td>70</td>\n",
              "      <td>1</td>\n",
              "      <td>68.1</td>\n",
              "      <td>1.9</td>\n",
              "    </tr>\n",
              "  </tbody>\n",
              "</table>\n",
              "</div>\n",
              "      <button class=\"colab-df-convert\" onclick=\"convertToInteractive('df-78639a04-e980-4115-997e-cf8e47a30718')\"\n",
              "              title=\"Convert this dataframe to an interactive table.\"\n",
              "              style=\"display:none;\">\n",
              "        \n",
              "  <svg xmlns=\"http://www.w3.org/2000/svg\" height=\"24px\"viewBox=\"0 0 24 24\"\n",
              "       width=\"24px\">\n",
              "    <path d=\"M0 0h24v24H0V0z\" fill=\"none\"/>\n",
              "    <path d=\"M18.56 5.44l.94 2.06.94-2.06 2.06-.94-2.06-.94-.94-2.06-.94 2.06-2.06.94zm-11 1L8.5 8.5l.94-2.06 2.06-.94-2.06-.94L8.5 2.5l-.94 2.06-2.06.94zm10 10l.94 2.06.94-2.06 2.06-.94-2.06-.94-.94-2.06-.94 2.06-2.06.94z\"/><path d=\"M17.41 7.96l-1.37-1.37c-.4-.4-.92-.59-1.43-.59-.52 0-1.04.2-1.43.59L10.3 9.45l-7.72 7.72c-.78.78-.78 2.05 0 2.83L4 21.41c.39.39.9.59 1.41.59.51 0 1.02-.2 1.41-.59l7.78-7.78 2.81-2.81c.8-.78.8-2.07 0-2.86zM5.41 20L4 18.59l7.72-7.72 1.47 1.35L5.41 20z\"/>\n",
              "  </svg>\n",
              "      </button>\n",
              "      \n",
              "  <style>\n",
              "    .colab-df-container {\n",
              "      display:flex;\n",
              "      flex-wrap:wrap;\n",
              "      gap: 12px;\n",
              "    }\n",
              "\n",
              "    .colab-df-convert {\n",
              "      background-color: #E8F0FE;\n",
              "      border: none;\n",
              "      border-radius: 50%;\n",
              "      cursor: pointer;\n",
              "      display: none;\n",
              "      fill: #1967D2;\n",
              "      height: 32px;\n",
              "      padding: 0 0 0 0;\n",
              "      width: 32px;\n",
              "    }\n",
              "\n",
              "    .colab-df-convert:hover {\n",
              "      background-color: #E2EBFA;\n",
              "      box-shadow: 0px 1px 2px rgba(60, 64, 67, 0.3), 0px 1px 3px 1px rgba(60, 64, 67, 0.15);\n",
              "      fill: #174EA6;\n",
              "    }\n",
              "\n",
              "    [theme=dark] .colab-df-convert {\n",
              "      background-color: #3B4455;\n",
              "      fill: #D2E3FC;\n",
              "    }\n",
              "\n",
              "    [theme=dark] .colab-df-convert:hover {\n",
              "      background-color: #434B5C;\n",
              "      box-shadow: 0px 1px 3px 1px rgba(0, 0, 0, 0.15);\n",
              "      filter: drop-shadow(0px 1px 2px rgba(0, 0, 0, 0.3));\n",
              "      fill: #FFFFFF;\n",
              "    }\n",
              "  </style>\n",
              "\n",
              "      <script>\n",
              "        const buttonEl =\n",
              "          document.querySelector('#df-78639a04-e980-4115-997e-cf8e47a30718 button.colab-df-convert');\n",
              "        buttonEl.style.display =\n",
              "          google.colab.kernel.accessAllowed ? 'block' : 'none';\n",
              "\n",
              "        async function convertToInteractive(key) {\n",
              "          const element = document.querySelector('#df-78639a04-e980-4115-997e-cf8e47a30718');\n",
              "          const dataTable =\n",
              "            await google.colab.kernel.invokeFunction('convertToInteractive',\n",
              "                                                     [key], {});\n",
              "          if (!dataTable) return;\n",
              "\n",
              "          const docLinkHtml = 'Like what you see? Visit the ' +\n",
              "            '<a target=\"_blank\" href=https://colab.research.google.com/notebooks/data_table.ipynb>data table notebook</a>'\n",
              "            + ' to learn more about interactive tables.';\n",
              "          element.innerHTML = '';\n",
              "          dataTable['output_type'] = 'display_data';\n",
              "          await google.colab.output.renderOutput(dataTable, element);\n",
              "          const docLink = document.createElement('div');\n",
              "          docLink.innerHTML = docLinkHtml;\n",
              "          element.appendChild(docLink);\n",
              "        }\n",
              "      </script>\n",
              "    </div>\n",
              "  </div>\n",
              "  "
            ]
          },
          "metadata": {},
          "execution_count": 5
        }
      ]
    },
    {
      "cell_type": "markdown",
      "source": [
        "**Summary statistics by diet (phân nhóm giá trị weightlost theo diet)**"
      ],
      "metadata": {
        "id": "Et7DbihEkwbP"
      }
    },
    {
      "cell_type": "code",
      "source": [
        "w1 = df[(df[\"Diet\"] == 1)][\"Weightlost\"]\n",
        "w2 = df[(df[\"Diet\"] == 2)][\"Weightlost\"]\n",
        "w3 = df[(df[\"Diet\"] == 3)][\"Weightlost\"]"
      ],
      "metadata": {
        "id": "_iPiYT_Vk7k8"
      },
      "execution_count": 6,
      "outputs": []
    },
    {
      "cell_type": "markdown",
      "source": [
        "Trước khi kiểm định ANOVA ta cần tiến hành kiểm tra tập dữ liệu thỏa mãn 3 tính chất sau: \n",
        "+ Tất cả các nhóm đều độc lập với nhau\n",
        "+ Dữ liệu của mỗi nhóm đều tuân theo phân phối chuẩn. .\n",
        "+ Phương sai (variance) của các nhóm bằng nhau. "
      ],
      "metadata": {
        "id": "dnVoY0pYfFHG"
      }
    },
    {
      "cell_type": "markdown",
      "source": [
        "\n",
        "**Which diet was best for losing weight?(Chế độ ăn kiêng nào là tốt nhất để giảm cân?)**"
      ],
      "metadata": {
        "id": "oIjCOS_oeiTK"
      }
    },
    {
      "cell_type": "markdown",
      "source": [
        "**Kiểm tra phân phối chuẩn:**"
      ],
      "metadata": {
        "id": "HApEO1-j3lUN"
      }
    },
    {
      "cell_type": "markdown",
      "source": [
        "Phát biểu giả thiết:\n",
        "\n",
        "+ $H_0$ : Các mẫu tuân theo phân phối chuẩn.\n",
        "\n",
        "+ $H_a$ : Các mẫu không tuân theo phân phối chuẩn. "
      ],
      "metadata": {
        "id": "cgSTj-lm3oBq"
      }
    },
    {
      "cell_type": "code",
      "source": [
        "#Kiểm tra Diet1 với mức ý nghĩa 0.05: \n",
        "stat, p = st.shapiro(w1) \n",
        "print(\"Stat =\", stat, \"\\n\", \"p value =\", p)\n",
        "if p > 0.05:\n",
        "    print(\"không có bằng chứng để bác bỏ giả thiết H0\")\n",
        "else:\n",
        "    print(\"có bằng chứng để bác bỏ giả thiết H0, điều này ngụ ý chấp nhận giả thiết Ha\")"
      ],
      "metadata": {
        "colab": {
          "base_uri": "https://localhost:8080/"
        },
        "id": "BHpqon6LhUJD",
        "outputId": "76d84773-5404-4992-a031-123b27540bc6"
      },
      "execution_count": 7,
      "outputs": [
        {
          "output_type": "stream",
          "name": "stdout",
          "text": [
            "Stat = 0.9255314469337463 \n",
            " p value = 0.07748671621084213\n",
            "không có bằng chứng để bác bỏ giả thiết H0\n"
          ]
        }
      ]
    },
    {
      "cell_type": "code",
      "source": [
        "#Kiểm tra Diet2 với mức ý nghĩa 0.05: \n",
        "stat, p = st.shapiro(w2) \n",
        "print(\"Stat =\", stat, \"\\n\", \"p value =\", p)\n",
        "if p > 0.05:\n",
        "    print(\"không có bằng chứng để bác bỏ giả thiết H0\")\n",
        "else:\n",
        "    print(\"có bằng chứng để bác bỏ giả thiết H0, điều này ngụ ý chấp nhận giả thiết Ha\")"
      ],
      "metadata": {
        "colab": {
          "base_uri": "https://localhost:8080/"
        },
        "id": "WXpjzpseqEDC",
        "outputId": "510dd3ce-3e33-4af5-bff6-901fca49cc7c"
      },
      "execution_count": 8,
      "outputs": [
        {
          "output_type": "stream",
          "name": "stdout",
          "text": [
            "Stat = 0.9793620705604553 \n",
            " p value = 0.8721737861633301\n",
            "không có bằng chứng để bác bỏ giả thiết H0\n"
          ]
        }
      ]
    },
    {
      "cell_type": "code",
      "source": [
        "#Kiểm tra Diet3 với mức ý nghĩa 0.05: \n",
        "stat, p = st.shapiro(w3) \n",
        "print(\"Stat =\", stat, \"\\n\", \"p value =\", p)\n",
        "if p > 0.05:\n",
        "    print(\"không có bằng chứng để bác bỏ giả thiết H0\")\n",
        "else:\n",
        "    print(\"có bằng chứng để bác bỏ giả thiết H0, điều này ngụ ý chấp nhận giả thiết Ha\")"
      ],
      "metadata": {
        "colab": {
          "base_uri": "https://localhost:8080/"
        },
        "id": "8PwPiBpkqHbJ",
        "outputId": "4072f679-a2f4-4eba-fc78-5082f6d4947b"
      },
      "execution_count": 9,
      "outputs": [
        {
          "output_type": "stream",
          "name": "stdout",
          "text": [
            "Stat = 0.9601252675056458 \n",
            " p value = 0.37203603982925415\n",
            "không có bằng chứng để bác bỏ giả thiết H0\n"
          ]
        }
      ]
    },
    {
      "cell_type": "markdown",
      "source": [
        "=> Các mẫu đều tuân theo phân phối chuẩn"
      ],
      "metadata": {
        "id": "FtcY-4ROqXxK"
      }
    },
    {
      "cell_type": "markdown",
      "source": [
        "**Kiểm tra tính đồng nhất phương sai:**"
      ],
      "metadata": {
        "id": "4dtfmsPY30GL"
      }
    },
    {
      "cell_type": "markdown",
      "source": [
        "Phát biểu giả thuyết: \n",
        "\n",
        "+ $H_0$: Các mẫu có cùng phương sai. \n",
        "  \n",
        " \n",
        "+ $H_a$: Có sự khác biệt về phương sai của các mẫu. "
      ],
      "metadata": {
        "id": "daxYkvfR34Aj"
      }
    },
    {
      "cell_type": "code",
      "source": [
        "#Kiểm tra tính đồng nhất phương sai với mức ý nghĩa 0.05:\n",
        "stat, p = st.levene(w1, w2, w3) \n",
        "print(\"Statistic =\", stat, \"\\n\", \"p value =\", p)\n",
        "if p > 0.05:\n",
        "  print(\"không có bằng chứng để bác bỏ giả thiết H0\")\n",
        "else:\n",
        "  print(\"có bằng chứng để bác bỏ giả thiết H0, điều này ngụ ý chấp nhận giả thiết Ha\")"
      ],
      "metadata": {
        "colab": {
          "base_uri": "https://localhost:8080/"
        },
        "id": "h5FC-6HXr2dX",
        "outputId": "3a0b8602-9414-4522-b647-dfd952efc279"
      },
      "execution_count": 10,
      "outputs": [
        {
          "output_type": "stream",
          "name": "stdout",
          "text": [
            "Statistic = 0.46290764582507116 \n",
            " p value = 0.6312856401117967\n",
            "không có bằng chứng để bác bỏ giả thiết H0\n"
          ]
        }
      ]
    },
    {
      "cell_type": "markdown",
      "source": [
        "=> Các mẫu có sự đồng nhất về phương sai"
      ],
      "metadata": {
        "id": "OkO-UIRjsJBJ"
      }
    },
    {
      "cell_type": "markdown",
      "source": [
        "Vì các mẫu độc lập, tuân theo phân phối chuẩn và có sự đồng nhất về phương sai giữa các mẫu nên ta có thể tiến hành kiểm định ANOVA"
      ],
      "metadata": {
        "id": "XXXvk2dXsOUf"
      }
    },
    {
      "cell_type": "markdown",
      "source": [
        "**Kiểm tra tính đồng nhất về giá trị trung bình:**"
      ],
      "metadata": {
        "id": "DlbTZScE3-X7"
      }
    },
    {
      "cell_type": "markdown",
      "source": [
        "Phát biểu giả thuyết:\n",
        "\n",
        "+ $H_0$: Các mẫu có giá trị trung bình bằng nhau. \n",
        "\n",
        "+ $H_a$: Có sự khác biệt về giá trị trung bình của các mẫu."
      ],
      "metadata": {
        "id": "R-uyEwt84DOe"
      }
    },
    {
      "cell_type": "code",
      "source": [
        "stat, p = st.f_oneway(w1, w2, w3) \n",
        "print(\"Statistic =\", stat, \"\\n\", \"p value =\", p)\n",
        "if p > 0.05:\n",
        "  print(\"không có bằng chứng để bác bỏ giả thiết H0\")\n",
        "else:\n",
        "  print(\"có bằng chứng để bác bỏ giả thiết H0, điều này ngụ ý chấp nhận giả thiết Ha\")"
      ],
      "metadata": {
        "colab": {
          "base_uri": "https://localhost:8080/"
        },
        "id": "LuTAqLwnkLPn",
        "outputId": "34052d69-6527-47a1-f4c5-a11b99e20d53"
      },
      "execution_count": 11,
      "outputs": [
        {
          "output_type": "stream",
          "name": "stdout",
          "text": [
            "Statistic = 5.383104474859926 \n",
            " p value = 0.006595853108669741\n",
            "có bằng chứng để bác bỏ giả thiết H0, điều này ngụ ý chấp nhận giả thiết Ha\n"
          ]
        }
      ]
    },
    {
      "cell_type": "markdown",
      "source": [
        "**=> Điều này chứng tỏ chế độ ăn kiêng có ảnh hưởng đến việc giảm cân.**"
      ],
      "metadata": {
        "id": "7s1fw5KRtIrv"
      }
    },
    {
      "cell_type": "code",
      "source": [
        "d = {}\n",
        "d[\"D1\"] = np.mean(w1)\n",
        "d[\"D2\"] = np.mean(w2)\n",
        "d[\"D3\"] = np.mean(w3)\n",
        "d0 = pd.DataFrame(d, index=[''])\n",
        "d0"
      ],
      "metadata": {
        "colab": {
          "base_uri": "https://localhost:8080/",
          "height": 81
        },
        "id": "IIaI01x0tgo_",
        "outputId": "2441e749-39e1-4dc3-ff6a-7e8ec805a737"
      },
      "execution_count": 12,
      "outputs": [
        {
          "output_type": "execute_result",
          "data": {
            "text/plain": [
              "   D1     D2        D3\n",
              "  3.3  3.268  5.148148"
            ],
            "text/html": [
              "\n",
              "  <div id=\"df-9f44a20d-6fd9-44b5-8a0e-f1d49bc5b23c\">\n",
              "    <div class=\"colab-df-container\">\n",
              "      <div>\n",
              "<style scoped>\n",
              "    .dataframe tbody tr th:only-of-type {\n",
              "        vertical-align: middle;\n",
              "    }\n",
              "\n",
              "    .dataframe tbody tr th {\n",
              "        vertical-align: top;\n",
              "    }\n",
              "\n",
              "    .dataframe thead th {\n",
              "        text-align: right;\n",
              "    }\n",
              "</style>\n",
              "<table border=\"1\" class=\"dataframe\">\n",
              "  <thead>\n",
              "    <tr style=\"text-align: right;\">\n",
              "      <th></th>\n",
              "      <th>D1</th>\n",
              "      <th>D2</th>\n",
              "      <th>D3</th>\n",
              "    </tr>\n",
              "  </thead>\n",
              "  <tbody>\n",
              "    <tr>\n",
              "      <th></th>\n",
              "      <td>3.3</td>\n",
              "      <td>3.268</td>\n",
              "      <td>5.148148</td>\n",
              "    </tr>\n",
              "  </tbody>\n",
              "</table>\n",
              "</div>\n",
              "      <button class=\"colab-df-convert\" onclick=\"convertToInteractive('df-9f44a20d-6fd9-44b5-8a0e-f1d49bc5b23c')\"\n",
              "              title=\"Convert this dataframe to an interactive table.\"\n",
              "              style=\"display:none;\">\n",
              "        \n",
              "  <svg xmlns=\"http://www.w3.org/2000/svg\" height=\"24px\"viewBox=\"0 0 24 24\"\n",
              "       width=\"24px\">\n",
              "    <path d=\"M0 0h24v24H0V0z\" fill=\"none\"/>\n",
              "    <path d=\"M18.56 5.44l.94 2.06.94-2.06 2.06-.94-2.06-.94-.94-2.06-.94 2.06-2.06.94zm-11 1L8.5 8.5l.94-2.06 2.06-.94-2.06-.94L8.5 2.5l-.94 2.06-2.06.94zm10 10l.94 2.06.94-2.06 2.06-.94-2.06-.94-.94-2.06-.94 2.06-2.06.94z\"/><path d=\"M17.41 7.96l-1.37-1.37c-.4-.4-.92-.59-1.43-.59-.52 0-1.04.2-1.43.59L10.3 9.45l-7.72 7.72c-.78.78-.78 2.05 0 2.83L4 21.41c.39.39.9.59 1.41.59.51 0 1.02-.2 1.41-.59l7.78-7.78 2.81-2.81c.8-.78.8-2.07 0-2.86zM5.41 20L4 18.59l7.72-7.72 1.47 1.35L5.41 20z\"/>\n",
              "  </svg>\n",
              "      </button>\n",
              "      \n",
              "  <style>\n",
              "    .colab-df-container {\n",
              "      display:flex;\n",
              "      flex-wrap:wrap;\n",
              "      gap: 12px;\n",
              "    }\n",
              "\n",
              "    .colab-df-convert {\n",
              "      background-color: #E8F0FE;\n",
              "      border: none;\n",
              "      border-radius: 50%;\n",
              "      cursor: pointer;\n",
              "      display: none;\n",
              "      fill: #1967D2;\n",
              "      height: 32px;\n",
              "      padding: 0 0 0 0;\n",
              "      width: 32px;\n",
              "    }\n",
              "\n",
              "    .colab-df-convert:hover {\n",
              "      background-color: #E2EBFA;\n",
              "      box-shadow: 0px 1px 2px rgba(60, 64, 67, 0.3), 0px 1px 3px 1px rgba(60, 64, 67, 0.15);\n",
              "      fill: #174EA6;\n",
              "    }\n",
              "\n",
              "    [theme=dark] .colab-df-convert {\n",
              "      background-color: #3B4455;\n",
              "      fill: #D2E3FC;\n",
              "    }\n",
              "\n",
              "    [theme=dark] .colab-df-convert:hover {\n",
              "      background-color: #434B5C;\n",
              "      box-shadow: 0px 1px 3px 1px rgba(0, 0, 0, 0.15);\n",
              "      filter: drop-shadow(0px 1px 2px rgba(0, 0, 0, 0.3));\n",
              "      fill: #FFFFFF;\n",
              "    }\n",
              "  </style>\n",
              "\n",
              "      <script>\n",
              "        const buttonEl =\n",
              "          document.querySelector('#df-9f44a20d-6fd9-44b5-8a0e-f1d49bc5b23c button.colab-df-convert');\n",
              "        buttonEl.style.display =\n",
              "          google.colab.kernel.accessAllowed ? 'block' : 'none';\n",
              "\n",
              "        async function convertToInteractive(key) {\n",
              "          const element = document.querySelector('#df-9f44a20d-6fd9-44b5-8a0e-f1d49bc5b23c');\n",
              "          const dataTable =\n",
              "            await google.colab.kernel.invokeFunction('convertToInteractive',\n",
              "                                                     [key], {});\n",
              "          if (!dataTable) return;\n",
              "\n",
              "          const docLinkHtml = 'Like what you see? Visit the ' +\n",
              "            '<a target=\"_blank\" href=https://colab.research.google.com/notebooks/data_table.ipynb>data table notebook</a>'\n",
              "            + ' to learn more about interactive tables.';\n",
              "          element.innerHTML = '';\n",
              "          dataTable['output_type'] = 'display_data';\n",
              "          await google.colab.output.renderOutput(dataTable, element);\n",
              "          const docLink = document.createElement('div');\n",
              "          docLink.innerHTML = docLinkHtml;\n",
              "          element.appendChild(docLink);\n",
              "        }\n",
              "      </script>\n",
              "    </div>\n",
              "  </div>\n",
              "  "
            ]
          },
          "metadata": {},
          "execution_count": 12
        }
      ]
    },
    {
      "cell_type": "markdown",
      "source": [
        "**=> Chế độ ăn kiêng hiệu quả nhất là nhóm Diet 3**"
      ],
      "metadata": {
        "id": "7hxZDGQOqcAn"
      }
    },
    {
      "cell_type": "markdown",
      "source": [
        "**Are there gender differences for weight loss?(Có sự khác biệt về giới tính đối với việc giảm cân?)**"
      ],
      "metadata": {
        "id": "fQT3PIm5vofs"
      }
    },
    {
      "cell_type": "code",
      "source": [
        "#Phân nhóm giá trị Weightlost theo gender: \n",
        "g0 = df[(df[\"gender\"] == '0')][\"Weightlost\"]\n",
        "g1 = df[(df[\"gender\"] == '1')][\"Weightlost\"]"
      ],
      "metadata": {
        "id": "Tsi8zDtuvoKr"
      },
      "execution_count": 13,
      "outputs": []
    },
    {
      "cell_type": "markdown",
      "source": [
        "Phát biểu giả thiết:\n",
        "\n",
        "+ $H_0$ : Chỉ số cân nặng giảm được của nam và nữ bằng nhau.\n",
        "\n",
        "+ $H_a$ : Chỉ số cân nặng giảm được của nam và nữ khác nhau. "
      ],
      "metadata": {
        "id": "TezrxfkOwONt"
      }
    },
    {
      "cell_type": "code",
      "source": [
        "ttest_score, p = st.ttest_ind(g0, g1, equal_var=False)\n",
        "print(\"Stat =\", ttest_score, \"P_value =\", p)\n",
        "if p > 0.05:\n",
        "    print(\"không có bằng chứng để bác bỏ giả thiết H0\")\n",
        "else:\n",
        "    print(\"có bằng chứng để bác bỏ giả thiết H0, điều này ngụ ý chấp nhận giả thiết Ha\")"
      ],
      "metadata": {
        "colab": {
          "base_uri": "https://localhost:8080/"
        },
        "id": "YkYTuI-SwFWy",
        "outputId": "9dfae129-d9f5-48ad-df11-34830ac674ac"
      },
      "execution_count": 14,
      "outputs": [
        {
          "output_type": "stream",
          "name": "stdout",
          "text": [
            "Stat = -0.20909666699582563 P_value = 0.8349905694773132\n",
            "không có bằng chứng để bác bỏ giả thiết H0\n"
          ]
        }
      ]
    },
    {
      "cell_type": "markdown",
      "source": [
        "**=> Giới tính không có ảnh hưởng đến việc giảm cân**"
      ],
      "metadata": {
        "id": "lxpe84Ajwtvf"
      }
    }
  ]
}